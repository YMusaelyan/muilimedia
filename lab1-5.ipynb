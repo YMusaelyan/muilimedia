{
  "nbformat": 4,
  "nbformat_minor": 0,
  "metadata": {
    "colab": {
      "provenance": [],
      "collapsed_sections": [
        "K0VNiz2Rq303"
      ]
    },
    "kernelspec": {
      "name": "python3",
      "display_name": "Python 3"
    },
    "language_info": {
      "name": "python"
    }
  },
  "cells": [
    {
      "cell_type": "markdown",
      "source": [
        "# **Выбор датасета**\n",
        "\n",
        "Мной был выбран датасет содержит данные здания, для энергетически эффективной работы отопления и охлаждения.\n",
        "\n",
        "Классификация: предсказание класса по требованиям к отоплению.\n",
        "\n",
        "Регрессия: предсказание требований к отоплению и охлаждению по заданным параметрам зданий.\n",
        "\n",
        "Эта задача имеет практическое применение в строительстве. Определение класса отопления и определение самих требований отопления и охлаждения может помочь строителям, проектировщикам к более быстрым рассчетам."
      ],
      "metadata": {
        "id": "EqUqSpU_l0pZ"
      }
    },
    {
      "cell_type": "markdown",
      "source": [
        "# **Выбор метрик**\n",
        "\n",
        "Для классификации я выбираю две метрики: accuracy, для общей оценки моделей, и f1, для оценки общей классификации.\n",
        "\n",
        "Для регрессии я выбрал три метрики: MAE, для оценивания средней величины отклонений, MSE, для оценивания крупных ошибок, R2, для просмотра качества модели."
      ],
      "metadata": {
        "id": "zO1nW5ozn2-F"
      }
    },
    {
      "cell_type": "markdown",
      "source": [
        "# Алгоритм KNN"
      ],
      "metadata": {
        "id": "47W14lQyJDno"
      }
    },
    {
      "cell_type": "markdown",
      "source": [
        "## Задача Классификации"
      ],
      "metadata": {
        "id": "TgZKLp2UI81b"
      }
    },
    {
      "cell_type": "markdown",
      "source": [
        "Импортируем нужные библиотеки"
      ],
      "metadata": {
        "id": "dja-QEZgsh0t"
      }
    },
    {
      "cell_type": "code",
      "source": [
        "from collections import Counter\n",
        "import numpy as np\n",
        "import pandas as pd\n",
        "import matplotlib.pyplot as plt\n",
        "from sklearn.model_selection import train_test_split, GridSearchCV\n",
        "from sklearn.preprocessing import StandardScaler\n",
        "from sklearn.neighbors import KNeighborsClassifier\n",
        "from sklearn.metrics import accuracy_score, f1_score, roc_auc_score, classification_report"
      ],
      "metadata": {
        "id": "AJKV_kSvBnQP"
      },
      "execution_count": 2,
      "outputs": []
    },
    {
      "cell_type": "markdown",
      "source": [
        "Загрузим данные датасета, для удобства поменяем названия колонок и выведем первые данные датасета для просмотра\n"
      ],
      "metadata": {
        "id": "zHhCXLoTBtd9"
      }
    },
    {
      "cell_type": "code",
      "source": [
        "data = pd.read_csv('energy_efficiency_data.csv')\n",
        "\n",
        "data.columns = [\n",
        "    \"Relative_Compactness\", \"Surface_Area\", \"Wall_Area\", \"Roof_Area\",\n",
        "    \"Overall_Height\", \"Orientation\", \"Glazing_Area\", \"Glazing_Area_Distribution\",\n",
        "    \"Heating_Load\", \"Cooling_Load\"\n",
        "]\n",
        "\n",
        "data.head()\n"
      ],
      "metadata": {
        "id": "CD4oFbOr8M6l",
        "colab": {
          "base_uri": "https://localhost:8080/",
          "height": 206
        },
        "outputId": "87e43dfe-e6bb-44c7-c105-b3604cbd0de3"
      },
      "execution_count": 3,
      "outputs": [
        {
          "output_type": "execute_result",
          "data": {
            "text/plain": [
              "   Relative_Compactness  Surface_Area  Wall_Area  Roof_Area  Overall_Height  \\\n",
              "0                  0.98         514.5      294.0     110.25             7.0   \n",
              "1                  0.98         514.5      294.0     110.25             7.0   \n",
              "2                  0.98         514.5      294.0     110.25             7.0   \n",
              "3                  0.98         514.5      294.0     110.25             7.0   \n",
              "4                  0.90         563.5      318.5     122.50             7.0   \n",
              "\n",
              "   Orientation  Glazing_Area  Glazing_Area_Distribution  Heating_Load  \\\n",
              "0            2           0.0                          0         15.55   \n",
              "1            3           0.0                          0         15.55   \n",
              "2            4           0.0                          0         15.55   \n",
              "3            5           0.0                          0         15.55   \n",
              "4            2           0.0                          0         20.84   \n",
              "\n",
              "   Cooling_Load  \n",
              "0         21.33  \n",
              "1         21.33  \n",
              "2         21.33  \n",
              "3         21.33  \n",
              "4         28.28  "
            ],
            "text/html": [
              "\n",
              "  <div id=\"df-7d5624d6-d99c-4c1b-a4f6-1afd5ed7e308\" class=\"colab-df-container\">\n",
              "    <div>\n",
              "<style scoped>\n",
              "    .dataframe tbody tr th:only-of-type {\n",
              "        vertical-align: middle;\n",
              "    }\n",
              "\n",
              "    .dataframe tbody tr th {\n",
              "        vertical-align: top;\n",
              "    }\n",
              "\n",
              "    .dataframe thead th {\n",
              "        text-align: right;\n",
              "    }\n",
              "</style>\n",
              "<table border=\"1\" class=\"dataframe\">\n",
              "  <thead>\n",
              "    <tr style=\"text-align: right;\">\n",
              "      <th></th>\n",
              "      <th>Relative_Compactness</th>\n",
              "      <th>Surface_Area</th>\n",
              "      <th>Wall_Area</th>\n",
              "      <th>Roof_Area</th>\n",
              "      <th>Overall_Height</th>\n",
              "      <th>Orientation</th>\n",
              "      <th>Glazing_Area</th>\n",
              "      <th>Glazing_Area_Distribution</th>\n",
              "      <th>Heating_Load</th>\n",
              "      <th>Cooling_Load</th>\n",
              "    </tr>\n",
              "  </thead>\n",
              "  <tbody>\n",
              "    <tr>\n",
              "      <th>0</th>\n",
              "      <td>0.98</td>\n",
              "      <td>514.5</td>\n",
              "      <td>294.0</td>\n",
              "      <td>110.25</td>\n",
              "      <td>7.0</td>\n",
              "      <td>2</td>\n",
              "      <td>0.0</td>\n",
              "      <td>0</td>\n",
              "      <td>15.55</td>\n",
              "      <td>21.33</td>\n",
              "    </tr>\n",
              "    <tr>\n",
              "      <th>1</th>\n",
              "      <td>0.98</td>\n",
              "      <td>514.5</td>\n",
              "      <td>294.0</td>\n",
              "      <td>110.25</td>\n",
              "      <td>7.0</td>\n",
              "      <td>3</td>\n",
              "      <td>0.0</td>\n",
              "      <td>0</td>\n",
              "      <td>15.55</td>\n",
              "      <td>21.33</td>\n",
              "    </tr>\n",
              "    <tr>\n",
              "      <th>2</th>\n",
              "      <td>0.98</td>\n",
              "      <td>514.5</td>\n",
              "      <td>294.0</td>\n",
              "      <td>110.25</td>\n",
              "      <td>7.0</td>\n",
              "      <td>4</td>\n",
              "      <td>0.0</td>\n",
              "      <td>0</td>\n",
              "      <td>15.55</td>\n",
              "      <td>21.33</td>\n",
              "    </tr>\n",
              "    <tr>\n",
              "      <th>3</th>\n",
              "      <td>0.98</td>\n",
              "      <td>514.5</td>\n",
              "      <td>294.0</td>\n",
              "      <td>110.25</td>\n",
              "      <td>7.0</td>\n",
              "      <td>5</td>\n",
              "      <td>0.0</td>\n",
              "      <td>0</td>\n",
              "      <td>15.55</td>\n",
              "      <td>21.33</td>\n",
              "    </tr>\n",
              "    <tr>\n",
              "      <th>4</th>\n",
              "      <td>0.90</td>\n",
              "      <td>563.5</td>\n",
              "      <td>318.5</td>\n",
              "      <td>122.50</td>\n",
              "      <td>7.0</td>\n",
              "      <td>2</td>\n",
              "      <td>0.0</td>\n",
              "      <td>0</td>\n",
              "      <td>20.84</td>\n",
              "      <td>28.28</td>\n",
              "    </tr>\n",
              "  </tbody>\n",
              "</table>\n",
              "</div>\n",
              "    <div class=\"colab-df-buttons\">\n",
              "\n",
              "  <div class=\"colab-df-container\">\n",
              "    <button class=\"colab-df-convert\" onclick=\"convertToInteractive('df-7d5624d6-d99c-4c1b-a4f6-1afd5ed7e308')\"\n",
              "            title=\"Convert this dataframe to an interactive table.\"\n",
              "            style=\"display:none;\">\n",
              "\n",
              "  <svg xmlns=\"http://www.w3.org/2000/svg\" height=\"24px\" viewBox=\"0 -960 960 960\">\n",
              "    <path d=\"M120-120v-720h720v720H120Zm60-500h600v-160H180v160Zm220 220h160v-160H400v160Zm0 220h160v-160H400v160ZM180-400h160v-160H180v160Zm440 0h160v-160H620v160ZM180-180h160v-160H180v160Zm440 0h160v-160H620v160Z\"/>\n",
              "  </svg>\n",
              "    </button>\n",
              "\n",
              "  <style>\n",
              "    .colab-df-container {\n",
              "      display:flex;\n",
              "      gap: 12px;\n",
              "    }\n",
              "\n",
              "    .colab-df-convert {\n",
              "      background-color: #E8F0FE;\n",
              "      border: none;\n",
              "      border-radius: 50%;\n",
              "      cursor: pointer;\n",
              "      display: none;\n",
              "      fill: #1967D2;\n",
              "      height: 32px;\n",
              "      padding: 0 0 0 0;\n",
              "      width: 32px;\n",
              "    }\n",
              "\n",
              "    .colab-df-convert:hover {\n",
              "      background-color: #E2EBFA;\n",
              "      box-shadow: 0px 1px 2px rgba(60, 64, 67, 0.3), 0px 1px 3px 1px rgba(60, 64, 67, 0.15);\n",
              "      fill: #174EA6;\n",
              "    }\n",
              "\n",
              "    .colab-df-buttons div {\n",
              "      margin-bottom: 4px;\n",
              "    }\n",
              "\n",
              "    [theme=dark] .colab-df-convert {\n",
              "      background-color: #3B4455;\n",
              "      fill: #D2E3FC;\n",
              "    }\n",
              "\n",
              "    [theme=dark] .colab-df-convert:hover {\n",
              "      background-color: #434B5C;\n",
              "      box-shadow: 0px 1px 3px 1px rgba(0, 0, 0, 0.15);\n",
              "      filter: drop-shadow(0px 1px 2px rgba(0, 0, 0, 0.3));\n",
              "      fill: #FFFFFF;\n",
              "    }\n",
              "  </style>\n",
              "\n",
              "    <script>\n",
              "      const buttonEl =\n",
              "        document.querySelector('#df-7d5624d6-d99c-4c1b-a4f6-1afd5ed7e308 button.colab-df-convert');\n",
              "      buttonEl.style.display =\n",
              "        google.colab.kernel.accessAllowed ? 'block' : 'none';\n",
              "\n",
              "      async function convertToInteractive(key) {\n",
              "        const element = document.querySelector('#df-7d5624d6-d99c-4c1b-a4f6-1afd5ed7e308');\n",
              "        const dataTable =\n",
              "          await google.colab.kernel.invokeFunction('convertToInteractive',\n",
              "                                                    [key], {});\n",
              "        if (!dataTable) return;\n",
              "\n",
              "        const docLinkHtml = 'Like what you see? Visit the ' +\n",
              "          '<a target=\"_blank\" href=https://colab.research.google.com/notebooks/data_table.ipynb>data table notebook</a>'\n",
              "          + ' to learn more about interactive tables.';\n",
              "        element.innerHTML = '';\n",
              "        dataTable['output_type'] = 'display_data';\n",
              "        await google.colab.output.renderOutput(dataTable, element);\n",
              "        const docLink = document.createElement('div');\n",
              "        docLink.innerHTML = docLinkHtml;\n",
              "        element.appendChild(docLink);\n",
              "      }\n",
              "    </script>\n",
              "  </div>\n",
              "\n",
              "\n",
              "<div id=\"df-7667a735-25e4-4a3a-9759-61e7ef6f42a2\">\n",
              "  <button class=\"colab-df-quickchart\" onclick=\"quickchart('df-7667a735-25e4-4a3a-9759-61e7ef6f42a2')\"\n",
              "            title=\"Suggest charts\"\n",
              "            style=\"display:none;\">\n",
              "\n",
              "<svg xmlns=\"http://www.w3.org/2000/svg\" height=\"24px\"viewBox=\"0 0 24 24\"\n",
              "     width=\"24px\">\n",
              "    <g>\n",
              "        <path d=\"M19 3H5c-1.1 0-2 .9-2 2v14c0 1.1.9 2 2 2h14c1.1 0 2-.9 2-2V5c0-1.1-.9-2-2-2zM9 17H7v-7h2v7zm4 0h-2V7h2v10zm4 0h-2v-4h2v4z\"/>\n",
              "    </g>\n",
              "</svg>\n",
              "  </button>\n",
              "\n",
              "<style>\n",
              "  .colab-df-quickchart {\n",
              "      --bg-color: #E8F0FE;\n",
              "      --fill-color: #1967D2;\n",
              "      --hover-bg-color: #E2EBFA;\n",
              "      --hover-fill-color: #174EA6;\n",
              "      --disabled-fill-color: #AAA;\n",
              "      --disabled-bg-color: #DDD;\n",
              "  }\n",
              "\n",
              "  [theme=dark] .colab-df-quickchart {\n",
              "      --bg-color: #3B4455;\n",
              "      --fill-color: #D2E3FC;\n",
              "      --hover-bg-color: #434B5C;\n",
              "      --hover-fill-color: #FFFFFF;\n",
              "      --disabled-bg-color: #3B4455;\n",
              "      --disabled-fill-color: #666;\n",
              "  }\n",
              "\n",
              "  .colab-df-quickchart {\n",
              "    background-color: var(--bg-color);\n",
              "    border: none;\n",
              "    border-radius: 50%;\n",
              "    cursor: pointer;\n",
              "    display: none;\n",
              "    fill: var(--fill-color);\n",
              "    height: 32px;\n",
              "    padding: 0;\n",
              "    width: 32px;\n",
              "  }\n",
              "\n",
              "  .colab-df-quickchart:hover {\n",
              "    background-color: var(--hover-bg-color);\n",
              "    box-shadow: 0 1px 2px rgba(60, 64, 67, 0.3), 0 1px 3px 1px rgba(60, 64, 67, 0.15);\n",
              "    fill: var(--button-hover-fill-color);\n",
              "  }\n",
              "\n",
              "  .colab-df-quickchart-complete:disabled,\n",
              "  .colab-df-quickchart-complete:disabled:hover {\n",
              "    background-color: var(--disabled-bg-color);\n",
              "    fill: var(--disabled-fill-color);\n",
              "    box-shadow: none;\n",
              "  }\n",
              "\n",
              "  .colab-df-spinner {\n",
              "    border: 2px solid var(--fill-color);\n",
              "    border-color: transparent;\n",
              "    border-bottom-color: var(--fill-color);\n",
              "    animation:\n",
              "      spin 1s steps(1) infinite;\n",
              "  }\n",
              "\n",
              "  @keyframes spin {\n",
              "    0% {\n",
              "      border-color: transparent;\n",
              "      border-bottom-color: var(--fill-color);\n",
              "      border-left-color: var(--fill-color);\n",
              "    }\n",
              "    20% {\n",
              "      border-color: transparent;\n",
              "      border-left-color: var(--fill-color);\n",
              "      border-top-color: var(--fill-color);\n",
              "    }\n",
              "    30% {\n",
              "      border-color: transparent;\n",
              "      border-left-color: var(--fill-color);\n",
              "      border-top-color: var(--fill-color);\n",
              "      border-right-color: var(--fill-color);\n",
              "    }\n",
              "    40% {\n",
              "      border-color: transparent;\n",
              "      border-right-color: var(--fill-color);\n",
              "      border-top-color: var(--fill-color);\n",
              "    }\n",
              "    60% {\n",
              "      border-color: transparent;\n",
              "      border-right-color: var(--fill-color);\n",
              "    }\n",
              "    80% {\n",
              "      border-color: transparent;\n",
              "      border-right-color: var(--fill-color);\n",
              "      border-bottom-color: var(--fill-color);\n",
              "    }\n",
              "    90% {\n",
              "      border-color: transparent;\n",
              "      border-bottom-color: var(--fill-color);\n",
              "    }\n",
              "  }\n",
              "</style>\n",
              "\n",
              "  <script>\n",
              "    async function quickchart(key) {\n",
              "      const quickchartButtonEl =\n",
              "        document.querySelector('#' + key + ' button');\n",
              "      quickchartButtonEl.disabled = true;  // To prevent multiple clicks.\n",
              "      quickchartButtonEl.classList.add('colab-df-spinner');\n",
              "      try {\n",
              "        const charts = await google.colab.kernel.invokeFunction(\n",
              "            'suggestCharts', [key], {});\n",
              "      } catch (error) {\n",
              "        console.error('Error during call to suggestCharts:', error);\n",
              "      }\n",
              "      quickchartButtonEl.classList.remove('colab-df-spinner');\n",
              "      quickchartButtonEl.classList.add('colab-df-quickchart-complete');\n",
              "    }\n",
              "    (() => {\n",
              "      let quickchartButtonEl =\n",
              "        document.querySelector('#df-7667a735-25e4-4a3a-9759-61e7ef6f42a2 button');\n",
              "      quickchartButtonEl.style.display =\n",
              "        google.colab.kernel.accessAllowed ? 'block' : 'none';\n",
              "    })();\n",
              "  </script>\n",
              "</div>\n",
              "    </div>\n",
              "  </div>\n"
            ],
            "application/vnd.google.colaboratory.intrinsic+json": {
              "type": "dataframe",
              "variable_name": "data",
              "summary": "{\n  \"name\": \"data\",\n  \"rows\": 768,\n  \"fields\": [\n    {\n      \"column\": \"Relative_Compactness\",\n      \"properties\": {\n        \"dtype\": \"number\",\n        \"std\": 0.10577747587475206,\n        \"min\": 0.62,\n        \"max\": 0.98,\n        \"num_unique_values\": 12,\n        \"samples\": [\n          0.64,\n          0.66,\n          0.98\n        ],\n        \"semantic_type\": \"\",\n        \"description\": \"\"\n      }\n    },\n    {\n      \"column\": \"Surface_Area\",\n      \"properties\": {\n        \"dtype\": \"number\",\n        \"std\": 88.08611605586826,\n        \"min\": 514.5,\n        \"max\": 808.5,\n        \"num_unique_values\": 12,\n        \"samples\": [\n          784.0,\n          759.5,\n          514.5\n        ],\n        \"semantic_type\": \"\",\n        \"description\": \"\"\n      }\n    },\n    {\n      \"column\": \"Wall_Area\",\n      \"properties\": {\n        \"dtype\": \"number\",\n        \"std\": 43.6264814379949,\n        \"min\": 245.0,\n        \"max\": 416.5,\n        \"num_unique_values\": 7,\n        \"samples\": [\n          294.0,\n          318.5,\n          269.5\n        ],\n        \"semantic_type\": \"\",\n        \"description\": \"\"\n      }\n    },\n    {\n      \"column\": \"Roof_Area\",\n      \"properties\": {\n        \"dtype\": \"number\",\n        \"std\": 45.165950222920344,\n        \"min\": 110.25,\n        \"max\": 220.5,\n        \"num_unique_values\": 4,\n        \"samples\": [\n          122.5,\n          220.5,\n          110.25\n        ],\n        \"semantic_type\": \"\",\n        \"description\": \"\"\n      }\n    },\n    {\n      \"column\": \"Overall_Height\",\n      \"properties\": {\n        \"dtype\": \"number\",\n        \"std\": 1.7511404367453496,\n        \"min\": 3.5,\n        \"max\": 7.0,\n        \"num_unique_values\": 2,\n        \"samples\": [\n          3.5,\n          7.0\n        ],\n        \"semantic_type\": \"\",\n        \"description\": \"\"\n      }\n    },\n    {\n      \"column\": \"Orientation\",\n      \"properties\": {\n        \"dtype\": \"number\",\n        \"std\": 1,\n        \"min\": 2,\n        \"max\": 5,\n        \"num_unique_values\": 4,\n        \"samples\": [\n          3,\n          5\n        ],\n        \"semantic_type\": \"\",\n        \"description\": \"\"\n      }\n    },\n    {\n      \"column\": \"Glazing_Area\",\n      \"properties\": {\n        \"dtype\": \"number\",\n        \"std\": 0.13322056291470877,\n        \"min\": 0.0,\n        \"max\": 0.4,\n        \"num_unique_values\": 4,\n        \"samples\": [\n          0.1,\n          0.4\n        ],\n        \"semantic_type\": \"\",\n        \"description\": \"\"\n      }\n    },\n    {\n      \"column\": \"Glazing_Area_Distribution\",\n      \"properties\": {\n        \"dtype\": \"number\",\n        \"std\": 1,\n        \"min\": 0,\n        \"max\": 5,\n        \"num_unique_values\": 6,\n        \"samples\": [\n          0,\n          1\n        ],\n        \"semantic_type\": \"\",\n        \"description\": \"\"\n      }\n    },\n    {\n      \"column\": \"Heating_Load\",\n      \"properties\": {\n        \"dtype\": \"number\",\n        \"std\": 10.090195732006162,\n        \"min\": 6.01,\n        \"max\": 43.1,\n        \"num_unique_values\": 586,\n        \"samples\": [\n          16.47,\n          24.94\n        ],\n        \"semantic_type\": \"\",\n        \"description\": \"\"\n      }\n    },\n    {\n      \"column\": \"Cooling_Load\",\n      \"properties\": {\n        \"dtype\": \"number\",\n        \"std\": 9.513305562326163,\n        \"min\": 10.9,\n        \"max\": 48.03,\n        \"num_unique_values\": 636,\n        \"samples\": [\n          21.09,\n          20.82\n        ],\n        \"semantic_type\": \"\",\n        \"description\": \"\"\n      }\n    }\n  ]\n}"
            }
          },
          "metadata": {},
          "execution_count": 3
        }
      ]
    },
    {
      "cell_type": "code",
      "source": [
        "data.Heating_Load.hist()"
      ],
      "metadata": {
        "colab": {
          "base_uri": "https://localhost:8080/",
          "height": 447
        },
        "id": "ATKxJ8MDp8Ht",
        "outputId": "ae6ad9eb-ea12-41bf-e53a-8896886690ce"
      },
      "execution_count": 4,
      "outputs": [
        {
          "output_type": "execute_result",
          "data": {
            "text/plain": [
              "<Axes: >"
            ]
          },
          "metadata": {},
          "execution_count": 4
        },
        {
          "output_type": "display_data",
          "data": {
            "text/plain": [
              "<Figure size 640x480 with 1 Axes>"
            ],
            "image/png": "[encoded data removed]"
          },
          "metadata": {}
        }
      ]
    },
    {
      "cell_type": "markdown",
      "source": [
        "Выберем переменную для классификации, и для удобства удалил ненужные столбцы"
      ],
      "metadata": {
        "id": "U-Z2sjeqCEa5"
      }
    },
    {
      "cell_type": "code",
      "source": [
        "data['Heating_Load_Class'] = pd.qcut(data['Heating_Load'], q=3, labels=['Low', 'Medium', 'High'])\n",
        "\n",
        "data = data.drop(['Heating_Load', 'Cooling_Load'], axis=1)\n"
      ],
      "metadata": {
        "id": "_fpbV0dl8YMQ"
      },
      "execution_count": 5,
      "outputs": []
    },
    {
      "cell_type": "code",
      "source": [
        "data.head()"
      ],
      "metadata": {
        "colab": {
          "base_uri": "https://localhost:8080/",
          "height": 206
        },
        "id": "E7awiaOQqZYR",
        "outputId": "e2f065b0-c6dc-48db-ad84-bf2afb5c6463"
      },
      "execution_count": 6,
      "outputs": [
        {
          "output_type": "execute_result",
          "data": {
            "text/plain": [
              "   Relative_Compactness  Surface_Area  Wall_Area  Roof_Area  Overall_Height  \\\n",
              "0                  0.98         514.5      294.0     110.25             7.0   \n",
              "1                  0.98         514.5      294.0     110.25             7.0   \n",
              "2                  0.98         514.5      294.0     110.25             7.0   \n",
              "3                  0.98         514.5      294.0     110.25             7.0   \n",
              "4                  0.90         563.5      318.5     122.50             7.0   \n",
              "\n",
              "   Orientation  Glazing_Area  Glazing_Area_Distribution Heating_Load_Class  \n",
              "0            2           0.0                          0             Medium  \n",
              "1            3           0.0                          0             Medium  \n",
              "2            4           0.0                          0             Medium  \n",
              "3            5           0.0                          0             Medium  \n",
              "4            2           0.0                          0             Medium  "
            ],
            "text/html": [
              "\n",
              "  <div id=\"df-cd1ebc85-dffe-4162-9932-a70aef062118\" class=\"colab-df-container\">\n",
              "    <div>\n",
              "<style scoped>\n",
              "    .dataframe tbody tr th:only-of-type {\n",
              "        vertical-align: middle;\n",
              "    }\n",
              "\n",
              "    .dataframe tbody tr th {\n",
              "        vertical-align: top;\n",
              "    }\n",
              "\n",
              "    .dataframe thead th {\n",
              "        text-align: right;\n",
              "    }\n",
              "</style>\n",
              "<table border=\"1\" class=\"dataframe\">\n",
              "  <thead>\n",
              "    <tr style=\"text-align: right;\">\n",
              "      <th></th>\n",
              "      <th>Relative_Compactness</th>\n",
              "      <th>Surface_Area</th>\n",
              "      <th>Wall_Area</th>\n",
              "      <th>Roof_Area</th>\n",
              "      <th>Overall_Height</th>\n",
              "      <th>Orientation</th>\n",
              "      <th>Glazing_Area</th>\n",
              "      <th>Glazing_Area_Distribution</th>\n",
              "      <th>Heating_Load_Class</th>\n",
              "    </tr>\n",
              "  </thead>\n",
              "  <tbody>\n",
              "    <tr>\n",
              "      <th>0</th>\n",
              "      <td>0.98</td>\n",
              "      <td>514.5</td>\n",
              "      <td>294.0</td>\n",
              "      <td>110.25</td>\n",
              "      <td>7.0</td>\n",
              "      <td>2</td>\n",
              "      <td>0.0</td>\n",
              "      <td>0</td>\n",
              "      <td>Medium</td>\n",
              "    </tr>\n",
              "    <tr>\n",
              "      <th>1</th>\n",
              "      <td>0.98</td>\n",
              "      <td>514.5</td>\n",
              "      <td>294.0</td>\n",
              "      <td>110.25</td>\n",
              "      <td>7.0</td>\n",
              "      <td>3</td>\n",
              "      <td>0.0</td>\n",
              "      <td>0</td>\n",
              "      <td>Medium</td>\n",
              "    </tr>\n",
              "    <tr>\n",
              "      <th>2</th>\n",
              "      <td>0.98</td>\n",
              "      <td>514.5</td>\n",
              "      <td>294.0</td>\n",
              "      <td>110.25</td>\n",
              "      <td>7.0</td>\n",
              "      <td>4</td>\n",
              "      <td>0.0</td>\n",
              "      <td>0</td>\n",
              "      <td>Medium</td>\n",
              "    </tr>\n",
              "    <tr>\n",
              "      <th>3</th>\n",
              "      <td>0.98</td>\n",
              "      <td>514.5</td>\n",
              "      <td>294.0</td>\n",
              "      <td>110.25</td>\n",
              "      <td>7.0</td>\n",
              "      <td>5</td>\n",
              "      <td>0.0</td>\n",
              "      <td>0</td>\n",
              "      <td>Medium</td>\n",
              "    </tr>\n",
              "    <tr>\n",
              "      <th>4</th>\n",
              "      <td>0.90</td>\n",
              "      <td>563.5</td>\n",
              "      <td>318.5</td>\n",
              "      <td>122.50</td>\n",
              "      <td>7.0</td>\n",
              "      <td>2</td>\n",
              "      <td>0.0</td>\n",
              "      <td>0</td>\n",
              "      <td>Medium</td>\n",
              "    </tr>\n",
              "  </tbody>\n",
              "</table>\n",
              "</div>\n",
              "    <div class=\"colab-df-buttons\">\n",
              "\n",
              "  <div class=\"colab-df-container\">\n",
              "    <button class=\"colab-df-convert\" onclick=\"convertToInteractive('df-cd1ebc85-dffe-4162-9932-a70aef062118')\"\n",
              "            title=\"Convert this dataframe to an interactive table.\"\n",
              "            style=\"display:none;\">\n",
              "\n",
              "  <svg xmlns=\"http://www.w3.org/2000/svg\" height=\"24px\" viewBox=\"0 -960 960 960\">\n",
              "    <path d=\"M120-120v-720h720v720H120Zm60-500h600v-160H180v160Zm220 220h160v-160H400v160Zm0 220h160v-160H400v160ZM180-400h160v-160H180v160Zm440 0h160v-160H620v160ZM180-180h160v-160H180v160Zm440 0h160v-160H620v160Z\"/>\n",
              "  </svg>\n",
              "    </button>\n",
              "\n",
              "  <style>\n",
              "    .colab-df-container {\n",
              "      display:flex;\n",
              "      gap: 12px;\n",
              "    }\n",
              "\n",
              "    .colab-df-convert {\n",
              "      background-color: #E8F0FE;\n",
              "      border: none;\n",
              "      border-radius: 50%;\n",
              "      cursor: pointer;\n",
              "      display: none;\n",
              "      fill: #1967D2;\n",
              "      height: 32px;\n",
              "      padding: 0 0 0 0;\n",
              "      width: 32px;\n",
              "    }\n",
              "\n",
              "    .colab-df-convert:hover {\n",
              "      background-color: #E2EBFA;\n",
              "      box-shadow: 0px 1px 2px rgba(60, 64, 67, 0.3), 0px 1px 3px 1px rgba(60, 64, 67, 0.15);\n",
              "      fill: #174EA6;\n",
              "    }\n",
              "\n",
              "    .colab-df-buttons div {\n",
              "      margin-bottom: 4px;\n",
              "    }\n",
              "\n",
              "    [theme=dark] .colab-df-convert {\n",
              "      background-color: #3B4455;\n",
              "      fill: #D2E3FC;\n",
              "    }\n",
              "\n",
              "    [theme=dark] .colab-df-convert:hover {\n",
              "      background-color: #434B5C;\n",
              "      box-shadow: 0px 1px 3px 1px rgba(0, 0, 0, 0.15);\n",
              "      filter: drop-shadow(0px 1px 2px rgba(0, 0, 0, 0.3));\n",
              "      fill: #FFFFFF;\n",
              "    }\n",
              "  </style>\n",
              "\n",
              "    <script>\n",
              "      const buttonEl =\n",
              "        document.querySelector('#df-cd1ebc85-dffe-4162-9932-a70aef062118 button.colab-df-convert');\n",
              "      buttonEl.style.display =\n",
              "        google.colab.kernel.accessAllowed ? 'block' : 'none';\n",
              "\n",
              "      async function convertToInteractive(key) {\n",
              "        const element = document.querySelector('#df-cd1ebc85-dffe-4162-9932-a70aef062118');\n",
              "        const dataTable =\n",
              "          await google.colab.kernel.invokeFunction('convertToInteractive',\n",
              "                                                    [key], {});\n",
              "        if (!dataTable) return;\n",
              "\n",
              "        const docLinkHtml = 'Like what you see? Visit the ' +\n",
              "          '<a target=\"_blank\" href=https://colab.research.google.com/notebooks/data_table.ipynb>data table notebook</a>'\n",
              "          + ' to learn more about interactive tables.';\n",
              "        element.innerHTML = '';\n",
              "        dataTable['output_type'] = 'display_data';\n",
              "        await google.colab.output.renderOutput(dataTable, element);\n",
              "        const docLink = document.createElement('div');\n",
              "        docLink.innerHTML = docLinkHtml;\n",
              "        element.appendChild(docLink);\n",
              "      }\n",
              "    </script>\n",
              "  </div>\n",
              "\n",
              "\n",
              "<div id=\"df-89c5a3ae-00df-4fa1-8595-030883a575b5\">\n",
              "  <button class=\"colab-df-quickchart\" onclick=\"quickchart('df-89c5a3ae-00df-4fa1-8595-030883a575b5')\"\n",
              "            title=\"Suggest charts\"\n",
              "            style=\"display:none;\">\n",
              "\n",
              "<svg xmlns=\"http://www.w3.org/2000/svg\" height=\"24px\"viewBox=\"0 0 24 24\"\n",
              "     width=\"24px\">\n",
              "    <g>\n",
              "        <path d=\"M19 3H5c-1.1 0-2 .9-2 2v14c0 1.1.9 2 2 2h14c1.1 0 2-.9 2-2V5c0-1.1-.9-2-2-2zM9 17H7v-7h2v7zm4 0h-2V7h2v10zm4 0h-2v-4h2v4z\"/>\n",
              "    </g>\n",
              "</svg>\n",
              "  </button>\n",
              "\n",
              "<style>\n",
              "  .colab-df-quickchart {\n",
              "      --bg-color: #E8F0FE;\n",
              "      --fill-color: #1967D2;\n",
              "      --hover-bg-color: #E2EBFA;\n",
              "      --hover-fill-color: #174EA6;\n",
              "      --disabled-fill-color: #AAA;\n",
              "      --disabled-bg-color: #DDD;\n",
              "  }\n",
              "\n",
              "  [theme=dark] .colab-df-quickchart {\n",
              "      --bg-color: #3B4455;\n",
              "      --fill-color: #D2E3FC;\n",
              "      --hover-bg-color: #434B5C;\n",
              "      --hover-fill-color: #FFFFFF;\n",
              "      --disabled-bg-color: #3B4455;\n",
              "      --disabled-fill-color: #666;\n",
              "  }\n",
              "\n",
              "  .colab-df-quickchart {\n",
              "    background-color: var(--bg-color);\n",
              "    border: none;\n",
              "    border-radius: 50%;\n",
              "    cursor: pointer;\n",
              "    display: none;\n",
              "    fill: var(--fill-color);\n",
              "    height: 32px;\n",
              "    padding: 0;\n",
              "    width: 32px;\n",
              "  }\n",
              "\n",
              "  .colab-df-quickchart:hover {\n",
              "    background-color: var(--hover-bg-color);\n",
              "    box-shadow: 0 1px 2px rgba(60, 64, 67, 0.3), 0 1px 3px 1px rgba(60, 64, 67, 0.15);\n",
              "    fill: var(--button-hover-fill-color);\n",
              "  }\n",
              "\n",
              "  .colab-df-quickchart-complete:disabled,\n",
              "  .colab-df-quickchart-complete:disabled:hover {\n",
              "    background-color: var(--disabled-bg-color);\n",
              "    fill: var(--disabled-fill-color);\n",
              "    box-shadow: none;\n",
              "  }\n",
              "\n",
              "  .colab-df-spinner {\n",
              "    border: 2px solid var(--fill-color);\n",
              "    border-color: transparent;\n",
              "    border-bottom-color: var(--fill-color);\n",
              "    animation:\n",
              "      spin 1s steps(1) infinite;\n",
              "  }\n",
              "\n",
              "  @keyframes spin {\n",
              "    0% {\n",
              "      border-color: transparent;\n",
              "      border-bottom-color: var(--fill-color);\n",
              "      border-left-color: var(--fill-color);\n",
              "    }\n",
              "    20% {\n",
              "      border-color: transparent;\n",
              "      border-left-color: var(--fill-color);\n",
              "      border-top-color: var(--fill-color);\n",
              "    }\n",
              "    30% {\n",
              "      border-color: transparent;\n",
              "      border-left-color: var(--fill-color);\n",
              "      border-top-color: var(--fill-color);\n",
              "      border-right-color: var(--fill-color);\n",
              "    }\n",
              "    40% {\n",
              "      border-color: transparent;\n",
              "      border-right-color: var(--fill-color);\n",
              "      border-top-color: var(--fill-color);\n",
              "    }\n",
              "    60% {\n",
              "      border-color: transparent;\n",
              "      border-right-color: var(--fill-color);\n",
              "    }\n",
              "    80% {\n",
              "      border-color: transparent;\n",
              "      border-right-color: var(--fill-color);\n",
              "      border-bottom-color: var(--fill-color);\n",
              "    }\n",
              "    90% {\n",
              "      border-color: transparent;\n",
              "      border-bottom-color: var(--fill-color);\n",
              "    }\n",
              "  }\n",
              "</style>\n",
              "\n",
              "  <script>\n",
              "    async function quickchart(key) {\n",
              "      const quickchartButtonEl =\n",
              "        document.querySelector('#' + key + ' button');\n",
              "      quickchartButtonEl.disabled = true;  // To prevent multiple clicks.\n",
              "      quickchartButtonEl.classList.add('colab-df-spinner');\n",
              "      try {\n",
              "        const charts = await google.colab.kernel.invokeFunction(\n",
              "            'suggestCharts', [key], {});\n",
              "      } catch (error) {\n",
              "        console.error('Error during call to suggestCharts:', error);\n",
              "      }\n",
              "      quickchartButtonEl.classList.remove('colab-df-spinner');\n",
              "      quickchartButtonEl.classList.add('colab-df-quickchart-complete');\n",
              "    }\n",
              "    (() => {\n",
              "      let quickchartButtonEl =\n",
              "        document.querySelector('#df-89c5a3ae-00df-4fa1-8595-030883a575b5 button');\n",
              "      quickchartButtonEl.style.display =\n",
              "        google.colab.kernel.accessAllowed ? 'block' : 'none';\n",
              "    })();\n",
              "  </script>\n",
              "</div>\n",
              "    </div>\n",
              "  </div>\n"
            ],
            "application/vnd.google.colaboratory.intrinsic+json": {
              "type": "dataframe",
              "variable_name": "data",
              "summary": "{\n  \"name\": \"data\",\n  \"rows\": 768,\n  \"fields\": [\n    {\n      \"column\": \"Relative_Compactness\",\n      \"properties\": {\n        \"dtype\": \"number\",\n        \"std\": 0.10577747587475206,\n        \"min\": 0.62,\n        \"max\": 0.98,\n        \"num_unique_values\": 12,\n        \"samples\": [\n          0.64,\n          0.66,\n          0.98\n        ],\n        \"semantic_type\": \"\",\n        \"description\": \"\"\n      }\n    },\n    {\n      \"column\": \"Surface_Area\",\n      \"properties\": {\n        \"dtype\": \"number\",\n        \"std\": 88.08611605586826,\n        \"min\": 514.5,\n        \"max\": 808.5,\n        \"num_unique_values\": 12,\n        \"samples\": [\n          784.0,\n          759.5,\n          514.5\n        ],\n        \"semantic_type\": \"\",\n        \"description\": \"\"\n      }\n    },\n    {\n      \"column\": \"Wall_Area\",\n      \"properties\": {\n        \"dtype\": \"number\",\n        \"std\": 43.6264814379949,\n        \"min\": 245.0,\n        \"max\": 416.5,\n        \"num_unique_values\": 7,\n        \"samples\": [\n          294.0,\n          318.5,\n          269.5\n        ],\n        \"semantic_type\": \"\",\n        \"description\": \"\"\n      }\n    },\n    {\n      \"column\": \"Roof_Area\",\n      \"properties\": {\n        \"dtype\": \"number\",\n        \"std\": 45.165950222920344,\n        \"min\": 110.25,\n        \"max\": 220.5,\n        \"num_unique_values\": 4,\n        \"samples\": [\n          122.5,\n          220.5,\n          110.25\n        ],\n        \"semantic_type\": \"\",\n        \"description\": \"\"\n      }\n    },\n    {\n      \"column\": \"Overall_Height\",\n      \"properties\": {\n        \"dtype\": \"number\",\n        \"std\": 1.7511404367453496,\n        \"min\": 3.5,\n        \"max\": 7.0,\n        \"num_unique_values\": 2,\n        \"samples\": [\n          3.5,\n          7.0\n        ],\n        \"semantic_type\": \"\",\n        \"description\": \"\"\n      }\n    },\n    {\n      \"column\": \"Orientation\",\n      \"properties\": {\n        \"dtype\": \"number\",\n        \"std\": 1,\n        \"min\": 2,\n        \"max\": 5,\n        \"num_unique_values\": 4,\n        \"samples\": [\n          3,\n          5\n        ],\n        \"semantic_type\": \"\",\n        \"description\": \"\"\n      }\n    },\n    {\n      \"column\": \"Glazing_Area\",\n      \"properties\": {\n        \"dtype\": \"number\",\n        \"std\": 0.13322056291470877,\n        \"min\": 0.0,\n        \"max\": 0.4,\n        \"num_unique_values\": 4,\n        \"samples\": [\n          0.1,\n          0.4\n        ],\n        \"semantic_type\": \"\",\n        \"description\": \"\"\n      }\n    },\n    {\n      \"column\": \"Glazing_Area_Distribution\",\n      \"properties\": {\n        \"dtype\": \"number\",\n        \"std\": 1,\n        \"min\": 0,\n        \"max\": 5,\n        \"num_unique_values\": 6,\n        \"samples\": [\n          0,\n          1\n        ],\n        \"semantic_type\": \"\",\n        \"description\": \"\"\n      }\n    },\n    {\n      \"column\": \"Heating_Load_Class\",\n      \"properties\": {\n        \"dtype\": \"category\",\n        \"num_unique_values\": 3,\n        \"samples\": [\n          \"Medium\",\n          \"High\"\n        ],\n        \"semantic_type\": \"\",\n        \"description\": \"\"\n      }\n    }\n  ]\n}"
            }
          },
          "metadata": {},
          "execution_count": 6
        }
      ]
    },
    {
      "cell_type": "code",
      "source": [
        "data.Heating_Load_Class.hist()"
      ],
      "metadata": {
        "colab": {
          "base_uri": "https://localhost:8080/",
          "height": 447
        },
        "id": "CktXv0jxqEwS",
        "outputId": "a185ed17-6438-4c40-854f-b61ad6905cf6"
      },
      "execution_count": 7,
      "outputs": [
        {
          "output_type": "execute_result",
          "data": {
            "text/plain": [
              "<Axes: >"
            ]
          },
          "metadata": {},
          "execution_count": 7
        },
        {
          "output_type": "display_data",
          "data": {
            "text/plain": [
              "<Figure size 640x480 with 1 Axes>"
            ],
            "image/png": "[encoded data removed]"
          },
          "metadata": {}
        }
      ]
    },
    {
      "cell_type": "markdown",
      "source": [
        "Разделим датасет на тестовую и обучающую выборки"
      ],
      "metadata": {
        "id": "ivj7o91NCNUZ"
      }
    },
    {
      "cell_type": "code",
      "source": [
        "X = data.drop('Heating_Load_Class', axis=1)\n",
        "y = data['Heating_Load_Class']\n",
        "\n",
        "scaler = StandardScaler()\n",
        "X_scaled = scaler.fit_transform(X)\n",
        "\n",
        "X_train, X_test, y_train, y_test = train_test_split(X_scaled, y, test_size=0.2, random_state=42, stratify=y)\n",
        "\n",
        "print(f\"Размер обучающей выборки: {X_train.shape}, Размер тестовой выборки: {X_test.shape}\")"
      ],
      "metadata": {
        "colab": {
          "base_uri": "https://localhost:8080/"
        },
        "id": "LiQmhx-LCMrW",
        "outputId": "3363ca57-0231-4a1c-c143-820af8491a10"
      },
      "execution_count": 8,
      "outputs": [
        {
          "output_type": "stream",
          "name": "stdout",
          "text": [
            "Размер обучающей выборки: (614, 8), Размер тестовой выборки: (154, 8)\n"
          ]
        }
      ]
    },
    {
      "cell_type": "markdown",
      "source": [
        "Применим встроенный KNN для классификации"
      ],
      "metadata": {
        "id": "ZDRlfGCZCkXH"
      }
    },
    {
      "cell_type": "code",
      "source": [
        "knn_baseline = KNeighborsClassifier()\n",
        "knn_baseline.fit(X_train, y_train)\n",
        "\n",
        "y_pred = knn_baseline.predict(X_test)\n",
        "\n",
        "accuracy = accuracy_score(y_test, y_pred)\n",
        "f1 = f1_score(y_test, y_pred, average='weighted')\n",
        "\n",
        "print(\"Бейзлайн:\")\n",
        "print(f\"Accuracy: {accuracy:.4f}\")\n",
        "print(f\"F1-Score: {f1:.4f}\")"
      ],
      "metadata": {
        "colab": {
          "base_uri": "https://localhost:8080/"
        },
        "id": "2vmgIRUv8aeX",
        "outputId": "5f883fc1-acf0-4a91-cffd-24e8815eef99"
      },
      "execution_count": 9,
      "outputs": [
        {
          "output_type": "stream",
          "name": "stdout",
          "text": [
            "Бейзлайн:\n",
            "Accuracy: 0.8831\n",
            "F1-Score: 0.8826\n"
          ]
        }
      ]
    },
    {
      "cell_type": "markdown",
      "source": [
        "Подберем гиперпараметры для улучшения безлайна"
      ],
      "metadata": {
        "id": "KIm-3-RwH6q6"
      }
    },
    {
      "cell_type": "code",
      "source": [
        "param_grid = {\n",
        "    'n_neighbors': range(1, 31),\n",
        "    'weights': ['uniform', 'distance'],\n",
        "    'metric': ['euclidean', 'manhattan']\n",
        "}\n",
        "\n",
        "grid_search = GridSearchCV(KNeighborsClassifier(), param_grid, cv=5, scoring='accuracy', verbose=1, n_jobs=-1)\n",
        "grid_search.fit(X_train, y_train)\n",
        "\n",
        "best_params = grid_search.best_params_\n",
        "print(f\"Лучшие параметры: {best_params}\")\n",
        "\n",
        "best_knn = grid_search.best_estimator_\n"
      ],
      "metadata": {
        "colab": {
          "base_uri": "https://localhost:8080/"
        },
        "id": "UP8cuRsh8dEL",
        "outputId": "35ffae55-be31-42d3-f1d1-4ca3ca341cfa"
      },
      "execution_count": 10,
      "outputs": [
        {
          "output_type": "stream",
          "name": "stdout",
          "text": [
            "Fitting 5 folds for each of 120 candidates, totalling 600 fits\n",
            "Лучшие параметры: {'metric': 'manhattan', 'n_neighbors': 5, 'weights': 'distance'}\n"
          ]
        }
      ]
    },
    {
      "cell_type": "markdown",
      "source": [
        "Проведем обучение улучшенной модели и посчитаем метрики"
      ],
      "metadata": {
        "id": "Nx0SZLXMIgwy"
      }
    },
    {
      "cell_type": "code",
      "source": [
        "y_pred_best = best_knn.predict(X_test)\n",
        "\n",
        "accuracy_best = accuracy_score(y_test, y_pred_best)\n",
        "f1_best = f1_score(y_test, y_pred_best, average='weighted')\n",
        "\n",
        "print(\"Улучшенный бейзлайн:\")\n",
        "print(f\"Accuracy: {accuracy_best:.4f}\")\n",
        "print(f\"F1-Score: {f1_best:.4f}\")\n",
        "print(\"\\nClassification Report:\")\n",
        "print(classification_report(y_test, y_pred_best))\n"
      ],
      "metadata": {
        "colab": {
          "base_uri": "https://localhost:8080/"
        },
        "id": "1XkY_5wL8g4P",
        "outputId": "368662d6-be2e-419a-af34-bd3bcc3978ad"
      },
      "execution_count": 11,
      "outputs": [
        {
          "output_type": "stream",
          "name": "stdout",
          "text": [
            "Улучшенный бейзлайн:\n",
            "Accuracy: 0.9091\n",
            "F1-Score: 0.9065\n",
            "\n",
            "Classification Report:\n",
            "              precision    recall  f1-score   support\n",
            "\n",
            "        High       0.93      0.98      0.95        51\n",
            "         Low       0.86      0.98      0.92        52\n",
            "      Medium       0.95      0.76      0.85        51\n",
            "\n",
            "    accuracy                           0.91       154\n",
            "   macro avg       0.91      0.91      0.91       154\n",
            "weighted avg       0.91      0.91      0.91       154\n",
            "\n"
          ]
        }
      ]
    },
    {
      "cell_type": "markdown",
      "source": [
        "Реализуем собственную имплементацию алгоритма"
      ],
      "metadata": {
        "id": "Ba35VN9WIr_R"
      }
    },
    {
      "cell_type": "code",
      "source": [
        "def euclidean_distance(x1, x2):\n",
        "    return np.sqrt(np.sum((x1 - x2) ** 2))\n",
        "\n",
        "class CustomKNN:\n",
        "    def __init__(self, k=3):\n",
        "        self.k = k\n",
        "\n",
        "    def fit(self, X, y):\n",
        "        self.X_train = X\n",
        "        self.y_train = np.array(y)\n",
        "\n",
        "    def predict(self, X):\n",
        "        predictions = [self._predict(x) for x in X]\n",
        "        return np.array(predictions)\n",
        "\n",
        "    def _predict(self, x):\n",
        "        distances = [euclidean_distance(x, x_train) for x_train in self.X_train]\n",
        "        k_indices = np.argsort(distances)[:self.k]\n",
        "        k_nearest_labels = [self.y_train[i] for i in k_indices]\n",
        "        most_common = Counter(k_nearest_labels).most_common(1)\n",
        "        return most_common[0][0]\n",
        "\n",
        "custom_knn = CustomKNN(k=best_params['n_neighbors'])\n",
        "custom_knn.fit(X_train, y_train)\n",
        "\n",
        "y_pred_custom = custom_knn.predict(X_test)\n",
        "\n",
        "accuracy_custom = accuracy_score(y_test, y_pred_custom)\n",
        "f1_custom = f1_score(y_test, y_pred_custom, average='weighted')\n",
        "\n",
        "print(\"Реализация Custom KNN:\")\n",
        "print(f\"Accuracy: {accuracy_custom:.4f}\")\n",
        "print(f\"F1-Score: {f1_custom:.4f}\")\n"
      ],
      "metadata": {
        "colab": {
          "base_uri": "https://localhost:8080/"
        },
        "id": "FPL4saaz8rCE",
        "outputId": "d5de8afa-9937-4067-8aa7-bfeedb78a89d"
      },
      "execution_count": 12,
      "outputs": [
        {
          "output_type": "stream",
          "name": "stdout",
          "text": [
            "Реализация Custom KNN:\n",
            "Accuracy: 0.8831\n",
            "F1-Score: 0.8826\n"
          ]
        }
      ]
    },
    {
      "cell_type": "markdown",
      "source": [
        "Сравним полученные резльтаты:"
      ],
      "metadata": {
        "id": "OVUn6CNYI3bk"
      }
    },
    {
      "cell_type": "code",
      "source": [
        "print(\"Сравнение результатов:\")\n",
        "print(f\"Бейзлайн Accuracy: {accuracy:.4f}, Улучшенный Accuracy: {accuracy_best:.4f}, Custom KNN Accuracy: {accuracy_custom:.4f}\")\n",
        "print(f\"Бейзлайн F1-Score: {f1:.4f}, Улучшенный F1-Score: {f1_best:.4f}, Custom KNN F1-Score: {f1_custom:.4f}\")\n"
      ],
      "metadata": {
        "colab": {
          "base_uri": "https://localhost:8080/"
        },
        "id": "QbsVY2hV8_CX",
        "outputId": "4c249597-65fe-4ec1-952c-57d54735d4f4"
      },
      "execution_count": 13,
      "outputs": [
        {
          "output_type": "stream",
          "name": "stdout",
          "text": [
            "Сравнение результатов:\n",
            "Бейзлайн Accuracy: 0.8831, Улучшенный Accuracy: 0.9091, Custom KNN Accuracy: 0.8831\n",
            "Бейзлайн F1-Score: 0.8826, Улучшенный F1-Score: 0.9065, Custom KNN F1-Score: 0.8826\n"
          ]
        }
      ]
    },
    {
      "cell_type": "markdown",
      "source": [
        "## Задача регрессии"
      ],
      "metadata": {
        "id": "Wu04OzzoJOkt"
      }
    },
    {
      "cell_type": "markdown",
      "source": [
        "Импортируем нужные библиотеки"
      ],
      "metadata": {
        "id": "fmKl8P1YJR1E"
      }
    },
    {
      "cell_type": "code",
      "source": [
        "import pandas as pd\n",
        "from sklearn.model_selection import GridSearchCV\n",
        "import numpy as np\n",
        "from sklearn.model_selection import train_test_split\n",
        "from sklearn.preprocessing import StandardScaler\n",
        "from sklearn.neighbors import KNeighborsRegressor\n",
        "from sklearn.metrics import mean_absolute_error, mean_squared_error, r2_score"
      ],
      "metadata": {
        "id": "pYQNe-haJVxp"
      },
      "execution_count": 14,
      "outputs": []
    },
    {
      "cell_type": "markdown",
      "source": [
        "Загрузим данные датасета, для удобства поменяем названия колонок, разделим данные на тестовую и обучающую выборку"
      ],
      "metadata": {
        "id": "UkdS6_31JZ_m"
      }
    },
    {
      "cell_type": "code",
      "source": [
        "data = pd.read_csv(\"energy_efficiency_data.csv\")\n",
        "\n",
        "X = data[\n",
        "    [\n",
        "        \"Relative_Compactness\",\n",
        "        \"Surface_Area\",\n",
        "        \"Wall_Area\",\n",
        "        \"Roof_Area\",\n",
        "        \"Overall_Height\",\n",
        "        \"Orientation\",\n",
        "        \"Glazing_Area\",\n",
        "        \"Glazing_Area_Distribution\",\n",
        "    ]\n",
        "]\n",
        "y_heating = data[\"Heating_Load\"]\n",
        "y_cooling = data[\"Cooling_Load\"]\n",
        "\n",
        "X_train, X_test, y_train_heating, y_test_heating = train_test_split(\n",
        "    X, y_heating, test_size=0.2, random_state=42\n",
        ")\n",
        "X_train, X_test, y_train_cooling, y_test_cooling = train_test_split(\n",
        "    X, y_cooling, test_size=0.2, random_state=42\n",
        ")\n"
      ],
      "metadata": {
        "id": "xMhEnE609Vvm"
      },
      "execution_count": 15,
      "outputs": []
    },
    {
      "cell_type": "code",
      "source": [
        "data.Heating_Load.hist()"
      ],
      "metadata": {
        "colab": {
          "base_uri": "https://localhost:8080/",
          "height": 447
        },
        "id": "7i7ObOqRrrID",
        "outputId": "fc698608-9c86-4bac-c925-1d908db8314b"
      },
      "execution_count": 16,
      "outputs": [
        {
          "output_type": "execute_result",
          "data": {
            "text/plain": [
              "<Axes: >"
            ]
          },
          "metadata": {},
          "execution_count": 16
        },
        {
          "output_type": "display_data",
          "data": {
            "text/plain": [
              "<Figure size 640x480 with 1 Axes>"
            ],
            "image/png": "[encoded data removed]"
          },
          "metadata": {}
        }
      ]
    },
    {
      "cell_type": "code",
      "source": [
        "data.Cooling_Load.hist()"
      ],
      "metadata": {
        "colab": {
          "base_uri": "https://localhost:8080/",
          "height": 447
        },
        "id": "m66T32Cyrts4",
        "outputId": "b411aa6c-c302-4787-eeaf-ab1af43ed63c"
      },
      "execution_count": 17,
      "outputs": [
        {
          "output_type": "execute_result",
          "data": {
            "text/plain": [
              "<Axes: >"
            ]
          },
          "metadata": {},
          "execution_count": 17
        },
        {
          "output_type": "display_data",
          "data": {
            "text/plain": [
              "<Figure size 640x480 with 1 Axes>"
            ],
            "image/png": "[encoded data removed]"
          },
          "metadata": {}
        }
      ]
    },
    {
      "cell_type": "markdown",
      "source": [
        "Обучение безлайна и оценка модели"
      ],
      "metadata": {
        "id": "fyx6EETyJlAX"
      }
    },
    {
      "cell_type": "code",
      "source": [
        "scaler = StandardScaler()\n",
        "X_train = scaler.fit_transform(X_train)\n",
        "X_test = scaler.transform(X_test)\n",
        "\n",
        "knn_heating = KNeighborsRegressor(n_neighbors=5)\n",
        "knn_heating.fit(X_train, y_train_heating)\n",
        "y_pred_heating = knn_heating.predict(X_test)\n",
        "\n",
        "knn_cooling = KNeighborsRegressor(n_neighbors=5)\n",
        "knn_cooling.fit(X_train, y_train_cooling)\n",
        "y_pred_cooling = knn_cooling.predict(X_test)\n",
        "\n",
        "def evaluate_model(y_true, y_pred):\n",
        "    mae = mean_absolute_error(y_true, y_pred)\n",
        "    mse = mean_squared_error(y_true, y_pred)\n",
        "    r2 = r2_score(y_true, y_pred)\n",
        "    return mae, mse, r2\n",
        "\n",
        "print(\"Heating Load Metrics:\")\n",
        "mae_heating, mse_heating, r2_heating = evaluate_model(y_test_heating, y_pred_heating)\n",
        "print(f\"MAE: {mae_heating:.4f}, MSE: {mse_heating:.4f}, R²: {r2_heating:.4f}\")\n",
        "\n",
        "print(\"\\nCooling Load Metrics:\")\n",
        "mae_cooling, mse_cooling, r2_cooling = evaluate_model(y_test_cooling, y_pred_cooling)\n",
        "print(f\"MAE: {mae_cooling:.4f}, MSE: {mse_cooling:.4f}, R²: {r2_cooling:.4f}\")"
      ],
      "metadata": {
        "colab": {
          "base_uri": "https://localhost:8080/"
        },
        "id": "FlO01TlDJ0w-",
        "outputId": "867abd18-c0fe-453e-fc3f-76387532ff76"
      },
      "execution_count": 18,
      "outputs": [
        {
          "output_type": "stream",
          "name": "stdout",
          "text": [
            "Heating Load Metrics:\n",
            "MAE: 1.4527, MSE: 5.2978, R²: 0.9492\n",
            "\n",
            "Cooling Load Metrics:\n",
            "MAE: 1.6537, MSE: 6.6717, R²: 0.9280\n"
          ]
        }
      ]
    },
    {
      "cell_type": "markdown",
      "source": [
        "Подберем гиперпараметры для улучшения модели"
      ],
      "metadata": {
        "id": "VhlM_Kg4KAFH"
      }
    },
    {
      "cell_type": "code",
      "source": [
        "param_grid = {\"n_neighbors\": range(1, 20)}\n",
        "\n",
        "grid_heating = GridSearchCV(\n",
        "    KNeighborsRegressor(),\n",
        "    param_grid,\n",
        "    cv=5,\n",
        "    scoring=\"r2\",\n",
        "    verbose=1,\n",
        ")\n",
        "grid_heating.fit(X_train, y_train_heating)\n",
        "\n",
        "grid_cooling = GridSearchCV(\n",
        "    KNeighborsRegressor(),\n",
        "    param_grid,\n",
        "    cv=5,\n",
        "    scoring=\"r2\",\n",
        "    verbose=1,\n",
        ")\n",
        "grid_cooling.fit(X_train, y_train_cooling)\n",
        "\n",
        "best_k_heating = grid_heating.best_params_[\"n_neighbors\"]\n",
        "best_k_cooling = grid_cooling.best_params_[\"n_neighbors\"]\n",
        "\n",
        "print(f\"Лучший k для Heating_Load: {best_k_heating}\")\n",
        "print(f\"Лучший k для Cooling_Load: {best_k_cooling}\")\n"
      ],
      "metadata": {
        "colab": {
          "base_uri": "https://localhost:8080/"
        },
        "id": "52y_nuP49ZJn",
        "outputId": "f927fdbc-59c6-4898-ef40-10174ad9f975"
      },
      "execution_count": 19,
      "outputs": [
        {
          "output_type": "stream",
          "name": "stdout",
          "text": [
            "Fitting 5 folds for each of 19 candidates, totalling 95 fits\n",
            "Fitting 5 folds for each of 19 candidates, totalling 95 fits\n",
            "Лучший k для Heating_Load: 2\n",
            "Лучший k для Cooling_Load: 8\n"
          ]
        }
      ]
    },
    {
      "cell_type": "markdown",
      "source": [
        "Обучим модели с подобранными гиперпараметрами"
      ],
      "metadata": {
        "id": "UAvAlVFbKSeW"
      }
    },
    {
      "cell_type": "code",
      "source": [
        "knn_heating_optimized = KNeighborsRegressor(n_neighbors=best_k_heating)\n",
        "knn_heating_optimized.fit(X_train, y_train_heating)\n",
        "y_pred_heating_optimized = knn_heating_optimized.predict(X_test)\n",
        "\n",
        "knn_cooling_optimized = KNeighborsRegressor(n_neighbors=best_k_cooling)\n",
        "knn_cooling_optimized.fit(X_train, y_train_cooling)\n",
        "y_pred_cooling_optimized = knn_cooling_optimized.predict(X_test)\n",
        "\n",
        "print(\"Optimized Heating Load Metrics:\")\n",
        "mae_heating_opt, mse_heating_opt, r2_heating_opt = evaluate_model(\n",
        "    y_test_heating, y_pred_heating_optimized\n",
        ")\n",
        "print(f\"MAE: {mae_heating_opt:.4f}, MSE: {mse_heating_opt:.4f}, R²: {r2_heating_opt:.4f}\")\n",
        "\n",
        "print(\"\\nOptimized Cooling Load Metrics:\")\n",
        "mae_cooling_opt, mse_cooling_opt, r2_cooling_opt = evaluate_model(\n",
        "    y_test_cooling, y_pred_cooling_optimized\n",
        ")\n",
        "print(f\"MAE: {mae_cooling_opt:.4f}, MSE: {mse_cooling_opt:.4f}, R²: {r2_cooling_opt:.4f}\")\n"
      ],
      "metadata": {
        "colab": {
          "base_uri": "https://localhost:8080/"
        },
        "id": "uvJd9ENf9Ztr",
        "outputId": "7a3472cf-9897-494d-f1e6-b79ad7b7177a"
      },
      "execution_count": 20,
      "outputs": [
        {
          "output_type": "stream",
          "name": "stdout",
          "text": [
            "Optimized Heating Load Metrics:\n",
            "MAE: 1.0147, MSE: 3.4847, R²: 0.9666\n",
            "\n",
            "Optimized Cooling Load Metrics:\n",
            "MAE: 1.7068, MSE: 6.4198, R²: 0.9307\n"
          ]
        }
      ]
    },
    {
      "cell_type": "markdown",
      "source": [
        "Реализуем собственную имплементацию алгоритма"
      ],
      "metadata": {
        "id": "locWaVNhKexG"
      }
    },
    {
      "cell_type": "code",
      "source": [
        "def euclidean_distance(x1, x2):\n",
        "    return np.sqrt(np.sum((x1 - x2) ** 2))\n",
        "\n",
        "class CustomKNNRegressor:\n",
        "    def __init__(self, k=3):\n",
        "        self.k = k\n",
        "\n",
        "    def fit(self, X, y):\n",
        "        self.X_train = X\n",
        "        self.y_train = np.array(y)\n",
        "\n",
        "    def predict(self, X):\n",
        "        predictions = [self._predict(x) for x in X]\n",
        "        return np.array(predictions)\n",
        "\n",
        "    def _predict(self, x):\n",
        "        distances = [euclidean_distance(x, x_train) for x_train in self.X_train]\n",
        "        k_indices = np.argsort(distances)[:self.k]\n",
        "        k_nearest_labels = [self.y_train[i] for i in k_indices]\n",
        "        return np.mean(k_nearest_labels)\n",
        "\n",
        "custom_knn_heating = CustomKNNRegressor(k=best_k_heating)\n",
        "custom_knn_heating.fit(X_train, y_train_heating)\n",
        "y_pred_custom_heating = custom_knn_heating.predict(X_test)\n",
        "\n",
        "custom_knn_cooling = CustomKNNRegressor(k=best_k_cooling)\n",
        "custom_knn_cooling.fit(X_train, y_train_cooling)\n",
        "y_pred_custom_cooling = custom_knn_cooling.predict(X_test)\n",
        "\n",
        "\n",
        "mae_custom_heating, mse_custom_heating, r2_custom_heating = evaluate_model(\n",
        "    y_test_heating, y_pred_custom_heating\n",
        ")\n",
        "\n",
        "mae_custom_cooling, mse_custom_cooling, r2_custom_cooling = evaluate_model(\n",
        "    y_test_cooling, y_pred_custom_cooling\n",
        ")\n",
        "\n",
        "print(\"Custom KNN Heating Load Metrics:\")\n",
        "print(f\"MAE: {mae_custom_heating:.4f}, MSE: {mse_custom_heating:.4f}, R²: {r2_custom_heating:.4f}\")\n",
        "\n",
        "print(\"\\nCustom KNN Cooling Load Metrics:\")\n",
        "print(f\"MAE: {mae_custom_cooling:.4f}, MSE: {mse_custom_cooling:.4f}, R²: {r2_custom_cooling:.4f}\")\n"
      ],
      "metadata": {
        "colab": {
          "base_uri": "https://localhost:8080/"
        },
        "id": "TChDS6OG9t8h",
        "outputId": "fbbcefab-e37c-4b7d-dd8a-5622d2d3d241"
      },
      "execution_count": 21,
      "outputs": [
        {
          "output_type": "stream",
          "name": "stdout",
          "text": [
            "Custom KNN Heating Load Metrics:\n",
            "MAE: 1.0162, MSE: 3.4870, R²: 0.9665\n",
            "\n",
            "Custom KNN Cooling Load Metrics:\n",
            "MAE: 1.7187, MSE: 6.5426, R²: 0.9294\n"
          ]
        }
      ]
    },
    {
      "cell_type": "markdown",
      "source": [
        "Сравнение всех полученных результатов"
      ],
      "metadata": {
        "id": "9l3n-0aEKn0k"
      }
    },
    {
      "cell_type": "code",
      "source": [
        "print(\"\\nСравнение результатов для Heating Load:\")\n",
        "print(f\"Бейзлайн MAE: {mae_heating:.4f}, Улучшенный MAE: {mae_heating_opt:.4f}, Custom KNN MAE: {mae_custom_heating:.4f}\")\n",
        "print(f\"Бейзлайн MSE: {mse_heating:.4f}, Улучшенный MSE: {mse_heating_opt:.4f}, Custom KNN MSE: {mse_custom_heating:.4f}\")\n",
        "print(f\"Бейзлайн R²: {r2_heating:.4f}, Улучшенный R²: {r2_heating_opt:.4f}, Custom KNN R²: {r2_custom_heating:.4f}\")\n",
        "\n",
        "print(\"\\nСравнение результатов для Cooling Load:\")\n",
        "print(f\"Бейзлайн MAE: {mae_cooling:.4f}, Улучшенный MAE: {mae_cooling_opt:.4f}, Custom KNN MAE: {mae_custom_cooling:.4f}\")\n",
        "print(f\"Бейзлайн MSE: {mse_cooling:.4f}, Улучшенный MSE: {mse_cooling_opt:.4f}, Custom KNN MSE: {mse_custom_cooling:.4f}\")\n",
        "print(f\"Бейзлайн R²: {r2_cooling:.4f}, Улучшенный R²: {r2_cooling_opt:.4f}, Custom KNN R²: {r2_custom_cooling:.4f}\")\n"
      ],
      "metadata": {
        "colab": {
          "base_uri": "https://localhost:8080/"
        },
        "id": "mOiCrYXu96KX",
        "outputId": "6ba133fe-f9b8-4cdf-8718-7db558a1974a"
      },
      "execution_count": 22,
      "outputs": [
        {
          "output_type": "stream",
          "name": "stdout",
          "text": [
            "\n",
            "Сравнение результатов для Heating Load:\n",
            "Бейзлайн MAE: 1.4527, Улучшенный MAE: 1.0147, Custom KNN MAE: 1.0162\n",
            "Бейзлайн MSE: 5.2978, Улучшенный MSE: 3.4847, Custom KNN MSE: 3.4870\n",
            "Бейзлайн R²: 0.9492, Улучшенный R²: 0.9666, Custom KNN R²: 0.9665\n",
            "\n",
            "Сравнение результатов для Cooling Load:\n",
            "Бейзлайн MAE: 1.6537, Улучшенный MAE: 1.7068, Custom KNN MAE: 1.7187\n",
            "Бейзлайн MSE: 6.6717, Улучшенный MSE: 6.4198, Custom KNN MSE: 6.5426\n",
            "Бейзлайн R²: 0.9280, Улучшенный R²: 0.9307, Custom KNN R²: 0.9294\n"
          ]
        }
      ]
    },
    {
      "cell_type": "markdown",
      "source": [
        "# Алгоритм Линейных моделей"
      ],
      "metadata": {
        "id": "K0VNiz2Rq303"
      }
    },
    {
      "cell_type": "markdown",
      "source": [
        "## Задача классификации"
      ],
      "metadata": {
        "id": "RiRt1j7PrB-G"
      }
    },
    {
      "cell_type": "markdown",
      "source": [
        "Импортируем нужные библиотеки"
      ],
      "metadata": {
        "id": "HEVHJSWQrUza"
      }
    },
    {
      "cell_type": "code",
      "source": [
        "import pandas as pd\n",
        "import numpy as np\n",
        "from sklearn.preprocessing import StandardScaler\n",
        "from sklearn.model_selection import train_test_split, GridSearchCV\n",
        "from sklearn.linear_model import LogisticRegression\n",
        "from sklearn.metrics import accuracy_score, f1_score, classification_report\n",
        "from scipy.special import expit"
      ],
      "metadata": {
        "id": "gDoN0lCYrT5n"
      },
      "execution_count": 23,
      "outputs": []
    },
    {
      "cell_type": "markdown",
      "source": [
        "Загрузим данные датасета, для удобства поменяем названия колонок и выведем первые данные датасета для просмотра"
      ],
      "metadata": {
        "id": "sIinaqeUrccO"
      }
    },
    {
      "cell_type": "code",
      "source": [
        "data = pd.read_csv('energy_efficiency_data.csv')\n",
        "\n",
        "data.columns = [\n",
        "    \"Relative_Compactness\", \"Surface_Area\", \"Wall_Area\", \"Roof_Area\",\n",
        "    \"Overall_Height\", \"Orientation\", \"Glazing_Area\", \"Glazing_Area_Distribution\",\n",
        "    \"Heating_Load\", \"Cooling_Load\"\n",
        "]\n",
        "\n",
        "data.head()"
      ],
      "metadata": {
        "colab": {
          "base_uri": "https://localhost:8080/",
          "height": 206
        },
        "id": "ho6XLA6UrcI8",
        "outputId": "64e95830-8a06-435b-caa9-6e15c433d974"
      },
      "execution_count": 24,
      "outputs": [
        {
          "output_type": "execute_result",
          "data": {
            "text/plain": [
              "   Relative_Compactness  Surface_Area  Wall_Area  Roof_Area  Overall_Height  \\\n",
              "0                  0.98         514.5      294.0     110.25             7.0   \n",
              "1                  0.98         514.5      294.0     110.25             7.0   \n",
              "2                  0.98         514.5      294.0     110.25             7.0   \n",
              "3                  0.98         514.5      294.0     110.25             7.0   \n",
              "4                  0.90         563.5      318.5     122.50             7.0   \n",
              "\n",
              "   Orientation  Glazing_Area  Glazing_Area_Distribution  Heating_Load  \\\n",
              "0            2           0.0                          0         15.55   \n",
              "1            3           0.0                          0         15.55   \n",
              "2            4           0.0                          0         15.55   \n",
              "3            5           0.0                          0         15.55   \n",
              "4            2           0.0                          0         20.84   \n",
              "\n",
              "   Cooling_Load  \n",
              "0         21.33  \n",
              "1         21.33  \n",
              "2         21.33  \n",
              "3         21.33  \n",
              "4         28.28  "
            ],
            "text/html": [
              "\n",
              "  <div id=\"df-5cd20cb0-b187-46a0-83c8-6dd7682b0ad3\" class=\"colab-df-container\">\n",
              "    <div>\n",
              "<style scoped>\n",
              "    .dataframe tbody tr th:only-of-type {\n",
              "        vertical-align: middle;\n",
              "    }\n",
              "\n",
              "    .dataframe tbody tr th {\n",
              "        vertical-align: top;\n",
              "    }\n",
              "\n",
              "    .dataframe thead th {\n",
              "        text-align: right;\n",
              "    }\n",
              "</style>\n",
              "<table border=\"1\" class=\"dataframe\">\n",
              "  <thead>\n",
              "    <tr style=\"text-align: right;\">\n",
              "      <th></th>\n",
              "      <th>Relative_Compactness</th>\n",
              "      <th>Surface_Area</th>\n",
              "      <th>Wall_Area</th>\n",
              "      <th>Roof_Area</th>\n",
              "      <th>Overall_Height</th>\n",
              "      <th>Orientation</th>\n",
              "      <th>Glazing_Area</th>\n",
              "      <th>Glazing_Area_Distribution</th>\n",
              "      <th>Heating_Load</th>\n",
              "      <th>Cooling_Load</th>\n",
              "    </tr>\n",
              "  </thead>\n",
              "  <tbody>\n",
              "    <tr>\n",
              "      <th>0</th>\n",
              "      <td>0.98</td>\n",
              "      <td>514.5</td>\n",
              "      <td>294.0</td>\n",
              "      <td>110.25</td>\n",
              "      <td>7.0</td>\n",
              "      <td>2</td>\n",
              "      <td>0.0</td>\n",
              "      <td>0</td>\n",
              "      <td>15.55</td>\n",
              "      <td>21.33</td>\n",
              "    </tr>\n",
              "    <tr>\n",
              "      <th>1</th>\n",
              "      <td>0.98</td>\n",
              "      <td>514.5</td>\n",
              "      <td>294.0</td>\n",
              "      <td>110.25</td>\n",
              "      <td>7.0</td>\n",
              "      <td>3</td>\n",
              "      <td>0.0</td>\n",
              "      <td>0</td>\n",
              "      <td>15.55</td>\n",
              "      <td>21.33</td>\n",
              "    </tr>\n",
              "    <tr>\n",
              "      <th>2</th>\n",
              "      <td>0.98</td>\n",
              "      <td>514.5</td>\n",
              "      <td>294.0</td>\n",
              "      <td>110.25</td>\n",
              "      <td>7.0</td>\n",
              "      <td>4</td>\n",
              "      <td>0.0</td>\n",
              "      <td>0</td>\n",
              "      <td>15.55</td>\n",
              "      <td>21.33</td>\n",
              "    </tr>\n",
              "    <tr>\n",
              "      <th>3</th>\n",
              "      <td>0.98</td>\n",
              "      <td>514.5</td>\n",
              "      <td>294.0</td>\n",
              "      <td>110.25</td>\n",
              "      <td>7.0</td>\n",
              "      <td>5</td>\n",
              "      <td>0.0</td>\n",
              "      <td>0</td>\n",
              "      <td>15.55</td>\n",
              "      <td>21.33</td>\n",
              "    </tr>\n",
              "    <tr>\n",
              "      <th>4</th>\n",
              "      <td>0.90</td>\n",
              "      <td>563.5</td>\n",
              "      <td>318.5</td>\n",
              "      <td>122.50</td>\n",
              "      <td>7.0</td>\n",
              "      <td>2</td>\n",
              "      <td>0.0</td>\n",
              "      <td>0</td>\n",
              "      <td>20.84</td>\n",
              "      <td>28.28</td>\n",
              "    </tr>\n",
              "  </tbody>\n",
              "</table>\n",
              "</div>\n",
              "    <div class=\"colab-df-buttons\">\n",
              "\n",
              "  <div class=\"colab-df-container\">\n",
              "    <button class=\"colab-df-convert\" onclick=\"convertToInteractive('df-5cd20cb0-b187-46a0-83c8-6dd7682b0ad3')\"\n",
              "            title=\"Convert this dataframe to an interactive table.\"\n",
              "            style=\"display:none;\">\n",
              "\n",
              "  <svg xmlns=\"http://www.w3.org/2000/svg\" height=\"24px\" viewBox=\"0 -960 960 960\">\n",
              "    <path d=\"M120-120v-720h720v720H120Zm60-500h600v-160H180v160Zm220 220h160v-160H400v160Zm0 220h160v-160H400v160ZM180-400h160v-160H180v160Zm440 0h160v-160H620v160ZM180-180h160v-160H180v160Zm440 0h160v-160H620v160Z\"/>\n",
              "  </svg>\n",
              "    </button>\n",
              "\n",
              "  <style>\n",
              "    .colab-df-container {\n",
              "      display:flex;\n",
              "      gap: 12px;\n",
              "    }\n",
              "\n",
              "    .colab-df-convert {\n",
              "      background-color: #E8F0FE;\n",
              "      border: none;\n",
              "      border-radius: 50%;\n",
              "      cursor: pointer;\n",
              "      display: none;\n",
              "      fill: #1967D2;\n",
              "      height: 32px;\n",
              "      padding: 0 0 0 0;\n",
              "      width: 32px;\n",
              "    }\n",
              "\n",
              "    .colab-df-convert:hover {\n",
              "      background-color: #E2EBFA;\n",
              "      box-shadow: 0px 1px 2px rgba(60, 64, 67, 0.3), 0px 1px 3px 1px rgba(60, 64, 67, 0.15);\n",
              "      fill: #174EA6;\n",
              "    }\n",
              "\n",
              "    .colab-df-buttons div {\n",
              "      margin-bottom: 4px;\n",
              "    }\n",
              "\n",
              "    [theme=dark] .colab-df-convert {\n",
              "      background-color: #3B4455;\n",
              "      fill: #D2E3FC;\n",
              "    }\n",
              "\n",
              "    [theme=dark] .colab-df-convert:hover {\n",
              "      background-color: #434B5C;\n",
              "      box-shadow: 0px 1px 3px 1px rgba(0, 0, 0, 0.15);\n",
              "      filter: drop-shadow(0px 1px 2px rgba(0, 0, 0, 0.3));\n",
              "      fill: #FFFFFF;\n",
              "    }\n",
              "  </style>\n",
              "\n",
              "    <script>\n",
              "      const buttonEl =\n",
              "        document.querySelector('#df-5cd20cb0-b187-46a0-83c8-6dd7682b0ad3 button.colab-df-convert');\n",
              "      buttonEl.style.display =\n",
              "        google.colab.kernel.accessAllowed ? 'block' : 'none';\n",
              "\n",
              "      async function convertToInteractive(key) {\n",
              "        const element = document.querySelector('#df-5cd20cb0-b187-46a0-83c8-6dd7682b0ad3');\n",
              "        const dataTable =\n",
              "          await google.colab.kernel.invokeFunction('convertToInteractive',\n",
              "                                                    [key], {});\n",
              "        if (!dataTable) return;\n",
              "\n",
              "        const docLinkHtml = 'Like what you see? Visit the ' +\n",
              "          '<a target=\"_blank\" href=https://colab.research.google.com/notebooks/data_table.ipynb>data table notebook</a>'\n",
              "          + ' to learn more about interactive tables.';\n",
              "        element.innerHTML = '';\n",
              "        dataTable['output_type'] = 'display_data';\n",
              "        await google.colab.output.renderOutput(dataTable, element);\n",
              "        const docLink = document.createElement('div');\n",
              "        docLink.innerHTML = docLinkHtml;\n",
              "        element.appendChild(docLink);\n",
              "      }\n",
              "    </script>\n",
              "  </div>\n",
              "\n",
              "\n",
              "<div id=\"df-d7a5f4ad-2fd2-46dd-8fd4-a742d5575dd5\">\n",
              "  <button class=\"colab-df-quickchart\" onclick=\"quickchart('df-d7a5f4ad-2fd2-46dd-8fd4-a742d5575dd5')\"\n",
              "            title=\"Suggest charts\"\n",
              "            style=\"display:none;\">\n",
              "\n",
              "<svg xmlns=\"http://www.w3.org/2000/svg\" height=\"24px\"viewBox=\"0 0 24 24\"\n",
              "     width=\"24px\">\n",
              "    <g>\n",
              "        <path d=\"M19 3H5c-1.1 0-2 .9-2 2v14c0 1.1.9 2 2 2h14c1.1 0 2-.9 2-2V5c0-1.1-.9-2-2-2zM9 17H7v-7h2v7zm4 0h-2V7h2v10zm4 0h-2v-4h2v4z\"/>\n",
              "    </g>\n",
              "</svg>\n",
              "  </button>\n",
              "\n",
              "<style>\n",
              "  .colab-df-quickchart {\n",
              "      --bg-color: #E8F0FE;\n",
              "      --fill-color: #1967D2;\n",
              "      --hover-bg-color: #E2EBFA;\n",
              "      --hover-fill-color: #174EA6;\n",
              "      --disabled-fill-color: #AAA;\n",
              "      --disabled-bg-color: #DDD;\n",
              "  }\n",
              "\n",
              "  [theme=dark] .colab-df-quickchart {\n",
              "      --bg-color: #3B4455;\n",
              "      --fill-color: #D2E3FC;\n",
              "      --hover-bg-color: #434B5C;\n",
              "      --hover-fill-color: #FFFFFF;\n",
              "      --disabled-bg-color: #3B4455;\n",
              "      --disabled-fill-color: #666;\n",
              "  }\n",
              "\n",
              "  .colab-df-quickchart {\n",
              "    background-color: var(--bg-color);\n",
              "    border: none;\n",
              "    border-radius: 50%;\n",
              "    cursor: pointer;\n",
              "    display: none;\n",
              "    fill: var(--fill-color);\n",
              "    height: 32px;\n",
              "    padding: 0;\n",
              "    width: 32px;\n",
              "  }\n",
              "\n",
              "  .colab-df-quickchart:hover {\n",
              "    background-color: var(--hover-bg-color);\n",
              "    box-shadow: 0 1px 2px rgba(60, 64, 67, 0.3), 0 1px 3px 1px rgba(60, 64, 67, 0.15);\n",
              "    fill: var(--button-hover-fill-color);\n",
              "  }\n",
              "\n",
              "  .colab-df-quickchart-complete:disabled,\n",
              "  .colab-df-quickchart-complete:disabled:hover {\n",
              "    background-color: var(--disabled-bg-color);\n",
              "    fill: var(--disabled-fill-color);\n",
              "    box-shadow: none;\n",
              "  }\n",
              "\n",
              "  .colab-df-spinner {\n",
              "    border: 2px solid var(--fill-color);\n",
              "    border-color: transparent;\n",
              "    border-bottom-color: var(--fill-color);\n",
              "    animation:\n",
              "      spin 1s steps(1) infinite;\n",
              "  }\n",
              "\n",
              "  @keyframes spin {\n",
              "    0% {\n",
              "      border-color: transparent;\n",
              "      border-bottom-color: var(--fill-color);\n",
              "      border-left-color: var(--fill-color);\n",
              "    }\n",
              "    20% {\n",
              "      border-color: transparent;\n",
              "      border-left-color: var(--fill-color);\n",
              "      border-top-color: var(--fill-color);\n",
              "    }\n",
              "    30% {\n",
              "      border-color: transparent;\n",
              "      border-left-color: var(--fill-color);\n",
              "      border-top-color: var(--fill-color);\n",
              "      border-right-color: var(--fill-color);\n",
              "    }\n",
              "    40% {\n",
              "      border-color: transparent;\n",
              "      border-right-color: var(--fill-color);\n",
              "      border-top-color: var(--fill-color);\n",
              "    }\n",
              "    60% {\n",
              "      border-color: transparent;\n",
              "      border-right-color: var(--fill-color);\n",
              "    }\n",
              "    80% {\n",
              "      border-color: transparent;\n",
              "      border-right-color: var(--fill-color);\n",
              "      border-bottom-color: var(--fill-color);\n",
              "    }\n",
              "    90% {\n",
              "      border-color: transparent;\n",
              "      border-bottom-color: var(--fill-color);\n",
              "    }\n",
              "  }\n",
              "</style>\n",
              "\n",
              "  <script>\n",
              "    async function quickchart(key) {\n",
              "      const quickchartButtonEl =\n",
              "        document.querySelector('#' + key + ' button');\n",
              "      quickchartButtonEl.disabled = true;  // To prevent multiple clicks.\n",
              "      quickchartButtonEl.classList.add('colab-df-spinner');\n",
              "      try {\n",
              "        const charts = await google.colab.kernel.invokeFunction(\n",
              "            'suggestCharts', [key], {});\n",
              "      } catch (error) {\n",
              "        console.error('Error during call to suggestCharts:', error);\n",
              "      }\n",
              "      quickchartButtonEl.classList.remove('colab-df-spinner');\n",
              "      quickchartButtonEl.classList.add('colab-df-quickchart-complete');\n",
              "    }\n",
              "    (() => {\n",
              "      let quickchartButtonEl =\n",
              "        document.querySelector('#df-d7a5f4ad-2fd2-46dd-8fd4-a742d5575dd5 button');\n",
              "      quickchartButtonEl.style.display =\n",
              "        google.colab.kernel.accessAllowed ? 'block' : 'none';\n",
              "    })();\n",
              "  </script>\n",
              "</div>\n",
              "    </div>\n",
              "  </div>\n"
            ],
            "application/vnd.google.colaboratory.intrinsic+json": {
              "type": "dataframe",
              "variable_name": "data",
              "summary": "{\n  \"name\": \"data\",\n  \"rows\": 768,\n  \"fields\": [\n    {\n      \"column\": \"Relative_Compactness\",\n      \"properties\": {\n        \"dtype\": \"number\",\n        \"std\": 0.10577747587475206,\n        \"min\": 0.62,\n        \"max\": 0.98,\n        \"num_unique_values\": 12,\n        \"samples\": [\n          0.64,\n          0.66,\n          0.98\n        ],\n        \"semantic_type\": \"\",\n        \"description\": \"\"\n      }\n    },\n    {\n      \"column\": \"Surface_Area\",\n      \"properties\": {\n        \"dtype\": \"number\",\n        \"std\": 88.08611605586826,\n        \"min\": 514.5,\n        \"max\": 808.5,\n        \"num_unique_values\": 12,\n        \"samples\": [\n          784.0,\n          759.5,\n          514.5\n        ],\n        \"semantic_type\": \"\",\n        \"description\": \"\"\n      }\n    },\n    {\n      \"column\": \"Wall_Area\",\n      \"properties\": {\n        \"dtype\": \"number\",\n        \"std\": 43.6264814379949,\n        \"min\": 245.0,\n        \"max\": 416.5,\n        \"num_unique_values\": 7,\n        \"samples\": [\n          294.0,\n          318.5,\n          269.5\n        ],\n        \"semantic_type\": \"\",\n        \"description\": \"\"\n      }\n    },\n    {\n      \"column\": \"Roof_Area\",\n      \"properties\": {\n        \"dtype\": \"number\",\n        \"std\": 45.165950222920344,\n        \"min\": 110.25,\n        \"max\": 220.5,\n        \"num_unique_values\": 4,\n        \"samples\": [\n          122.5,\n          220.5,\n          110.25\n        ],\n        \"semantic_type\": \"\",\n        \"description\": \"\"\n      }\n    },\n    {\n      \"column\": \"Overall_Height\",\n      \"properties\": {\n        \"dtype\": \"number\",\n        \"std\": 1.7511404367453496,\n        \"min\": 3.5,\n        \"max\": 7.0,\n        \"num_unique_values\": 2,\n        \"samples\": [\n          3.5,\n          7.0\n        ],\n        \"semantic_type\": \"\",\n        \"description\": \"\"\n      }\n    },\n    {\n      \"column\": \"Orientation\",\n      \"properties\": {\n        \"dtype\": \"number\",\n        \"std\": 1,\n        \"min\": 2,\n        \"max\": 5,\n        \"num_unique_values\": 4,\n        \"samples\": [\n          3,\n          5\n        ],\n        \"semantic_type\": \"\",\n        \"description\": \"\"\n      }\n    },\n    {\n      \"column\": \"Glazing_Area\",\n      \"properties\": {\n        \"dtype\": \"number\",\n        \"std\": 0.13322056291470877,\n        \"min\": 0.0,\n        \"max\": 0.4,\n        \"num_unique_values\": 4,\n        \"samples\": [\n          0.1,\n          0.4\n        ],\n        \"semantic_type\": \"\",\n        \"description\": \"\"\n      }\n    },\n    {\n      \"column\": \"Glazing_Area_Distribution\",\n      \"properties\": {\n        \"dtype\": \"number\",\n        \"std\": 1,\n        \"min\": 0,\n        \"max\": 5,\n        \"num_unique_values\": 6,\n        \"samples\": [\n          0,\n          1\n        ],\n        \"semantic_type\": \"\",\n        \"description\": \"\"\n      }\n    },\n    {\n      \"column\": \"Heating_Load\",\n      \"properties\": {\n        \"dtype\": \"number\",\n        \"std\": 10.090195732006162,\n        \"min\": 6.01,\n        \"max\": 43.1,\n        \"num_unique_values\": 586,\n        \"samples\": [\n          16.47,\n          24.94\n        ],\n        \"semantic_type\": \"\",\n        \"description\": \"\"\n      }\n    },\n    {\n      \"column\": \"Cooling_Load\",\n      \"properties\": {\n        \"dtype\": \"number\",\n        \"std\": 9.513305562326163,\n        \"min\": 10.9,\n        \"max\": 48.03,\n        \"num_unique_values\": 636,\n        \"samples\": [\n          21.09,\n          20.82\n        ],\n        \"semantic_type\": \"\",\n        \"description\": \"\"\n      }\n    }\n  ]\n}"
            }
          },
          "metadata": {},
          "execution_count": 24
        }
      ]
    },
    {
      "cell_type": "markdown",
      "source": [
        "Выберем переменную для классификации, и для удобства удалил ненужные столбцы"
      ],
      "metadata": {
        "id": "3fnBKqKisDTg"
      }
    },
    {
      "cell_type": "code",
      "source": [
        "data['Heating_Load_Class'] = pd.qcut(data['Heating_Load'], q=3, labels=['Low', 'Medium', 'High'])\n",
        "\n",
        "data = data.drop(['Heating_Load', 'Cooling_Load'], axis=1)\n",
        "\n",
        "\n",
        "X = data.drop('Heating_Load_Class', axis=1)\n",
        "y = data['Heating_Load_Class']\n"
      ],
      "metadata": {
        "id": "2oen2GO4rBLr"
      },
      "execution_count": 25,
      "outputs": []
    },
    {
      "cell_type": "markdown",
      "source": [
        "Разделим датасет на тестовую и обучающую выборки"
      ],
      "metadata": {
        "id": "GhsLbtRgsGqN"
      }
    },
    {
      "cell_type": "code",
      "source": [
        "scaler = StandardScaler()\n",
        "X_scaled = scaler.fit_transform(X)\n",
        "\n",
        "X_train, X_test, y_train, y_test = train_test_split(X_scaled, y, test_size=0.2, random_state=42, stratify=y)\n",
        "print(f\"Размер обучающей выборки: {X_train.shape}, Размер тестовой выборки: {X_test.shape}\")"
      ],
      "metadata": {
        "colab": {
          "base_uri": "https://localhost:8080/"
        },
        "id": "ED61yo9SsMJi",
        "outputId": "82685378-0b8c-4c8c-a8bc-e3c74503a4c0"
      },
      "execution_count": 26,
      "outputs": [
        {
          "output_type": "stream",
          "name": "stdout",
          "text": [
            "Размер обучающей выборки: (614, 8), Размер тестовой выборки: (154, 8)\n"
          ]
        }
      ]
    },
    {
      "cell_type": "markdown",
      "source": [
        "Применим встроенный алгоритм"
      ],
      "metadata": {
        "id": "w5ZVVTZZsXCX"
      }
    },
    {
      "cell_type": "code",
      "source": [
        "lr_baseline = LogisticRegression(max_iter=1000, random_state=42)\n",
        "lr_baseline.fit(X_train, y_train)\n",
        "\n",
        "y_pred = lr_baseline.predict(X_test)\n",
        "\n",
        "accuracy = accuracy_score(y_test, y_pred)\n",
        "f1 = f1_score(y_test, y_pred, average='weighted')\n",
        "\n",
        "print(\"Бейзлайн:\")\n",
        "print(f\"Accuracy: {accuracy:.4f}\")\n",
        "print(f\"F1-Score: {f1:.4f}\")\n",
        "print(\"\\nClassification Report:\")\n",
        "print(classification_report(y_test, y_pred))"
      ],
      "metadata": {
        "colab": {
          "base_uri": "https://localhost:8080/"
        },
        "id": "hqBSagAgsZd8",
        "outputId": "67f3ce4e-1f84-451d-af05-bf91ad21c47c"
      },
      "execution_count": 27,
      "outputs": [
        {
          "output_type": "stream",
          "name": "stdout",
          "text": [
            "Бейзлайн:\n",
            "Accuracy: 0.8312\n",
            "F1-Score: 0.8264\n",
            "\n",
            "Classification Report:\n",
            "              precision    recall  f1-score   support\n",
            "\n",
            "        High       0.79      0.90      0.84        51\n",
            "         Low       0.89      0.94      0.92        52\n",
            "      Medium       0.80      0.65      0.72        51\n",
            "\n",
            "    accuracy                           0.83       154\n",
            "   macro avg       0.83      0.83      0.83       154\n",
            "weighted avg       0.83      0.83      0.83       154\n",
            "\n"
          ]
        }
      ]
    },
    {
      "cell_type": "markdown",
      "source": [
        "Подберем гиперпараметры для оптимизации безлайна"
      ],
      "metadata": {
        "id": "vLeiSjm2shrB"
      }
    },
    {
      "cell_type": "code",
      "source": [
        "param_grid = {\n",
        "    'C': [0.01, 0.1, 1, 10, 100],\n",
        "    'solver': ['liblinear', 'lbfgs', 'sag'],\n",
        "    'penalty': ['l2']\n",
        "}\n",
        "\n",
        "grid_search = GridSearchCV(LogisticRegression(max_iter=1000, random_state=42), param_grid, cv=5, scoring='accuracy', verbose=1, n_jobs=-1)\n",
        "grid_search.fit(X_train, y_train)\n",
        "\n",
        "best_params = grid_search.best_params_\n",
        "print(f\"Лучшие параметры: {best_params}\")"
      ],
      "metadata": {
        "colab": {
          "base_uri": "https://localhost:8080/"
        },
        "id": "R0VelFa3smUi",
        "outputId": "eafcb937-a470-49b4-c049-c57ba6c965db"
      },
      "execution_count": 28,
      "outputs": [
        {
          "output_type": "stream",
          "name": "stdout",
          "text": [
            "Fitting 5 folds for each of 15 candidates, totalling 75 fits\n",
            "Лучшие параметры: {'C': 100, 'penalty': 'l2', 'solver': 'lbfgs'}\n"
          ]
        }
      ]
    },
    {
      "cell_type": "markdown",
      "source": [
        "Обучение с подобранными гиперпараметрами"
      ],
      "metadata": {
        "id": "VJqSasGnsrjR"
      }
    },
    {
      "cell_type": "code",
      "source": [
        "best_lr = grid_search.best_estimator_\n",
        "\n",
        "y_pred_best = best_lr.predict(X_test)\n",
        "\n",
        "accuracy_best = accuracy_score(y_test, y_pred_best)\n",
        "f1_best = f1_score(y_test, y_pred_best, average='weighted')\n",
        "\n",
        "print(\"Улучшенный бейзлайн:\")\n",
        "print(f\"Accuracy: {accuracy_best:.4f}\")\n",
        "print(f\"F1-Score: {f1_best:.4f}\")\n",
        "print(\"\\nClassification Report:\")\n",
        "print(classification_report(y_test, y_pred_best))"
      ],
      "metadata": {
        "colab": {
          "base_uri": "https://localhost:8080/"
        },
        "id": "WEAgXe8wsuZf",
        "outputId": "12de7c38-7fd9-45d9-e639-dec9476ba318"
      },
      "execution_count": 29,
      "outputs": [
        {
          "output_type": "stream",
          "name": "stdout",
          "text": [
            "Улучшенный бейзлайн:\n",
            "Accuracy: 0.8377\n",
            "F1-Score: 0.8324\n",
            "\n",
            "Classification Report:\n",
            "              precision    recall  f1-score   support\n",
            "\n",
            "        High       0.80      0.92      0.85        51\n",
            "         Low       0.89      0.94      0.92        52\n",
            "      Medium       0.82      0.65      0.73        51\n",
            "\n",
            "    accuracy                           0.84       154\n",
            "   macro avg       0.84      0.84      0.83       154\n",
            "weighted avg       0.84      0.84      0.83       154\n",
            "\n"
          ]
        }
      ]
    },
    {
      "cell_type": "markdown",
      "source": [
        "Имплементация алгоритма"
      ],
      "metadata": {
        "id": "-hmqg1Xjsxco"
      }
    },
    {
      "cell_type": "code",
      "source": [
        "class CustomLogisticRegression:\n",
        "    def __init__(self, learning_rate=0.01, n_iterations=1000):\n",
        "        self.learning_rate = learning_rate\n",
        "        self.n_iterations = n_iterations\n",
        "\n",
        "    def fit(self, X, y):\n",
        "        self.classes_ = np.unique(y)\n",
        "        y_encoded = self._one_hot_encode(y)\n",
        "        self.weights = np.zeros((X.shape[1], len(self.classes_)))\n",
        "        self.bias = np.zeros(len(self.classes_))\n",
        "\n",
        "        for _ in range(self.n_iterations):\n",
        "            linear_model = np.dot(X, self.weights) + self.bias\n",
        "            probabilities = self._softmax(linear_model)\n",
        "            dw = np.dot(X.T, (probabilities - y_encoded)) / X.shape[0]\n",
        "            db = np.sum(probabilities - y_encoded, axis=0) / X.shape[0]\n",
        "\n",
        "            self.weights -= self.learning_rate * dw\n",
        "            self.bias -= self.learning_rate * db\n",
        "\n",
        "    def predict(self, X):\n",
        "        linear_model = np.dot(X, self.weights) + self.bias\n",
        "        probabilities = self._softmax(linear_model)\n",
        "        predictions = np.argmax(probabilities, axis=1)\n",
        "        return self.classes_[predictions]\n",
        "\n",
        "    def _softmax(self, z):\n",
        "        exp_z = np.exp(z - np.max(z, axis=1, keepdims=True))\n",
        "        return exp_z / np.sum(exp_z, axis=1, keepdims=True)\n",
        "\n",
        "    def _one_hot_encode(self, y):\n",
        "        y_encoded = np.zeros((y.shape[0], len(self.classes_)))\n",
        "        for idx, class_ in enumerate(self.classes_):\n",
        "            y_encoded[:, idx] = (y == class_).astype(float)\n",
        "        return y_encoded\n",
        "\n",
        "custom_lr = CustomLogisticRegression(learning_rate=0.1, n_iterations=1000)\n",
        "custom_lr.fit(X_train, y_train)\n",
        "\n",
        "y_pred_custom = custom_lr.predict(X_test)\n",
        "\n",
        "accuracy_custom = accuracy_score(y_test, y_pred_custom)\n",
        "f1_custom = f1_score(y_test, y_pred_custom, average='weighted')\n",
        "\n",
        "print(\"Имплементация:\")\n",
        "print(f\"Accuracy: {accuracy_custom:.4f}\")\n",
        "print(f\"F1-Score: {f1_custom:.4f}\")\n",
        "print(\"\\nClassification Report:\")\n",
        "print(classification_report(y_test, y_pred_custom))"
      ],
      "metadata": {
        "colab": {
          "base_uri": "https://localhost:8080/"
        },
        "id": "8T6833AiszSs",
        "outputId": "061c490f-6e53-4014-c98d-a70367d7303c"
      },
      "execution_count": 30,
      "outputs": [
        {
          "output_type": "stream",
          "name": "stdout",
          "text": [
            "Имплементация:\n",
            "Accuracy: 0.8377\n",
            "F1-Score: 0.8324\n",
            "\n",
            "Classification Report:\n",
            "              precision    recall  f1-score   support\n",
            "\n",
            "        High       0.79      0.90      0.84        51\n",
            "         Low       0.89      0.96      0.93        52\n",
            "      Medium       0.82      0.65      0.73        51\n",
            "\n",
            "    accuracy                           0.84       154\n",
            "   macro avg       0.84      0.84      0.83       154\n",
            "weighted avg       0.84      0.84      0.83       154\n",
            "\n"
          ]
        }
      ]
    },
    {
      "cell_type": "markdown",
      "source": [
        "Сравнение полученных результатов"
      ],
      "metadata": {
        "id": "xErdag3as-a6"
      }
    },
    {
      "cell_type": "code",
      "source": [
        "print(\"Сравнение результатов:\")\n",
        "print(f\"Бейзлайн Accuracy: {accuracy:.4f}, Улучшенный Accuracy: {accuracy_best:.4f}, Custom Accuracy: {accuracy_custom:.4f}\")\n",
        "print(f\"Бейзлайн F1-Score: {f1:.4f}, Улучшенный F1-Score: {f1_best:.4f}, Custom F1-Score: {f1_custom:.4f}\")"
      ],
      "metadata": {
        "id": "MFx53jUvs8LR",
        "colab": {
          "base_uri": "https://localhost:8080/"
        },
        "outputId": "eece36e7-b411-4694-874c-3f16471d45d9"
      },
      "execution_count": 31,
      "outputs": [
        {
          "output_type": "stream",
          "name": "stdout",
          "text": [
            "Сравнение результатов:\n",
            "Бейзлайн Accuracy: 0.8312, Улучшенный Accuracy: 0.8377, Custom Accuracy: 0.8377\n",
            "Бейзлайн F1-Score: 0.8264, Улучшенный F1-Score: 0.8324, Custom F1-Score: 0.8324\n"
          ]
        }
      ]
    },
    {
      "cell_type": "markdown",
      "source": [
        "## Задача регрессии"
      ],
      "metadata": {
        "id": "eyp-XsejtDoN"
      }
    },
    {
      "cell_type": "markdown",
      "source": [
        "Импортируем нужные библиотеки"
      ],
      "metadata": {
        "id": "TtqzvgpYtMcx"
      }
    },
    {
      "cell_type": "code",
      "source": [
        "import pandas as pd\n",
        "import numpy as np\n",
        "from sklearn.model_selection import train_test_split, GridSearchCV\n",
        "from sklearn.preprocessing import StandardScaler\n",
        "from sklearn.linear_model import LinearRegression, Ridge, Lasso\n",
        "from sklearn.metrics import mean_absolute_error, mean_squared_error, r2_score"
      ],
      "metadata": {
        "id": "6PKwdIYutF3g"
      },
      "execution_count": 32,
      "outputs": []
    },
    {
      "cell_type": "markdown",
      "source": [
        "Загрузим данные датасета, для удобства поменяем названия колонок, разделим данные на тестовую и обучающую выборку"
      ],
      "metadata": {
        "id": "sQI8DP3MtW9q"
      }
    },
    {
      "cell_type": "code",
      "source": [
        "data = pd.read_csv(\"energy_efficiency_data.csv\")\n",
        "\n",
        "X = data[\n",
        "    [\n",
        "        \"Relative_Compactness\",\n",
        "        \"Surface_Area\",\n",
        "        \"Wall_Area\",\n",
        "        \"Roof_Area\",\n",
        "        \"Overall_Height\",\n",
        "        \"Orientation\",\n",
        "        \"Glazing_Area\",\n",
        "        \"Glazing_Area_Distribution\",\n",
        "    ]\n",
        "]\n",
        "y_heating = data[\"Heating_Load\"]\n",
        "y_cooling = data[\"Cooling_Load\"]\n",
        "\n",
        "X_train, X_test, y_train_heating, y_test_heating = train_test_split(\n",
        "    X, y_heating, test_size=0.2, random_state=42\n",
        ")\n",
        "X_train, X_test, y_train_cooling, y_test_cooling = train_test_split(\n",
        "    X, y_cooling, test_size=0.2, random_state=42\n",
        ")\n",
        "\n",
        "scaler = StandardScaler()\n",
        "X_train = scaler.fit_transform(X_train)\n",
        "X_test = scaler.transform(X_test)"
      ],
      "metadata": {
        "id": "rgmiB2ohtXRq"
      },
      "execution_count": 33,
      "outputs": []
    },
    {
      "cell_type": "markdown",
      "source": [
        "Обучение безлайна и оценка модели"
      ],
      "metadata": {
        "id": "6SsGRr1GthqQ"
      }
    },
    {
      "cell_type": "code",
      "source": [
        "lr_heating = LinearRegression()\n",
        "lr_heating.fit(X_train, y_train_heating)\n",
        "y_pred_heating = lr_heating.predict(X_test)\n",
        "\n",
        "lr_cooling = LinearRegression()\n",
        "lr_cooling.fit(X_train, y_train_cooling)\n",
        "y_pred_cooling = lr_cooling.predict(X_test)\n",
        "\n",
        "def evaluate_model(y_true, y_pred):\n",
        "    mae = mean_absolute_error(y_true, y_pred)\n",
        "    mse = mean_squared_error(y_true, y_pred)\n",
        "    r2 = r2_score(y_true, y_pred)\n",
        "    return mae, mse, r2\n",
        "\n",
        "print(\"Heating Load Metrics (Linear Regression):\")\n",
        "mae_heating, mse_heating, r2_heating = evaluate_model(y_test_heating, y_pred_heating)\n",
        "print(f\"MAE: {mae_heating:.4f}, MSE: {mse_heating:.4f}, R²: {r2_heating:.4f}\")\n",
        "\n",
        "print(\"\\nCooling Load Metrics (Linear Regression):\")\n",
        "mae_cooling, mse_cooling, r2_cooling = evaluate_model(y_test_cooling, y_pred_cooling)\n",
        "print(f\"MAE: {mae_cooling:.4f}, MSE: {mse_cooling:.4f}, R²: {r2_cooling:.4f}\")"
      ],
      "metadata": {
        "colab": {
          "base_uri": "https://localhost:8080/"
        },
        "id": "_Ql8qKYCtbLz",
        "outputId": "97787825-e3f2-4375-bd6c-2c26a71f2ba6"
      },
      "execution_count": 34,
      "outputs": [
        {
          "output_type": "stream",
          "name": "stdout",
          "text": [
            "Heating Load Metrics (Linear Regression):\n",
            "MAE: 2.1820, MSE: 9.1532, R²: 0.9122\n",
            "\n",
            "Cooling Load Metrics (Linear Regression):\n",
            "MAE: 2.1953, MSE: 9.8934, R²: 0.8932\n"
          ]
        }
      ]
    },
    {
      "cell_type": "markdown",
      "source": [
        "Подбор гиперпараметров для оптимизации безлайна"
      ],
      "metadata": {
        "id": "7FcUp2tctqIC"
      }
    },
    {
      "cell_type": "code",
      "source": [
        "param_grid = {\"alpha\": [0.01, 0.1, 1, 10, 100]}\n",
        "\n",
        "grid_ridge_heating = GridSearchCV(Ridge(), param_grid, cv=5, scoring=\"r2\", verbose=1)\n",
        "grid_ridge_heating.fit(X_train, y_train_heating)\n",
        "\n",
        "grid_ridge_cooling = GridSearchCV(Ridge(), param_grid, cv=5, scoring=\"r2\", verbose=1)\n",
        "grid_ridge_cooling.fit(X_train, y_train_cooling)\n",
        "\n",
        "best_alpha_heating = grid_ridge_heating.best_params_[\"alpha\"]\n",
        "best_alpha_cooling = grid_ridge_cooling.best_params_[\"alpha\"]\n"
      ],
      "metadata": {
        "colab": {
          "base_uri": "https://localhost:8080/"
        },
        "id": "EAAQPcHOttY6",
        "outputId": "fcebfc03-491a-4cbe-a008-48ac32fc9060"
      },
      "execution_count": 35,
      "outputs": [
        {
          "output_type": "stream",
          "name": "stdout",
          "text": [
            "Fitting 5 folds for each of 5 candidates, totalling 25 fits\n",
            "Fitting 5 folds for each of 5 candidates, totalling 25 fits\n"
          ]
        }
      ]
    },
    {
      "cell_type": "markdown",
      "source": [
        "Обучение с подобранными гиперпараметрами"
      ],
      "metadata": {
        "id": "ITOsjdGkt37f"
      }
    },
    {
      "cell_type": "code",
      "source": [
        "ridge_heating = Ridge(alpha=best_alpha_heating)\n",
        "ridge_heating.fit(X_train, y_train_heating)\n",
        "y_pred_ridge_heating = ridge_heating.predict(X_test)\n",
        "\n",
        "ridge_cooling = Ridge(alpha=best_alpha_cooling)\n",
        "ridge_cooling.fit(X_train, y_train_cooling)\n",
        "y_pred_ridge_cooling = ridge_cooling.predict(X_test)\n",
        "\n",
        "print(\"Optimized Heating Load Metrics (Ridge Regression):\")\n",
        "mae_ridge_heating, mse_ridge_heating, r2_ridge_heating = evaluate_model(\n",
        "    y_test_heating, y_pred_ridge_heating\n",
        ")\n",
        "print(f\"MAE: {mae_ridge_heating:.4f}, MSE: {mse_ridge_heating:.4f}, R²: {r2_ridge_heating:.4f}\")\n",
        "\n",
        "print(\"\\nOptimized Cooling Load Metrics (Ridge Regression):\")\n",
        "mae_ridge_cooling, mse_ridge_cooling, r2_ridge_cooling = evaluate_model(\n",
        "    y_test_cooling, y_pred_ridge_cooling\n",
        ")\n",
        "print(f\"MAE: {mae_ridge_cooling:.4f}, MSE: {mse_ridge_cooling:.4f}, R²: {r2_ridge_cooling:.4f}\")"
      ],
      "metadata": {
        "colab": {
          "base_uri": "https://localhost:8080/"
        },
        "id": "WPImxCg8t26H",
        "outputId": "12ab11e0-6473-40bb-a636-ceacb6704806"
      },
      "execution_count": 36,
      "outputs": [
        {
          "output_type": "stream",
          "name": "stdout",
          "text": [
            "Optimized Heating Load Metrics (Ridge Regression):\n",
            "MAE: 2.1829, MSE: 9.1589, R²: 0.9121\n",
            "\n",
            "Optimized Cooling Load Metrics (Ridge Regression):\n",
            "MAE: 2.1949, MSE: 9.8955, R²: 0.8932\n"
          ]
        }
      ]
    },
    {
      "cell_type": "markdown",
      "source": [
        "Имплементация алгоритма"
      ],
      "metadata": {
        "id": "XBYHAz8Jt_hE"
      }
    },
    {
      "cell_type": "code",
      "source": [
        "class CustomLinearRegression:\n",
        "    def __init__(self, learning_rate=0.01, n_iterations=1000):\n",
        "        self.learning_rate = learning_rate\n",
        "        self.n_iterations = n_iterations\n",
        "\n",
        "    def fit(self, X, y):\n",
        "        self.m = X.shape[0]\n",
        "        self.n = X.shape[1]\n",
        "        self.weights = np.zeros(self.n)\n",
        "        self.bias = 0\n",
        "\n",
        "        for _ in range(self.n_iterations):\n",
        "            y_predicted = self._predict(X)\n",
        "            dw = -(2 / self.m) * np.dot(X.T, (y - y_predicted))\n",
        "            db = -(2 / self.m) * np.sum(y - y_predicted)\n",
        "\n",
        "            self.weights -= self.learning_rate * dw\n",
        "            self.bias -= self.learning_rate * db\n",
        "\n",
        "    def predict(self, X):\n",
        "        return self._predict(X)\n",
        "\n",
        "    def _predict(self, X):\n",
        "        return np.dot(X, self.weights) + self.bias\n",
        "\n",
        "custom_lr_heating = CustomLinearRegression(learning_rate=0.01, n_iterations=1000)\n",
        "custom_lr_heating.fit(X_train, y_train_heating)\n",
        "y_pred_custom_heating = custom_lr_heating.predict(X_test)\n",
        "\n",
        "custom_lr_cooling = CustomLinearRegression(learning_rate=0.01, n_iterations=1000)\n",
        "custom_lr_cooling.fit(X_train, y_train_cooling)\n",
        "y_pred_custom_cooling = custom_lr_cooling.predict(X_test)\n",
        "\n",
        "mae_custom_heating, mse_custom_heating, r2_custom_heating = evaluate_model(\n",
        "    y_test_heating, y_pred_custom_heating\n",
        ")\n",
        "\n",
        "mae_custom_cooling, mse_custom_cooling, r2_custom_cooling = evaluate_model(\n",
        "    y_test_cooling, y_pred_custom_cooling\n",
        ")\n",
        "\n",
        "print(\"Custom Linear Regression Heating Load Metrics:\")\n",
        "print(f\"MAE: {mae_custom_heating:.4f}, MSE: {mse_custom_heating:.4f}, R²: {r2_custom_heating:.4f}\")\n",
        "\n",
        "print(\"\\nCustom Linear Regression Cooling Load Metrics:\")\n",
        "print(f\"MAE: {mae_custom_cooling:.4f}, MSE: {mse_custom_cooling:.4f}, R²: {r2_custom_cooling:.4f}\")"
      ],
      "metadata": {
        "colab": {
          "base_uri": "https://localhost:8080/"
        },
        "id": "VvEWov4duBeW",
        "outputId": "f2345b24-dc16-43ab-b024-d798e7ec657d"
      },
      "execution_count": 37,
      "outputs": [
        {
          "output_type": "stream",
          "name": "stdout",
          "text": [
            "Custom Linear Regression Heating Load Metrics:\n",
            "MAE: 2.2681, MSE: 10.0662, R²: 0.9034\n",
            "\n",
            "Custom Linear Regression Cooling Load Metrics:\n",
            "MAE: 2.3440, MSE: 11.0493, R²: 0.8808\n"
          ]
        }
      ]
    },
    {
      "cell_type": "markdown",
      "source": [
        "Сравнение всех полученных результатов"
      ],
      "metadata": {
        "id": "rLqVyK-kuNlQ"
      }
    },
    {
      "cell_type": "code",
      "source": [
        "print(\"\\nСравнение результатов для Heating Load:\")\n",
        "print(f\"Бейзлайн MAE: {mae_heating:.4f}, Улучшенный MAE: {mae_ridge_heating:.4f}, Custom MAE: {mae_custom_heating:.4f}\")\n",
        "print(f\"Бейзлайн MSE: {mse_heating:.4f}, Улучшенный MSE: {mse_ridge_heating:.4f}, Custom MSE: {mse_custom_heating:.4f}\")\n",
        "print(f\"Бейзлайн R²: {r2_heating:.4f}, Улучшенный R²: {r2_ridge_heating:.4f}, Custom R²: {r2_custom_heating:.4f}\")\n",
        "\n",
        "print(\"\\nСравнение результатов для Cooling Load:\")\n",
        "print(f\"Бейзлайн MAE: {mae_cooling:.4f}, Улучшенный MAE: {mae_ridge_cooling:.4f}, Custom MAE: {mae_custom_cooling:.4f}\")\n",
        "print(f\"Бейзлайн MSE: {mse_cooling:.4f}, Улучшенный MSE: {mse_ridge_cooling:.4f}, Custom MSE: {mse_custom_cooling:.4f}\")\n",
        "print(f\"Бейзлайн R²: {r2_cooling:.4f}, Улучшенный R²: {r2_ridge_cooling:.4f}, Custom R²: {r2_custom_cooling:.4f}\")"
      ],
      "metadata": {
        "colab": {
          "base_uri": "https://localhost:8080/"
        },
        "id": "VI8oNgGvuMl5",
        "outputId": "57d2fe35-4a7f-4d5f-bcc9-04f94e8932ef"
      },
      "execution_count": 38,
      "outputs": [
        {
          "output_type": "stream",
          "name": "stdout",
          "text": [
            "\n",
            "Сравнение результатов для Heating Load:\n",
            "Бейзлайн MAE: 2.1820, Улучшенный MAE: 2.1829, Custom MAE: 2.2681\n",
            "Бейзлайн MSE: 9.1532, Улучшенный MSE: 9.1589, Custom MSE: 10.0662\n",
            "Бейзлайн R²: 0.9122, Улучшенный R²: 0.9121, Custom R²: 0.9034\n",
            "\n",
            "Сравнение результатов для Cooling Load:\n",
            "Бейзлайн MAE: 2.1953, Улучшенный MAE: 2.1949, Custom MAE: 2.3440\n",
            "Бейзлайн MSE: 9.8934, Улучшенный MSE: 9.8955, Custom MSE: 11.0493\n",
            "Бейзлайн R²: 0.8932, Улучшенный R²: 0.8932, Custom R²: 0.8808\n"
          ]
        }
      ]
    },
    {
      "cell_type": "markdown",
      "source": [
        "# Алгоритм Рещающее дерево"
      ],
      "metadata": {
        "id": "2jEOqVbqunLn"
      }
    },
    {
      "cell_type": "markdown",
      "source": [
        "## Задача классификации"
      ],
      "metadata": {
        "id": "enqdG4ZhuxNY"
      }
    },
    {
      "cell_type": "markdown",
      "source": [
        "Импортируем нужные библиотеки"
      ],
      "metadata": {
        "id": "HxySmvjru2H3"
      }
    },
    {
      "cell_type": "code",
      "source": [
        "import numpy as np\n",
        "from collections import Counter\n",
        "import pandas as pd\n",
        "import matplotlib.pyplot as plt\n",
        "from sklearn.model_selection import train_test_split, GridSearchCV\n",
        "from sklearn.preprocessing import StandardScaler\n",
        "from sklearn.tree import DecisionTreeClassifier\n",
        "from sklearn.metrics import accuracy_score, f1_score, classification_report"
      ],
      "metadata": {
        "id": "EylaKkptu0_r"
      },
      "execution_count": 39,
      "outputs": []
    },
    {
      "cell_type": "markdown",
      "source": [
        "Загрузим данные датасета, для удобства поменяем названия колонок и выведем первые данные датасета для просмотра"
      ],
      "metadata": {
        "id": "din7gcDJu67w"
      }
    },
    {
      "cell_type": "code",
      "source": [
        "data = pd.read_csv('energy_efficiency_data.csv')\n",
        "\n",
        "data.columns = [\n",
        "    \"Relative_Compactness\", \"Surface_Area\", \"Wall_Area\", \"Roof_Area\",\n",
        "    \"Overall_Height\", \"Orientation\", \"Glazing_Area\", \"Glazing_Area_Distribution\",\n",
        "    \"Heating_Load\", \"Cooling_Load\"\n",
        "]\n",
        "\n",
        "data.head()"
      ],
      "metadata": {
        "colab": {
          "base_uri": "https://localhost:8080/",
          "height": 206
        },
        "id": "DZZkl-BkuwAL",
        "outputId": "e9cabf0b-550c-411c-c690-0feeb55fc991"
      },
      "execution_count": 40,
      "outputs": [
        {
          "output_type": "execute_result",
          "data": {
            "text/plain": [
              "   Relative_Compactness  Surface_Area  Wall_Area  Roof_Area  Overall_Height  \\\n",
              "0                  0.98         514.5      294.0     110.25             7.0   \n",
              "1                  0.98         514.5      294.0     110.25             7.0   \n",
              "2                  0.98         514.5      294.0     110.25             7.0   \n",
              "3                  0.98         514.5      294.0     110.25             7.0   \n",
              "4                  0.90         563.5      318.5     122.50             7.0   \n",
              "\n",
              "   Orientation  Glazing_Area  Glazing_Area_Distribution  Heating_Load  \\\n",
              "0            2           0.0                          0         15.55   \n",
              "1            3           0.0                          0         15.55   \n",
              "2            4           0.0                          0         15.55   \n",
              "3            5           0.0                          0         15.55   \n",
              "4            2           0.0                          0         20.84   \n",
              "\n",
              "   Cooling_Load  \n",
              "0         21.33  \n",
              "1         21.33  \n",
              "2         21.33  \n",
              "3         21.33  \n",
              "4         28.28  "
            ],
            "text/html": [
              "\n",
              "  <div id=\"df-c34a4700-412a-4ac5-9cb3-5658f3beb304\" class=\"colab-df-container\">\n",
              "    <div>\n",
              "<style scoped>\n",
              "    .dataframe tbody tr th:only-of-type {\n",
              "        vertical-align: middle;\n",
              "    }\n",
              "\n",
              "    .dataframe tbody tr th {\n",
              "        vertical-align: top;\n",
              "    }\n",
              "\n",
              "    .dataframe thead th {\n",
              "        text-align: right;\n",
              "    }\n",
              "</style>\n",
              "<table border=\"1\" class=\"dataframe\">\n",
              "  <thead>\n",
              "    <tr style=\"text-align: right;\">\n",
              "      <th></th>\n",
              "      <th>Relative_Compactness</th>\n",
              "      <th>Surface_Area</th>\n",
              "      <th>Wall_Area</th>\n",
              "      <th>Roof_Area</th>\n",
              "      <th>Overall_Height</th>\n",
              "      <th>Orientation</th>\n",
              "      <th>Glazing_Area</th>\n",
              "      <th>Glazing_Area_Distribution</th>\n",
              "      <th>Heating_Load</th>\n",
              "      <th>Cooling_Load</th>\n",
              "    </tr>\n",
              "  </thead>\n",
              "  <tbody>\n",
              "    <tr>\n",
              "      <th>0</th>\n",
              "      <td>0.98</td>\n",
              "      <td>514.5</td>\n",
              "      <td>294.0</td>\n",
              "      <td>110.25</td>\n",
              "      <td>7.0</td>\n",
              "      <td>2</td>\n",
              "      <td>0.0</td>\n",
              "      <td>0</td>\n",
              "      <td>15.55</td>\n",
              "      <td>21.33</td>\n",
              "    </tr>\n",
              "    <tr>\n",
              "      <th>1</th>\n",
              "      <td>0.98</td>\n",
              "      <td>514.5</td>\n",
              "      <td>294.0</td>\n",
              "      <td>110.25</td>\n",
              "      <td>7.0</td>\n",
              "      <td>3</td>\n",
              "      <td>0.0</td>\n",
              "      <td>0</td>\n",
              "      <td>15.55</td>\n",
              "      <td>21.33</td>\n",
              "    </tr>\n",
              "    <tr>\n",
              "      <th>2</th>\n",
              "      <td>0.98</td>\n",
              "      <td>514.5</td>\n",
              "      <td>294.0</td>\n",
              "      <td>110.25</td>\n",
              "      <td>7.0</td>\n",
              "      <td>4</td>\n",
              "      <td>0.0</td>\n",
              "      <td>0</td>\n",
              "      <td>15.55</td>\n",
              "      <td>21.33</td>\n",
              "    </tr>\n",
              "    <tr>\n",
              "      <th>3</th>\n",
              "      <td>0.98</td>\n",
              "      <td>514.5</td>\n",
              "      <td>294.0</td>\n",
              "      <td>110.25</td>\n",
              "      <td>7.0</td>\n",
              "      <td>5</td>\n",
              "      <td>0.0</td>\n",
              "      <td>0</td>\n",
              "      <td>15.55</td>\n",
              "      <td>21.33</td>\n",
              "    </tr>\n",
              "    <tr>\n",
              "      <th>4</th>\n",
              "      <td>0.90</td>\n",
              "      <td>563.5</td>\n",
              "      <td>318.5</td>\n",
              "      <td>122.50</td>\n",
              "      <td>7.0</td>\n",
              "      <td>2</td>\n",
              "      <td>0.0</td>\n",
              "      <td>0</td>\n",
              "      <td>20.84</td>\n",
              "      <td>28.28</td>\n",
              "    </tr>\n",
              "  </tbody>\n",
              "</table>\n",
              "</div>\n",
              "    <div class=\"colab-df-buttons\">\n",
              "\n",
              "  <div class=\"colab-df-container\">\n",
              "    <button class=\"colab-df-convert\" onclick=\"convertToInteractive('df-c34a4700-412a-4ac5-9cb3-5658f3beb304')\"\n",
              "            title=\"Convert this dataframe to an interactive table.\"\n",
              "            style=\"display:none;\">\n",
              "\n",
              "  <svg xmlns=\"http://www.w3.org/2000/svg\" height=\"24px\" viewBox=\"0 -960 960 960\">\n",
              "    <path d=\"M120-120v-720h720v720H120Zm60-500h600v-160H180v160Zm220 220h160v-160H400v160Zm0 220h160v-160H400v160ZM180-400h160v-160H180v160Zm440 0h160v-160H620v160ZM180-180h160v-160H180v160Zm440 0h160v-160H620v160Z\"/>\n",
              "  </svg>\n",
              "    </button>\n",
              "\n",
              "  <style>\n",
              "    .colab-df-container {\n",
              "      display:flex;\n",
              "      gap: 12px;\n",
              "    }\n",
              "\n",
              "    .colab-df-convert {\n",
              "      background-color: #E8F0FE;\n",
              "      border: none;\n",
              "      border-radius: 50%;\n",
              "      cursor: pointer;\n",
              "      display: none;\n",
              "      fill: #1967D2;\n",
              "      height: 32px;\n",
              "      padding: 0 0 0 0;\n",
              "      width: 32px;\n",
              "    }\n",
              "\n",
              "    .colab-df-convert:hover {\n",
              "      background-color: #E2EBFA;\n",
              "      box-shadow: 0px 1px 2px rgba(60, 64, 67, 0.3), 0px 1px 3px 1px rgba(60, 64, 67, 0.15);\n",
              "      fill: #174EA6;\n",
              "    }\n",
              "\n",
              "    .colab-df-buttons div {\n",
              "      margin-bottom: 4px;\n",
              "    }\n",
              "\n",
              "    [theme=dark] .colab-df-convert {\n",
              "      background-color: #3B4455;\n",
              "      fill: #D2E3FC;\n",
              "    }\n",
              "\n",
              "    [theme=dark] .colab-df-convert:hover {\n",
              "      background-color: #434B5C;\n",
              "      box-shadow: 0px 1px 3px 1px rgba(0, 0, 0, 0.15);\n",
              "      filter: drop-shadow(0px 1px 2px rgba(0, 0, 0, 0.3));\n",
              "      fill: #FFFFFF;\n",
              "    }\n",
              "  </style>\n",
              "\n",
              "    <script>\n",
              "      const buttonEl =\n",
              "        document.querySelector('#df-c34a4700-412a-4ac5-9cb3-5658f3beb304 button.colab-df-convert');\n",
              "      buttonEl.style.display =\n",
              "        google.colab.kernel.accessAllowed ? 'block' : 'none';\n",
              "\n",
              "      async function convertToInteractive(key) {\n",
              "        const element = document.querySelector('#df-c34a4700-412a-4ac5-9cb3-5658f3beb304');\n",
              "        const dataTable =\n",
              "          await google.colab.kernel.invokeFunction('convertToInteractive',\n",
              "                                                    [key], {});\n",
              "        if (!dataTable) return;\n",
              "\n",
              "        const docLinkHtml = 'Like what you see? Visit the ' +\n",
              "          '<a target=\"_blank\" href=https://colab.research.google.com/notebooks/data_table.ipynb>data table notebook</a>'\n",
              "          + ' to learn more about interactive tables.';\n",
              "        element.innerHTML = '';\n",
              "        dataTable['output_type'] = 'display_data';\n",
              "        await google.colab.output.renderOutput(dataTable, element);\n",
              "        const docLink = document.createElement('div');\n",
              "        docLink.innerHTML = docLinkHtml;\n",
              "        element.appendChild(docLink);\n",
              "      }\n",
              "    </script>\n",
              "  </div>\n",
              "\n",
              "\n",
              "<div id=\"df-78766b8c-c104-4472-89a6-5905a4fb2961\">\n",
              "  <button class=\"colab-df-quickchart\" onclick=\"quickchart('df-78766b8c-c104-4472-89a6-5905a4fb2961')\"\n",
              "            title=\"Suggest charts\"\n",
              "            style=\"display:none;\">\n",
              "\n",
              "<svg xmlns=\"http://www.w3.org/2000/svg\" height=\"24px\"viewBox=\"0 0 24 24\"\n",
              "     width=\"24px\">\n",
              "    <g>\n",
              "        <path d=\"M19 3H5c-1.1 0-2 .9-2 2v14c0 1.1.9 2 2 2h14c1.1 0 2-.9 2-2V5c0-1.1-.9-2-2-2zM9 17H7v-7h2v7zm4 0h-2V7h2v10zm4 0h-2v-4h2v4z\"/>\n",
              "    </g>\n",
              "</svg>\n",
              "  </button>\n",
              "\n",
              "<style>\n",
              "  .colab-df-quickchart {\n",
              "      --bg-color: #E8F0FE;\n",
              "      --fill-color: #1967D2;\n",
              "      --hover-bg-color: #E2EBFA;\n",
              "      --hover-fill-color: #174EA6;\n",
              "      --disabled-fill-color: #AAA;\n",
              "      --disabled-bg-color: #DDD;\n",
              "  }\n",
              "\n",
              "  [theme=dark] .colab-df-quickchart {\n",
              "      --bg-color: #3B4455;\n",
              "      --fill-color: #D2E3FC;\n",
              "      --hover-bg-color: #434B5C;\n",
              "      --hover-fill-color: #FFFFFF;\n",
              "      --disabled-bg-color: #3B4455;\n",
              "      --disabled-fill-color: #666;\n",
              "  }\n",
              "\n",
              "  .colab-df-quickchart {\n",
              "    background-color: var(--bg-color);\n",
              "    border: none;\n",
              "    border-radius: 50%;\n",
              "    cursor: pointer;\n",
              "    display: none;\n",
              "    fill: var(--fill-color);\n",
              "    height: 32px;\n",
              "    padding: 0;\n",
              "    width: 32px;\n",
              "  }\n",
              "\n",
              "  .colab-df-quickchart:hover {\n",
              "    background-color: var(--hover-bg-color);\n",
              "    box-shadow: 0 1px 2px rgba(60, 64, 67, 0.3), 0 1px 3px 1px rgba(60, 64, 67, 0.15);\n",
              "    fill: var(--button-hover-fill-color);\n",
              "  }\n",
              "\n",
              "  .colab-df-quickchart-complete:disabled,\n",
              "  .colab-df-quickchart-complete:disabled:hover {\n",
              "    background-color: var(--disabled-bg-color);\n",
              "    fill: var(--disabled-fill-color);\n",
              "    box-shadow: none;\n",
              "  }\n",
              "\n",
              "  .colab-df-spinner {\n",
              "    border: 2px solid var(--fill-color);\n",
              "    border-color: transparent;\n",
              "    border-bottom-color: var(--fill-color);\n",
              "    animation:\n",
              "      spin 1s steps(1) infinite;\n",
              "  }\n",
              "\n",
              "  @keyframes spin {\n",
              "    0% {\n",
              "      border-color: transparent;\n",
              "      border-bottom-color: var(--fill-color);\n",
              "      border-left-color: var(--fill-color);\n",
              "    }\n",
              "    20% {\n",
              "      border-color: transparent;\n",
              "      border-left-color: var(--fill-color);\n",
              "      border-top-color: var(--fill-color);\n",
              "    }\n",
              "    30% {\n",
              "      border-color: transparent;\n",
              "      border-left-color: var(--fill-color);\n",
              "      border-top-color: var(--fill-color);\n",
              "      border-right-color: var(--fill-color);\n",
              "    }\n",
              "    40% {\n",
              "      border-color: transparent;\n",
              "      border-right-color: var(--fill-color);\n",
              "      border-top-color: var(--fill-color);\n",
              "    }\n",
              "    60% {\n",
              "      border-color: transparent;\n",
              "      border-right-color: var(--fill-color);\n",
              "    }\n",
              "    80% {\n",
              "      border-color: transparent;\n",
              "      border-right-color: var(--fill-color);\n",
              "      border-bottom-color: var(--fill-color);\n",
              "    }\n",
              "    90% {\n",
              "      border-color: transparent;\n",
              "      border-bottom-color: var(--fill-color);\n",
              "    }\n",
              "  }\n",
              "</style>\n",
              "\n",
              "  <script>\n",
              "    async function quickchart(key) {\n",
              "      const quickchartButtonEl =\n",
              "        document.querySelector('#' + key + ' button');\n",
              "      quickchartButtonEl.disabled = true;  // To prevent multiple clicks.\n",
              "      quickchartButtonEl.classList.add('colab-df-spinner');\n",
              "      try {\n",
              "        const charts = await google.colab.kernel.invokeFunction(\n",
              "            'suggestCharts', [key], {});\n",
              "      } catch (error) {\n",
              "        console.error('Error during call to suggestCharts:', error);\n",
              "      }\n",
              "      quickchartButtonEl.classList.remove('colab-df-spinner');\n",
              "      quickchartButtonEl.classList.add('colab-df-quickchart-complete');\n",
              "    }\n",
              "    (() => {\n",
              "      let quickchartButtonEl =\n",
              "        document.querySelector('#df-78766b8c-c104-4472-89a6-5905a4fb2961 button');\n",
              "      quickchartButtonEl.style.display =\n",
              "        google.colab.kernel.accessAllowed ? 'block' : 'none';\n",
              "    })();\n",
              "  </script>\n",
              "</div>\n",
              "    </div>\n",
              "  </div>\n"
            ],
            "application/vnd.google.colaboratory.intrinsic+json": {
              "type": "dataframe",
              "variable_name": "data",
              "summary": "{\n  \"name\": \"data\",\n  \"rows\": 768,\n  \"fields\": [\n    {\n      \"column\": \"Relative_Compactness\",\n      \"properties\": {\n        \"dtype\": \"number\",\n        \"std\": 0.10577747587475206,\n        \"min\": 0.62,\n        \"max\": 0.98,\n        \"num_unique_values\": 12,\n        \"samples\": [\n          0.64,\n          0.66,\n          0.98\n        ],\n        \"semantic_type\": \"\",\n        \"description\": \"\"\n      }\n    },\n    {\n      \"column\": \"Surface_Area\",\n      \"properties\": {\n        \"dtype\": \"number\",\n        \"std\": 88.08611605586826,\n        \"min\": 514.5,\n        \"max\": 808.5,\n        \"num_unique_values\": 12,\n        \"samples\": [\n          784.0,\n          759.5,\n          514.5\n        ],\n        \"semantic_type\": \"\",\n        \"description\": \"\"\n      }\n    },\n    {\n      \"column\": \"Wall_Area\",\n      \"properties\": {\n        \"dtype\": \"number\",\n        \"std\": 43.6264814379949,\n        \"min\": 245.0,\n        \"max\": 416.5,\n        \"num_unique_values\": 7,\n        \"samples\": [\n          294.0,\n          318.5,\n          269.5\n        ],\n        \"semantic_type\": \"\",\n        \"description\": \"\"\n      }\n    },\n    {\n      \"column\": \"Roof_Area\",\n      \"properties\": {\n        \"dtype\": \"number\",\n        \"std\": 45.165950222920344,\n        \"min\": 110.25,\n        \"max\": 220.5,\n        \"num_unique_values\": 4,\n        \"samples\": [\n          122.5,\n          220.5,\n          110.25\n        ],\n        \"semantic_type\": \"\",\n        \"description\": \"\"\n      }\n    },\n    {\n      \"column\": \"Overall_Height\",\n      \"properties\": {\n        \"dtype\": \"number\",\n        \"std\": 1.7511404367453496,\n        \"min\": 3.5,\n        \"max\": 7.0,\n        \"num_unique_values\": 2,\n        \"samples\": [\n          3.5,\n          7.0\n        ],\n        \"semantic_type\": \"\",\n        \"description\": \"\"\n      }\n    },\n    {\n      \"column\": \"Orientation\",\n      \"properties\": {\n        \"dtype\": \"number\",\n        \"std\": 1,\n        \"min\": 2,\n        \"max\": 5,\n        \"num_unique_values\": 4,\n        \"samples\": [\n          3,\n          5\n        ],\n        \"semantic_type\": \"\",\n        \"description\": \"\"\n      }\n    },\n    {\n      \"column\": \"Glazing_Area\",\n      \"properties\": {\n        \"dtype\": \"number\",\n        \"std\": 0.13322056291470877,\n        \"min\": 0.0,\n        \"max\": 0.4,\n        \"num_unique_values\": 4,\n        \"samples\": [\n          0.1,\n          0.4\n        ],\n        \"semantic_type\": \"\",\n        \"description\": \"\"\n      }\n    },\n    {\n      \"column\": \"Glazing_Area_Distribution\",\n      \"properties\": {\n        \"dtype\": \"number\",\n        \"std\": 1,\n        \"min\": 0,\n        \"max\": 5,\n        \"num_unique_values\": 6,\n        \"samples\": [\n          0,\n          1\n        ],\n        \"semantic_type\": \"\",\n        \"description\": \"\"\n      }\n    },\n    {\n      \"column\": \"Heating_Load\",\n      \"properties\": {\n        \"dtype\": \"number\",\n        \"std\": 10.090195732006162,\n        \"min\": 6.01,\n        \"max\": 43.1,\n        \"num_unique_values\": 586,\n        \"samples\": [\n          16.47,\n          24.94\n        ],\n        \"semantic_type\": \"\",\n        \"description\": \"\"\n      }\n    },\n    {\n      \"column\": \"Cooling_Load\",\n      \"properties\": {\n        \"dtype\": \"number\",\n        \"std\": 9.513305562326163,\n        \"min\": 10.9,\n        \"max\": 48.03,\n        \"num_unique_values\": 636,\n        \"samples\": [\n          21.09,\n          20.82\n        ],\n        \"semantic_type\": \"\",\n        \"description\": \"\"\n      }\n    }\n  ]\n}"
            }
          },
          "metadata": {},
          "execution_count": 40
        }
      ]
    },
    {
      "cell_type": "markdown",
      "source": [
        "Выберем переменную для классификации, и для удобства удалил ненужные столбцы"
      ],
      "metadata": {
        "id": "_jJFFqBUvKDs"
      }
    },
    {
      "cell_type": "code",
      "source": [
        "data['Heating_Load_Class'] = pd.qcut(data['Heating_Load'], q=3, labels=['Low', 'Medium', 'High'])\n",
        "\n",
        "data = data.drop(['Heating_Load', 'Cooling_Load'], axis=1)\n"
      ],
      "metadata": {
        "id": "Twf6TWIuvP_H"
      },
      "execution_count": 41,
      "outputs": []
    },
    {
      "cell_type": "markdown",
      "source": [
        "Разделим датасет на тестовую и обучающую выборки"
      ],
      "metadata": {
        "id": "tkRwNHUZvZl8"
      }
    },
    {
      "cell_type": "code",
      "source": [
        "X = data.drop('Heating_Load_Class', axis=1)\n",
        "y = data['Heating_Load_Class']\n",
        "\n",
        "scaler = StandardScaler()\n",
        "X_scaled = scaler.fit_transform(X)\n",
        "\n",
        "X_train, X_test, y_train, y_test = train_test_split(X_scaled, y, test_size=0.2, random_state=42, stratify=y)\n",
        "\n",
        "print(f\"Размер обучающей выборки: {X_train.shape}, Размер тестовой выборки: {X_test.shape}\")"
      ],
      "metadata": {
        "colab": {
          "base_uri": "https://localhost:8080/"
        },
        "id": "8eOxnedvvUl2",
        "outputId": "a35c78af-742d-4ffd-8190-fd98cbcab790"
      },
      "execution_count": 42,
      "outputs": [
        {
          "output_type": "stream",
          "name": "stdout",
          "text": [
            "Размер обучающей выборки: (614, 8), Размер тестовой выборки: (154, 8)\n"
          ]
        }
      ]
    },
    {
      "cell_type": "markdown",
      "source": [
        "Применим встроенный рещающего дерева для классификации"
      ],
      "metadata": {
        "id": "HPExnc7MvjJo"
      }
    },
    {
      "cell_type": "code",
      "source": [
        "dt_baseline = DecisionTreeClassifier(random_state=42)\n",
        "dt_baseline.fit(X_train, y_train)\n",
        "\n",
        "y_pred = dt_baseline.predict(X_test)\n",
        "\n",
        "accuracy = accuracy_score(y_test, y_pred)\n",
        "f1 = f1_score(y_test, y_pred, average='weighted')\n",
        "\n",
        "print(\"Бейзлайн (решающее дерево):\")\n",
        "print(f\"Accuracy: {accuracy:.4f}\")\n",
        "print(f\"F1-Score: {f1:.4f}\")\n",
        "print(\"\\nClassification Report:\")\n",
        "print(classification_report(y_test, y_pred))\n"
      ],
      "metadata": {
        "colab": {
          "base_uri": "https://localhost:8080/"
        },
        "id": "Er8aNr0lvpV_",
        "outputId": "d775d400-4286-43c0-9289-0fe8b7c000f4"
      },
      "execution_count": 43,
      "outputs": [
        {
          "output_type": "stream",
          "name": "stdout",
          "text": [
            "Бейзлайн (решающее дерево):\n",
            "Accuracy: 0.9091\n",
            "F1-Score: 0.9087\n",
            "\n",
            "Classification Report:\n",
            "              precision    recall  f1-score   support\n",
            "\n",
            "        High       0.94      0.94      0.94        51\n",
            "         Low       0.91      0.94      0.92        52\n",
            "      Medium       0.88      0.84      0.86        51\n",
            "\n",
            "    accuracy                           0.91       154\n",
            "   macro avg       0.91      0.91      0.91       154\n",
            "weighted avg       0.91      0.91      0.91       154\n",
            "\n"
          ]
        }
      ]
    },
    {
      "cell_type": "markdown",
      "source": [
        "Подберем гипермараметры для оптимизации безлайна"
      ],
      "metadata": {
        "id": "UiglFGtovtUo"
      }
    },
    {
      "cell_type": "code",
      "source": [
        "param_grid = {\n",
        "    'max_depth': range(3, 21),\n",
        "    'min_samples_split': range(2, 10),\n",
        "    'min_samples_leaf': range(1, 10)\n",
        "}\n",
        "\n",
        "grid_search = GridSearchCV(\n",
        "    DecisionTreeClassifier(random_state=42),\n",
        "    param_grid,\n",
        "    cv=5,\n",
        "    scoring='accuracy',\n",
        "    verbose=1,\n",
        "    n_jobs=-1\n",
        ")\n",
        "\n",
        "grid_search.fit(X_train, y_train)\n",
        "\n",
        "best_params = grid_search.best_params_\n",
        "print(f\"Лучшие параметры: {best_params}\")"
      ],
      "metadata": {
        "colab": {
          "base_uri": "https://localhost:8080/"
        },
        "id": "R0U2osgtvwop",
        "outputId": "6ce8ea61-a485-4e3e-ccae-2fcbf1e45803"
      },
      "execution_count": 44,
      "outputs": [
        {
          "output_type": "stream",
          "name": "stdout",
          "text": [
            "Fitting 5 folds for each of 1296 candidates, totalling 6480 fits\n",
            "Лучшие параметры: {'max_depth': 7, 'min_samples_leaf': 1, 'min_samples_split': 8}\n"
          ]
        }
      ]
    },
    {
      "cell_type": "markdown",
      "source": [
        "Обучим модель с этими гиперпараметрами"
      ],
      "metadata": {
        "id": "7yTI8qnJv0H3"
      }
    },
    {
      "cell_type": "code",
      "source": [
        "best_dt = grid_search.best_estimator_\n",
        "\n",
        "\n",
        "y_pred_best = best_dt.predict(X_test)\n",
        "\n",
        "accuracy_best = accuracy_score(y_test, y_pred_best)\n",
        "f1_best = f1_score(y_test, y_pred_best, average='weighted')\n",
        "\n",
        "print(\"Улучшенный бейзлайн (решающее дерево):\")\n",
        "print(f\"Accuracy: {accuracy_best:.4f}\")\n",
        "print(f\"F1-Score: {f1_best:.4f}\")\n",
        "print(\"\\nClassification Report:\")\n",
        "print(classification_report(y_test, y_pred_best))"
      ],
      "metadata": {
        "colab": {
          "base_uri": "https://localhost:8080/"
        },
        "id": "Iif26DvQvzUB",
        "outputId": "811f6cd6-1f2d-4954-da59-417f1c9acdf3"
      },
      "execution_count": 45,
      "outputs": [
        {
          "output_type": "stream",
          "name": "stdout",
          "text": [
            "Улучшенный бейзлайн (решающее дерево):\n",
            "Accuracy: 0.9091\n",
            "F1-Score: 0.9082\n",
            "\n",
            "Classification Report:\n",
            "              precision    recall  f1-score   support\n",
            "\n",
            "        High       0.94      0.94      0.94        51\n",
            "         Low       0.89      0.96      0.93        52\n",
            "      Medium       0.89      0.82      0.86        51\n",
            "\n",
            "    accuracy                           0.91       154\n",
            "   macro avg       0.91      0.91      0.91       154\n",
            "weighted avg       0.91      0.91      0.91       154\n",
            "\n"
          ]
        }
      ]
    },
    {
      "cell_type": "markdown",
      "source": [
        "Собственная имплиментация алгоритма"
      ],
      "metadata": {
        "id": "lWpvMGvTwAte"
      }
    },
    {
      "cell_type": "code",
      "source": [
        "class DecisionTreeNode:\n",
        "    def __init__(self, feature=None, threshold=None, left=None, right=None, value=None):\n",
        "        self.feature = feature\n",
        "        self.threshold = threshold\n",
        "        self.left = left\n",
        "        self.right = right\n",
        "        self.value = value\n",
        "\n",
        "class CustomDecisionTree:\n",
        "    def __init__(self, max_depth=5, min_samples_split=2):\n",
        "        self.max_depth = max_depth\n",
        "        self.min_samples_split = min_samples_split\n",
        "        self.root = None\n",
        "\n",
        "    def fit(self, X, y):\n",
        "        self.root = self._build_tree(X, y)\n",
        "\n",
        "    def predict(self, X):\n",
        "        return np.array([self._traverse_tree(x, self.root) for x in X])\n",
        "\n",
        "    def _build_tree(self, X, y, depth=0):\n",
        "        n_samples, n_features = X.shape\n",
        "        unique_labels = np.unique(y)\n",
        "\n",
        "        if len(unique_labels) == 1 or depth >= self.max_depth or n_samples < self.min_samples_split:\n",
        "            most_common_label = Counter(y).most_common(1)[0][0]\n",
        "            return DecisionTreeNode(value=most_common_label)\n",
        "\n",
        "        best_feature, best_threshold = self._best_split(X, y)\n",
        "        if best_feature is None:\n",
        "            most_common_label = Counter(y).most_common(1)[0][0]\n",
        "            return DecisionTreeNode(value=most_common_label)\n",
        "\n",
        "        left_indices = X[:, best_feature] <= best_threshold\n",
        "        right_indices = X[:, best_feature] > best_threshold\n",
        "        left_child = self._build_tree(X[left_indices], y[left_indices], depth + 1)\n",
        "        right_child = self._build_tree(X[right_indices], y[right_indices], depth + 1)\n",
        "        return DecisionTreeNode(feature=best_feature, threshold=best_threshold, left=left_child, right=right_child)\n",
        "\n",
        "    def _best_split(self, X, y):\n",
        "        n_samples, n_features = X.shape\n",
        "        best_gain = -1\n",
        "        split_idx, split_threshold = None, None\n",
        "\n",
        "        for feature_idx in range(n_features):\n",
        "            thresholds = np.unique(X[:, feature_idx])\n",
        "            for threshold in thresholds:\n",
        "                gain = self._information_gain(y, X[:, feature_idx], threshold)\n",
        "                if gain > best_gain:\n",
        "                    best_gain = gain\n",
        "                    split_idx = feature_idx\n",
        "                    split_threshold = threshold\n",
        "\n",
        "        return split_idx, split_threshold\n",
        "\n",
        "    def _information_gain(self, y, feature_column, threshold):\n",
        "        parent_loss = self._gini(y)\n",
        "\n",
        "        left_indices = feature_column <= threshold\n",
        "        right_indices = feature_column > threshold\n",
        "        if sum(left_indices) == 0 or sum(right_indices) == 0:\n",
        "            return 0\n",
        "\n",
        "        n = len(y)\n",
        "        n_left, n_right = sum(left_indices), sum(right_indices)\n",
        "        e_left, e_right = self._gini(y[left_indices]), self._gini(y[right_indices])\n",
        "\n",
        "        child_loss = (n_left / n) * e_left + (n_right / n) * e_right\n",
        "        return parent_loss - child_loss\n",
        "\n",
        "    def _gini(self, y):\n",
        "        proportions = [np.sum(y == c) / len(y) for c in np.unique(y)]\n",
        "        return 1 - sum([p ** 2 for p in proportions])\n",
        "\n",
        "    def _traverse_tree(self, x, node):\n",
        "        if node.value is not None:\n",
        "            return node.value\n",
        "        if x[node.feature] <= node.threshold:\n",
        "            return self._traverse_tree(x, node.left)\n",
        "        return self._traverse_tree(x, node.right)\n",
        "\n",
        "custom_dt = CustomDecisionTree(max_depth=best_params['max_depth'], min_samples_split=best_params['min_samples_split'])\n",
        "custom_dt.fit(X_train, y_train)\n",
        "\n",
        "y_pred_custom = custom_dt.predict(X_test)\n",
        "\n",
        "accuracy_custom = accuracy_score(y_test, y_pred_custom)\n",
        "f1_custom = f1_score(y_test, y_pred_custom, average='weighted')\n",
        "\n",
        "print(\"Реализация Custom Decision Tree:\")\n",
        "print(f\"Accuracy: {accuracy_custom:.4f}\")\n",
        "print(f\"F1-Score: {f1_custom:.4f}\")\n"
      ],
      "metadata": {
        "colab": {
          "base_uri": "https://localhost:8080/"
        },
        "id": "wl8co4t8v5C1",
        "outputId": "6a9a4b5e-9e6a-441f-b792-24505c09abd0"
      },
      "execution_count": 46,
      "outputs": [
        {
          "output_type": "stream",
          "name": "stdout",
          "text": [
            "Реализация Custom Decision Tree:\n",
            "Accuracy: 0.9091\n",
            "F1-Score: 0.9082\n"
          ]
        }
      ]
    },
    {
      "cell_type": "markdown",
      "source": [
        "Сравнение результатов"
      ],
      "metadata": {
        "id": "ntbKZrBfwRnJ"
      }
    },
    {
      "cell_type": "code",
      "source": [
        "print(\"Сравнение результатов:\")\n",
        "print(f\"Бейзлайн Accuracy: {accuracy:.4f}, Улучшенный Accuracy: {accuracy_best:.4f}, Custom Decision Tree Accuracy: {accuracy_custom:.4f}\")\n",
        "print(f\"Бейзлайн F1-Score: {f1:.4f}, Улучшенный F1-Score: {f1_best:.4f}, Custom Decision Tree F1-Score: {f1_custom:.4f}\")"
      ],
      "metadata": {
        "colab": {
          "base_uri": "https://localhost:8080/"
        },
        "id": "ztucUR9mwUnZ",
        "outputId": "c409aed6-08e6-4cf5-a716-eaa05cf31150"
      },
      "execution_count": 47,
      "outputs": [
        {
          "output_type": "stream",
          "name": "stdout",
          "text": [
            "Сравнение результатов:\n",
            "Бейзлайн Accuracy: 0.9091, Улучшенный Accuracy: 0.9091, Custom Decision Tree Accuracy: 0.9091\n",
            "Бейзлайн F1-Score: 0.9087, Улучшенный F1-Score: 0.9082, Custom Decision Tree F1-Score: 0.9082\n"
          ]
        }
      ]
    },
    {
      "cell_type": "markdown",
      "source": [
        "## Задача регрессии"
      ],
      "metadata": {
        "id": "PR2DXkuTwp33"
      }
    },
    {
      "cell_type": "markdown",
      "source": [
        "Импортирую нужные библиотеки"
      ],
      "metadata": {
        "id": "IUNsvHFVwwm4"
      }
    },
    {
      "cell_type": "code",
      "source": [
        "import pandas as pd\n",
        "import numpy as np\n",
        "from sklearn.model_selection import train_test_split, GridSearchCV\n",
        "from sklearn.preprocessing import StandardScaler\n",
        "from sklearn.tree import DecisionTreeRegressor\n",
        "from sklearn.metrics import mean_absolute_error, mean_squared_error, r2_score"
      ],
      "metadata": {
        "id": "LD6N6BQFwss4"
      },
      "execution_count": 48,
      "outputs": []
    },
    {
      "cell_type": "markdown",
      "source": [
        "Загрузим данные датасета, для удобства поменяем названия колонок, разделим данные на тестовую и обучающую выборку"
      ],
      "metadata": {
        "id": "Gn_EvLPQxvdx"
      }
    },
    {
      "cell_type": "code",
      "source": [
        "data = pd.read_csv(\"energy_efficiency_data.csv\")\n",
        "\n",
        "X = data[\n",
        "    [\n",
        "        \"Relative_Compactness\",\n",
        "        \"Surface_Area\",\n",
        "        \"Wall_Area\",\n",
        "        \"Roof_Area\",\n",
        "        \"Overall_Height\",\n",
        "        \"Orientation\",\n",
        "        \"Glazing_Area\",\n",
        "        \"Glazing_Area_Distribution\",\n",
        "    ]\n",
        "]\n",
        "y_heating = data[\"Heating_Load\"]\n",
        "y_cooling = data[\"Cooling_Load\"]\n",
        "\n",
        "X_train, X_test, y_train_heating, y_test_heating = train_test_split(\n",
        "    X, y_heating, test_size=0.2, random_state=42\n",
        ")\n",
        "X_train, X_test, y_train_cooling, y_test_cooling = train_test_split(\n",
        "    X, y_cooling, test_size=0.2, random_state=42\n",
        ")\n",
        "\n",
        "scaler = StandardScaler()\n",
        "X_train = scaler.fit_transform(X_train)\n",
        "X_test = scaler.transform(X_test)\n",
        "\n",
        "print(f\"Размер обучающей выборки: {X_train.shape}, Размер тестовой выборки: {X_test.shape}\")"
      ],
      "metadata": {
        "colab": {
          "base_uri": "https://localhost:8080/"
        },
        "id": "QwKISvL5w0rE",
        "outputId": "2b5fb215-54e5-40ad-cf94-c773e92d5ba8"
      },
      "execution_count": 49,
      "outputs": [
        {
          "output_type": "stream",
          "name": "stdout",
          "text": [
            "Размер обучающей выборки: (614, 8), Размер тестовой выборки: (154, 8)\n"
          ]
        }
      ]
    },
    {
      "cell_type": "markdown",
      "source": [
        "Обучение безлайна и оценка модели"
      ],
      "metadata": {
        "id": "VVy1G3_ax363"
      }
    },
    {
      "cell_type": "code",
      "source": [
        "dt_heating = DecisionTreeRegressor(random_state=42)\n",
        "dt_heating.fit(X_train, y_train_heating)\n",
        "y_pred_heating = dt_heating.predict(X_test)\n",
        "\n",
        "dt_cooling = DecisionTreeRegressor(random_state=42)\n",
        "dt_cooling.fit(X_train, y_train_cooling)\n",
        "y_pred_cooling = dt_cooling.predict(X_test)\n",
        "\n",
        "def evaluate_model(y_true, y_pred):\n",
        "    mae = mean_absolute_error(y_true, y_pred)\n",
        "    mse = mean_squared_error(y_true, y_pred)\n",
        "    r2 = r2_score(y_true, y_pred)\n",
        "    return mae, mse, r2\n",
        "\n",
        "print(\"Baseline Decision Tree Results:\")\n",
        "\n",
        "mae_heating, mse_heating, r2_heating = evaluate_model(y_test_heating, y_pred_heating)\n",
        "print(f\"\\nHeating Load:\\nMAE: {mae_heating:.4f}, MSE: {mse_heating:.4f}, R²: {r2_heating:.4f}\")\n",
        "\n",
        "mae_cooling, mse_cooling, r2_cooling = evaluate_model(y_test_cooling, y_pred_cooling)\n",
        "print(f\"\\nCooling Load:\\nMAE: {mae_cooling:.4f}, MSE: {mse_cooling:.4f}, R²: {r2_cooling:.4f}\")\n"
      ],
      "metadata": {
        "colab": {
          "base_uri": "https://localhost:8080/"
        },
        "id": "HbCS1Gy9x7eI",
        "outputId": "9946167e-dec0-41ac-cf56-91d256b7d934"
      },
      "execution_count": 50,
      "outputs": [
        {
          "output_type": "stream",
          "name": "stdout",
          "text": [
            "Baseline Decision Tree Results:\n",
            "\n",
            "Heating Load:\n",
            "MAE: 0.4197, MSE: 0.3880, R²: 0.9963\n",
            "\n",
            "Cooling Load:\n",
            "MAE: 1.1438, MSE: 4.0914, R²: 0.9558\n"
          ]
        }
      ]
    },
    {
      "cell_type": "markdown",
      "source": [
        "Подберем гиперпараметры для улучшения модели"
      ],
      "metadata": {
        "id": "CRWfI-uax-iG"
      }
    },
    {
      "cell_type": "code",
      "source": [
        "param_grid = {\"max_depth\": range(1, 20), \"min_samples_split\": range(2, 10)}\n",
        "grid_heating = GridSearchCV(\n",
        "    DecisionTreeRegressor(random_state=42),\n",
        "    param_grid,\n",
        "    cv=5,\n",
        "    scoring=\"r2\",\n",
        "    verbose=1,\n",
        ")\n",
        "grid_heating.fit(X_train, y_train_heating)\n",
        "\n",
        "grid_cooling = GridSearchCV(\n",
        "    DecisionTreeRegressor(random_state=42),\n",
        "    param_grid,\n",
        "    cv=5,\n",
        "    scoring=\"r2\",\n",
        "    verbose=1,\n",
        ")\n",
        "grid_cooling.fit(X_train, y_train_cooling)\n",
        "\n",
        "best_params_heating = grid_heating.best_params_\n",
        "best_params_cooling = grid_cooling.best_params_\n",
        "\n",
        "print(f\"\\nЛучшие параметры для Heating_Load: {best_params_heating}\")\n",
        "print(f\"Лучшие параметры для Cooling_Load: {best_params_cooling}\")"
      ],
      "metadata": {
        "colab": {
          "base_uri": "https://localhost:8080/"
        },
        "id": "AjQd9canyD3P",
        "outputId": "fec6fb1f-1dbc-43da-80de-566bfd08d68e"
      },
      "execution_count": 51,
      "outputs": [
        {
          "output_type": "stream",
          "name": "stdout",
          "text": [
            "Fitting 5 folds for each of 152 candidates, totalling 760 fits\n",
            "Fitting 5 folds for each of 152 candidates, totalling 760 fits\n",
            "\n",
            "Лучшие параметры для Heating_Load: {'max_depth': 7, 'min_samples_split': 3}\n",
            "Лучшие параметры для Cooling_Load: {'max_depth': 6, 'min_samples_split': 4}\n"
          ]
        }
      ]
    },
    {
      "cell_type": "markdown",
      "source": [
        "Обучим модели с подобранными гиперпараметрами"
      ],
      "metadata": {
        "id": "hpvyHwBCyGUz"
      }
    },
    {
      "cell_type": "code",
      "source": [
        "dt_heating_optimized = DecisionTreeRegressor(**best_params_heating, random_state=42)\n",
        "dt_heating_optimized.fit(X_train, y_train_heating)\n",
        "y_pred_heating_optimized = dt_heating_optimized.predict(X_test)\n",
        "\n",
        "dt_cooling_optimized = DecisionTreeRegressor(**best_params_cooling, random_state=42)\n",
        "dt_cooling_optimized.fit(X_train, y_train_cooling)\n",
        "y_pred_cooling_optimized = dt_cooling_optimized.predict(X_test)\n",
        "\n",
        "mae_heating_opt, mse_heating_opt, r2_heating_opt = evaluate_model(y_test_heating, y_pred_heating_optimized)\n",
        "mae_cooling_opt, mse_cooling_opt, r2_cooling_opt = evaluate_model(y_test_cooling, y_pred_cooling_optimized)\n",
        "\n",
        "print(\"\\nOptimized Decision Tree Results:\")\n",
        "\n",
        "print(f\"\\nHeating Load:\\nMAE: {mae_heating_opt:.4f}, MSE: {mse_heating_opt:.4f}, R²: {r2_heating_opt:.4f}\")\n",
        "print(f\"\\nCooling Load:\\nMAE: {mae_cooling_opt:.4f}, MSE: {mse_cooling_opt:.4f}, R²: {r2_cooling_opt:.4f}\")"
      ],
      "metadata": {
        "colab": {
          "base_uri": "https://localhost:8080/"
        },
        "id": "gesFZo-IyJqJ",
        "outputId": "35d0ecbf-497e-434c-f0c3-7c762ca45687"
      },
      "execution_count": 52,
      "outputs": [
        {
          "output_type": "stream",
          "name": "stdout",
          "text": [
            "\n",
            "Optimized Decision Tree Results:\n",
            "\n",
            "Heating Load:\n",
            "MAE: 0.3917, MSE: 0.3158, R²: 0.9970\n",
            "\n",
            "Cooling Load:\n",
            "MAE: 1.1951, MSE: 3.5538, R²: 0.9616\n"
          ]
        }
      ]
    },
    {
      "cell_type": "markdown",
      "source": [
        "Реализуем собственную имплементацию алгоритма"
      ],
      "metadata": {
        "id": "OLlWimD7yNTi"
      }
    },
    {
      "cell_type": "code",
      "source": [
        "class CustomDecisionTreeRegressor:\n",
        "    def __init__(self, max_depth=5):\n",
        "        self.max_depth = max_depth\n",
        "        self.tree = None\n",
        "\n",
        "    def fit(self, X, y):\n",
        "        self.tree = self._build_tree(X, y, depth=0)\n",
        "\n",
        "    def predict(self, X):\n",
        "        return np.array([self._predict_sample(self.tree, x) for x in X])\n",
        "\n",
        "    def _build_tree(self, X, y, depth):\n",
        "        if depth >= self.max_depth or len(np.unique(y)) == 1:\n",
        "            return np.mean(y)\n",
        "\n",
        "        best_feature, best_threshold = self._find_best_split(X, y)\n",
        "        if best_feature is None:\n",
        "            return np.mean(y)\n",
        "\n",
        "        left_mask = X[:, best_feature] < best_threshold\n",
        "        right_mask = ~left_mask\n",
        "\n",
        "        left_child = self._build_tree(X[left_mask], y[left_mask], depth + 1)\n",
        "        right_child = self._build_tree(X[right_mask], y[right_mask], depth + 1)\n",
        "\n",
        "        return {\"feature\": best_feature, \"threshold\": best_threshold, \"left\": left_child, \"right\": right_child}\n",
        "\n",
        "    def _find_best_split(self, X, y):\n",
        "        best_feature, best_threshold, best_mse = None, None, float(\"inf\")\n",
        "        for feature in range(X.shape[1]):\n",
        "            thresholds = np.unique(X[:, feature])\n",
        "            for threshold in thresholds:\n",
        "                left_mask = X[:, feature] < threshold\n",
        "                right_mask = ~left_mask\n",
        "\n",
        "                if len(y[left_mask]) == 0 or len(y[right_mask]) == 0:\n",
        "                    continue\n",
        "\n",
        "                mse = (\n",
        "                    len(y[left_mask]) * np.var(y[left_mask]) +\n",
        "                    len(y[right_mask]) * np.var(y[right_mask])\n",
        "                )\n",
        "\n",
        "                if mse < best_mse:\n",
        "                    best_feature, best_threshold, best_mse = feature, threshold, mse\n",
        "\n",
        "        return best_feature, best_threshold\n",
        "\n",
        "    def _predict_sample(self, tree, x):\n",
        "        if not isinstance(tree, dict):\n",
        "            return tree\n",
        "\n",
        "        if x[tree[\"feature\"]] < tree[\"threshold\"]:\n",
        "            return self._predict_sample(tree[\"left\"], x)\n",
        "        else:\n",
        "            return self._predict_sample(tree[\"right\"], x)\n",
        "\n",
        "\n",
        "custom_dt_heating = CustomDecisionTreeRegressor(max_depth=best_params_heating[\"max_depth\"])\n",
        "custom_dt_heating.fit(X_train, y_train_heating)\n",
        "y_pred_custom_heating = custom_dt_heating.predict(X_test)\n",
        "\n",
        "mae_custom_heating, mse_custom_heating, r2_custom_heating = evaluate_model(\n",
        "    y_test_heating, y_pred_custom_heating\n",
        ")\n",
        "\n",
        "print(\"\\nCustom Decision Tree Heating Load:\")\n",
        "print(f\"MAE: {mae_custom_heating:.4f}, MSE: {mse_custom_heating:.4f}, R²: {r2_custom_heating:.4f}\")\n",
        "\n",
        "custom_dt_cooling = CustomDecisionTreeRegressor(max_depth=best_params_cooling[\"max_depth\"])\n",
        "custom_dt_cooling.fit(X_train, y_train_cooling)\n",
        "y_pred_custom_cooling = custom_dt_cooling.predict(X_test)\n",
        "\n",
        "mae_custom_cooling, mse_custom_cooling, r2_custom_cooling = evaluate_model(\n",
        "    y_test_cooling, y_pred_custom_cooling\n",
        ")\n",
        "\n",
        "print(\"\\nCustom Decision Tree Cooling Load:\")\n",
        "print(f\"MAE: {mae_custom_cooling:.4f}, MSE: {mse_custom_cooling:.4f}, R²: {r2_custom_cooling:.4f}\")\n"
      ],
      "metadata": {
        "colab": {
          "base_uri": "https://localhost:8080/"
        },
        "id": "Az3-Tg0PyQ9w",
        "outputId": "db1e18c9-e941-4dcd-d3d9-46d3c627d1cf"
      },
      "execution_count": 53,
      "outputs": [
        {
          "output_type": "stream",
          "name": "stdout",
          "text": [
            "\n",
            "Custom Decision Tree Heating Load:\n",
            "MAE: 0.3959, MSE: 0.3195, R²: 0.9969\n",
            "\n",
            "Custom Decision Tree Cooling Load:\n",
            "MAE: 1.1950, MSE: 3.5537, R²: 0.9616\n"
          ]
        }
      ]
    },
    {
      "cell_type": "markdown",
      "source": [
        "Сравним полученные резльтаты:"
      ],
      "metadata": {
        "id": "WiB2oIsLyYWE"
      }
    },
    {
      "cell_type": "code",
      "source": [
        "print(\"\\nСравнение результатов для Heating Load:\")\n",
        "print(f\"Бейзлайн MAE: {mae_heating:.4f}, Улучшенный MAE: {mae_heating_opt:.4f}, Custom MAE: {mae_custom_heating:.4f}\")\n",
        "print(f\"Бейзлайн MSE: {mse_heating:.4f}, Улучшенный MSE: {mse_heating_opt:.4f}, Custom MSE: {mse_custom_heating:.4f}\")\n",
        "print(f\"Бейзлайн R²: {r2_heating:.4f}, Улучшенный R²: {r2_heating_opt:.4f}, Custom R²: {r2_custom_heating:.4f}\")\n",
        "\n",
        "print(\"\\nСравнение результатов для Cooling Load:\")\n",
        "print(f\"Бейзлайн MAE: {mae_cooling:.4f}, Улучшенный MAE: {mae_cooling_opt:.4f}, Custom MAE: {mae_custom_cooling:.4f}\")\n",
        "print(f\"Бейзлайн MSE: {mse_cooling:.4f}, Улучшенный MSE: {mse_cooling_opt:.4f}, Custom MSE: {mse_custom_cooling:.4f}\")\n",
        "print(f\"Бейзлайн R²: {r2_cooling:.4f}, Улучшенный R²: {r2_cooling_opt:.4f}, Custom R²: {r2_custom_cooling:.4f}\")"
      ],
      "metadata": {
        "colab": {
          "base_uri": "https://localhost:8080/"
        },
        "id": "IDLjSRc6ya2s",
        "outputId": "50989f54-fab8-437a-c1b5-6fa9285421d0"
      },
      "execution_count": 54,
      "outputs": [
        {
          "output_type": "stream",
          "name": "stdout",
          "text": [
            "\n",
            "Сравнение результатов для Heating Load:\n",
            "Бейзлайн MAE: 0.4197, Улучшенный MAE: 0.3917, Custom MAE: 0.3959\n",
            "Бейзлайн MSE: 0.3880, Улучшенный MSE: 0.3158, Custom MSE: 0.3195\n",
            "Бейзлайн R²: 0.9963, Улучшенный R²: 0.9970, Custom R²: 0.9969\n",
            "\n",
            "Сравнение результатов для Cooling Load:\n",
            "Бейзлайн MAE: 1.1438, Улучшенный MAE: 1.1951, Custom MAE: 1.1950\n",
            "Бейзлайн MSE: 4.0914, Улучшенный MSE: 3.5538, Custom MSE: 3.5537\n",
            "Бейзлайн R²: 0.9558, Улучшенный R²: 0.9616, Custom R²: 0.9616\n"
          ]
        }
      ]
    },
    {
      "cell_type": "markdown",
      "source": [
        "# Алгоритм Случайный  лес"
      ],
      "metadata": {
        "id": "H2icZYlbyxF-"
      }
    },
    {
      "cell_type": "markdown",
      "source": [
        "## Задача классификации"
      ],
      "metadata": {
        "id": "EMl5CWt2y0-7"
      }
    },
    {
      "cell_type": "markdown",
      "source": [
        "Импортируем необходимые библиотеки"
      ],
      "metadata": {
        "id": "ornh7_rRy7Wd"
      }
    },
    {
      "cell_type": "code",
      "source": [
        "import numpy as np\n",
        "import pandas as pd\n",
        "import matplotlib.pyplot as plt\n",
        "from sklearn.model_selection import train_test_split, GridSearchCV\n",
        "from sklearn.preprocessing import StandardScaler\n",
        "from sklearn.metrics import accuracy_score, f1_score, classification_report\n",
        "from sklearn.ensemble import RandomForestClassifier\n",
        "from sklearn.tree import DecisionTreeClassifier\n",
        "from collections import Counter"
      ],
      "metadata": {
        "id": "-Y3qfK5cy-Xz"
      },
      "execution_count": 55,
      "outputs": []
    },
    {
      "cell_type": "markdown",
      "source": [
        "Загрузим данные датасета, для удобства поменяем названия колонок и выведем первые данные датасета для просмотра"
      ],
      "metadata": {
        "id": "gmFnpRDizAUe"
      }
    },
    {
      "cell_type": "code",
      "source": [
        "data = pd.read_csv('energy_efficiency_data.csv')\n",
        "\n",
        "data.columns = [\n",
        "    \"Relative_Compactness\", \"Surface_Area\", \"Wall_Area\", \"Roof_Area\",\n",
        "    \"Overall_Height\", \"Orientation\", \"Glazing_Area\", \"Glazing_Area_Distribution\",\n",
        "    \"Heating_Load\", \"Cooling_Load\"\n",
        "]\n",
        "\n",
        "data.head()"
      ],
      "metadata": {
        "colab": {
          "base_uri": "https://localhost:8080/",
          "height": 206
        },
        "id": "gYmnEmzMzFne",
        "outputId": "8311a763-6d09-432b-c45c-cd053532d64b"
      },
      "execution_count": 56,
      "outputs": [
        {
          "output_type": "execute_result",
          "data": {
            "text/plain": [
              "   Relative_Compactness  Surface_Area  Wall_Area  Roof_Area  Overall_Height  \\\n",
              "0                  0.98         514.5      294.0     110.25             7.0   \n",
              "1                  0.98         514.5      294.0     110.25             7.0   \n",
              "2                  0.98         514.5      294.0     110.25             7.0   \n",
              "3                  0.98         514.5      294.0     110.25             7.0   \n",
              "4                  0.90         563.5      318.5     122.50             7.0   \n",
              "\n",
              "   Orientation  Glazing_Area  Glazing_Area_Distribution  Heating_Load  \\\n",
              "0            2           0.0                          0         15.55   \n",
              "1            3           0.0                          0         15.55   \n",
              "2            4           0.0                          0         15.55   \n",
              "3            5           0.0                          0         15.55   \n",
              "4            2           0.0                          0         20.84   \n",
              "\n",
              "   Cooling_Load  \n",
              "0         21.33  \n",
              "1         21.33  \n",
              "2         21.33  \n",
              "3         21.33  \n",
              "4         28.28  "
            ],
            "text/html": [
              "\n",
              "  <div id=\"df-16585927-1e54-4572-bfaf-af8155f66bf2\" class=\"colab-df-container\">\n",
              "    <div>\n",
              "<style scoped>\n",
              "    .dataframe tbody tr th:only-of-type {\n",
              "        vertical-align: middle;\n",
              "    }\n",
              "\n",
              "    .dataframe tbody tr th {\n",
              "        vertical-align: top;\n",
              "    }\n",
              "\n",
              "    .dataframe thead th {\n",
              "        text-align: right;\n",
              "    }\n",
              "</style>\n",
              "<table border=\"1\" class=\"dataframe\">\n",
              "  <thead>\n",
              "    <tr style=\"text-align: right;\">\n",
              "      <th></th>\n",
              "      <th>Relative_Compactness</th>\n",
              "      <th>Surface_Area</th>\n",
              "      <th>Wall_Area</th>\n",
              "      <th>Roof_Area</th>\n",
              "      <th>Overall_Height</th>\n",
              "      <th>Orientation</th>\n",
              "      <th>Glazing_Area</th>\n",
              "      <th>Glazing_Area_Distribution</th>\n",
              "      <th>Heating_Load</th>\n",
              "      <th>Cooling_Load</th>\n",
              "    </tr>\n",
              "  </thead>\n",
              "  <tbody>\n",
              "    <tr>\n",
              "      <th>0</th>\n",
              "      <td>0.98</td>\n",
              "      <td>514.5</td>\n",
              "      <td>294.0</td>\n",
              "      <td>110.25</td>\n",
              "      <td>7.0</td>\n",
              "      <td>2</td>\n",
              "      <td>0.0</td>\n",
              "      <td>0</td>\n",
              "      <td>15.55</td>\n",
              "      <td>21.33</td>\n",
              "    </tr>\n",
              "    <tr>\n",
              "      <th>1</th>\n",
              "      <td>0.98</td>\n",
              "      <td>514.5</td>\n",
              "      <td>294.0</td>\n",
              "      <td>110.25</td>\n",
              "      <td>7.0</td>\n",
              "      <td>3</td>\n",
              "      <td>0.0</td>\n",
              "      <td>0</td>\n",
              "      <td>15.55</td>\n",
              "      <td>21.33</td>\n",
              "    </tr>\n",
              "    <tr>\n",
              "      <th>2</th>\n",
              "      <td>0.98</td>\n",
              "      <td>514.5</td>\n",
              "      <td>294.0</td>\n",
              "      <td>110.25</td>\n",
              "      <td>7.0</td>\n",
              "      <td>4</td>\n",
              "      <td>0.0</td>\n",
              "      <td>0</td>\n",
              "      <td>15.55</td>\n",
              "      <td>21.33</td>\n",
              "    </tr>\n",
              "    <tr>\n",
              "      <th>3</th>\n",
              "      <td>0.98</td>\n",
              "      <td>514.5</td>\n",
              "      <td>294.0</td>\n",
              "      <td>110.25</td>\n",
              "      <td>7.0</td>\n",
              "      <td>5</td>\n",
              "      <td>0.0</td>\n",
              "      <td>0</td>\n",
              "      <td>15.55</td>\n",
              "      <td>21.33</td>\n",
              "    </tr>\n",
              "    <tr>\n",
              "      <th>4</th>\n",
              "      <td>0.90</td>\n",
              "      <td>563.5</td>\n",
              "      <td>318.5</td>\n",
              "      <td>122.50</td>\n",
              "      <td>7.0</td>\n",
              "      <td>2</td>\n",
              "      <td>0.0</td>\n",
              "      <td>0</td>\n",
              "      <td>20.84</td>\n",
              "      <td>28.28</td>\n",
              "    </tr>\n",
              "  </tbody>\n",
              "</table>\n",
              "</div>\n",
              "    <div class=\"colab-df-buttons\">\n",
              "\n",
              "  <div class=\"colab-df-container\">\n",
              "    <button class=\"colab-df-convert\" onclick=\"convertToInteractive('df-16585927-1e54-4572-bfaf-af8155f66bf2')\"\n",
              "            title=\"Convert this dataframe to an interactive table.\"\n",
              "            style=\"display:none;\">\n",
              "\n",
              "  <svg xmlns=\"http://www.w3.org/2000/svg\" height=\"24px\" viewBox=\"0 -960 960 960\">\n",
              "    <path d=\"M120-120v-720h720v720H120Zm60-500h600v-160H180v160Zm220 220h160v-160H400v160Zm0 220h160v-160H400v160ZM180-400h160v-160H180v160Zm440 0h160v-160H620v160ZM180-180h160v-160H180v160Zm440 0h160v-160H620v160Z\"/>\n",
              "  </svg>\n",
              "    </button>\n",
              "\n",
              "  <style>\n",
              "    .colab-df-container {\n",
              "      display:flex;\n",
              "      gap: 12px;\n",
              "    }\n",
              "\n",
              "    .colab-df-convert {\n",
              "      background-color: #E8F0FE;\n",
              "      border: none;\n",
              "      border-radius: 50%;\n",
              "      cursor: pointer;\n",
              "      display: none;\n",
              "      fill: #1967D2;\n",
              "      height: 32px;\n",
              "      padding: 0 0 0 0;\n",
              "      width: 32px;\n",
              "    }\n",
              "\n",
              "    .colab-df-convert:hover {\n",
              "      background-color: #E2EBFA;\n",
              "      box-shadow: 0px 1px 2px rgba(60, 64, 67, 0.3), 0px 1px 3px 1px rgba(60, 64, 67, 0.15);\n",
              "      fill: #174EA6;\n",
              "    }\n",
              "\n",
              "    .colab-df-buttons div {\n",
              "      margin-bottom: 4px;\n",
              "    }\n",
              "\n",
              "    [theme=dark] .colab-df-convert {\n",
              "      background-color: #3B4455;\n",
              "      fill: #D2E3FC;\n",
              "    }\n",
              "\n",
              "    [theme=dark] .colab-df-convert:hover {\n",
              "      background-color: #434B5C;\n",
              "      box-shadow: 0px 1px 3px 1px rgba(0, 0, 0, 0.15);\n",
              "      filter: drop-shadow(0px 1px 2px rgba(0, 0, 0, 0.3));\n",
              "      fill: #FFFFFF;\n",
              "    }\n",
              "  </style>\n",
              "\n",
              "    <script>\n",
              "      const buttonEl =\n",
              "        document.querySelector('#df-16585927-1e54-4572-bfaf-af8155f66bf2 button.colab-df-convert');\n",
              "      buttonEl.style.display =\n",
              "        google.colab.kernel.accessAllowed ? 'block' : 'none';\n",
              "\n",
              "      async function convertToInteractive(key) {\n",
              "        const element = document.querySelector('#df-16585927-1e54-4572-bfaf-af8155f66bf2');\n",
              "        const dataTable =\n",
              "          await google.colab.kernel.invokeFunction('convertToInteractive',\n",
              "                                                    [key], {});\n",
              "        if (!dataTable) return;\n",
              "\n",
              "        const docLinkHtml = 'Like what you see? Visit the ' +\n",
              "          '<a target=\"_blank\" href=https://colab.research.google.com/notebooks/data_table.ipynb>data table notebook</a>'\n",
              "          + ' to learn more about interactive tables.';\n",
              "        element.innerHTML = '';\n",
              "        dataTable['output_type'] = 'display_data';\n",
              "        await google.colab.output.renderOutput(dataTable, element);\n",
              "        const docLink = document.createElement('div');\n",
              "        docLink.innerHTML = docLinkHtml;\n",
              "        element.appendChild(docLink);\n",
              "      }\n",
              "    </script>\n",
              "  </div>\n",
              "\n",
              "\n",
              "<div id=\"df-3c68cd66-ec6b-4126-9642-0930d63a44d7\">\n",
              "  <button class=\"colab-df-quickchart\" onclick=\"quickchart('df-3c68cd66-ec6b-4126-9642-0930d63a44d7')\"\n",
              "            title=\"Suggest charts\"\n",
              "            style=\"display:none;\">\n",
              "\n",
              "<svg xmlns=\"http://www.w3.org/2000/svg\" height=\"24px\"viewBox=\"0 0 24 24\"\n",
              "     width=\"24px\">\n",
              "    <g>\n",
              "        <path d=\"M19 3H5c-1.1 0-2 .9-2 2v14c0 1.1.9 2 2 2h14c1.1 0 2-.9 2-2V5c0-1.1-.9-2-2-2zM9 17H7v-7h2v7zm4 0h-2V7h2v10zm4 0h-2v-4h2v4z\"/>\n",
              "    </g>\n",
              "</svg>\n",
              "  </button>\n",
              "\n",
              "<style>\n",
              "  .colab-df-quickchart {\n",
              "      --bg-color: #E8F0FE;\n",
              "      --fill-color: #1967D2;\n",
              "      --hover-bg-color: #E2EBFA;\n",
              "      --hover-fill-color: #174EA6;\n",
              "      --disabled-fill-color: #AAA;\n",
              "      --disabled-bg-color: #DDD;\n",
              "  }\n",
              "\n",
              "  [theme=dark] .colab-df-quickchart {\n",
              "      --bg-color: #3B4455;\n",
              "      --fill-color: #D2E3FC;\n",
              "      --hover-bg-color: #434B5C;\n",
              "      --hover-fill-color: #FFFFFF;\n",
              "      --disabled-bg-color: #3B4455;\n",
              "      --disabled-fill-color: #666;\n",
              "  }\n",
              "\n",
              "  .colab-df-quickchart {\n",
              "    background-color: var(--bg-color);\n",
              "    border: none;\n",
              "    border-radius: 50%;\n",
              "    cursor: pointer;\n",
              "    display: none;\n",
              "    fill: var(--fill-color);\n",
              "    height: 32px;\n",
              "    padding: 0;\n",
              "    width: 32px;\n",
              "  }\n",
              "\n",
              "  .colab-df-quickchart:hover {\n",
              "    background-color: var(--hover-bg-color);\n",
              "    box-shadow: 0 1px 2px rgba(60, 64, 67, 0.3), 0 1px 3px 1px rgba(60, 64, 67, 0.15);\n",
              "    fill: var(--button-hover-fill-color);\n",
              "  }\n",
              "\n",
              "  .colab-df-quickchart-complete:disabled,\n",
              "  .colab-df-quickchart-complete:disabled:hover {\n",
              "    background-color: var(--disabled-bg-color);\n",
              "    fill: var(--disabled-fill-color);\n",
              "    box-shadow: none;\n",
              "  }\n",
              "\n",
              "  .colab-df-spinner {\n",
              "    border: 2px solid var(--fill-color);\n",
              "    border-color: transparent;\n",
              "    border-bottom-color: var(--fill-color);\n",
              "    animation:\n",
              "      spin 1s steps(1) infinite;\n",
              "  }\n",
              "\n",
              "  @keyframes spin {\n",
              "    0% {\n",
              "      border-color: transparent;\n",
              "      border-bottom-color: var(--fill-color);\n",
              "      border-left-color: var(--fill-color);\n",
              "    }\n",
              "    20% {\n",
              "      border-color: transparent;\n",
              "      border-left-color: var(--fill-color);\n",
              "      border-top-color: var(--fill-color);\n",
              "    }\n",
              "    30% {\n",
              "      border-color: transparent;\n",
              "      border-left-color: var(--fill-color);\n",
              "      border-top-color: var(--fill-color);\n",
              "      border-right-color: var(--fill-color);\n",
              "    }\n",
              "    40% {\n",
              "      border-color: transparent;\n",
              "      border-right-color: var(--fill-color);\n",
              "      border-top-color: var(--fill-color);\n",
              "    }\n",
              "    60% {\n",
              "      border-color: transparent;\n",
              "      border-right-color: var(--fill-color);\n",
              "    }\n",
              "    80% {\n",
              "      border-color: transparent;\n",
              "      border-right-color: var(--fill-color);\n",
              "      border-bottom-color: var(--fill-color);\n",
              "    }\n",
              "    90% {\n",
              "      border-color: transparent;\n",
              "      border-bottom-color: var(--fill-color);\n",
              "    }\n",
              "  }\n",
              "</style>\n",
              "\n",
              "  <script>\n",
              "    async function quickchart(key) {\n",
              "      const quickchartButtonEl =\n",
              "        document.querySelector('#' + key + ' button');\n",
              "      quickchartButtonEl.disabled = true;  // To prevent multiple clicks.\n",
              "      quickchartButtonEl.classList.add('colab-df-spinner');\n",
              "      try {\n",
              "        const charts = await google.colab.kernel.invokeFunction(\n",
              "            'suggestCharts', [key], {});\n",
              "      } catch (error) {\n",
              "        console.error('Error during call to suggestCharts:', error);\n",
              "      }\n",
              "      quickchartButtonEl.classList.remove('colab-df-spinner');\n",
              "      quickchartButtonEl.classList.add('colab-df-quickchart-complete');\n",
              "    }\n",
              "    (() => {\n",
              "      let quickchartButtonEl =\n",
              "        document.querySelector('#df-3c68cd66-ec6b-4126-9642-0930d63a44d7 button');\n",
              "      quickchartButtonEl.style.display =\n",
              "        google.colab.kernel.accessAllowed ? 'block' : 'none';\n",
              "    })();\n",
              "  </script>\n",
              "</div>\n",
              "    </div>\n",
              "  </div>\n"
            ],
            "application/vnd.google.colaboratory.intrinsic+json": {
              "type": "dataframe",
              "variable_name": "data",
              "summary": "{\n  \"name\": \"data\",\n  \"rows\": 768,\n  \"fields\": [\n    {\n      \"column\": \"Relative_Compactness\",\n      \"properties\": {\n        \"dtype\": \"number\",\n        \"std\": 0.10577747587475206,\n        \"min\": 0.62,\n        \"max\": 0.98,\n        \"num_unique_values\": 12,\n        \"samples\": [\n          0.64,\n          0.66,\n          0.98\n        ],\n        \"semantic_type\": \"\",\n        \"description\": \"\"\n      }\n    },\n    {\n      \"column\": \"Surface_Area\",\n      \"properties\": {\n        \"dtype\": \"number\",\n        \"std\": 88.08611605586826,\n        \"min\": 514.5,\n        \"max\": 808.5,\n        \"num_unique_values\": 12,\n        \"samples\": [\n          784.0,\n          759.5,\n          514.5\n        ],\n        \"semantic_type\": \"\",\n        \"description\": \"\"\n      }\n    },\n    {\n      \"column\": \"Wall_Area\",\n      \"properties\": {\n        \"dtype\": \"number\",\n        \"std\": 43.6264814379949,\n        \"min\": 245.0,\n        \"max\": 416.5,\n        \"num_unique_values\": 7,\n        \"samples\": [\n          294.0,\n          318.5,\n          269.5\n        ],\n        \"semantic_type\": \"\",\n        \"description\": \"\"\n      }\n    },\n    {\n      \"column\": \"Roof_Area\",\n      \"properties\": {\n        \"dtype\": \"number\",\n        \"std\": 45.165950222920344,\n        \"min\": 110.25,\n        \"max\": 220.5,\n        \"num_unique_values\": 4,\n        \"samples\": [\n          122.5,\n          220.5,\n          110.25\n        ],\n        \"semantic_type\": \"\",\n        \"description\": \"\"\n      }\n    },\n    {\n      \"column\": \"Overall_Height\",\n      \"properties\": {\n        \"dtype\": \"number\",\n        \"std\": 1.7511404367453496,\n        \"min\": 3.5,\n        \"max\": 7.0,\n        \"num_unique_values\": 2,\n        \"samples\": [\n          3.5,\n          7.0\n        ],\n        \"semantic_type\": \"\",\n        \"description\": \"\"\n      }\n    },\n    {\n      \"column\": \"Orientation\",\n      \"properties\": {\n        \"dtype\": \"number\",\n        \"std\": 1,\n        \"min\": 2,\n        \"max\": 5,\n        \"num_unique_values\": 4,\n        \"samples\": [\n          3,\n          5\n        ],\n        \"semantic_type\": \"\",\n        \"description\": \"\"\n      }\n    },\n    {\n      \"column\": \"Glazing_Area\",\n      \"properties\": {\n        \"dtype\": \"number\",\n        \"std\": 0.13322056291470877,\n        \"min\": 0.0,\n        \"max\": 0.4,\n        \"num_unique_values\": 4,\n        \"samples\": [\n          0.1,\n          0.4\n        ],\n        \"semantic_type\": \"\",\n        \"description\": \"\"\n      }\n    },\n    {\n      \"column\": \"Glazing_Area_Distribution\",\n      \"properties\": {\n        \"dtype\": \"number\",\n        \"std\": 1,\n        \"min\": 0,\n        \"max\": 5,\n        \"num_unique_values\": 6,\n        \"samples\": [\n          0,\n          1\n        ],\n        \"semantic_type\": \"\",\n        \"description\": \"\"\n      }\n    },\n    {\n      \"column\": \"Heating_Load\",\n      \"properties\": {\n        \"dtype\": \"number\",\n        \"std\": 10.090195732006162,\n        \"min\": 6.01,\n        \"max\": 43.1,\n        \"num_unique_values\": 586,\n        \"samples\": [\n          16.47,\n          24.94\n        ],\n        \"semantic_type\": \"\",\n        \"description\": \"\"\n      }\n    },\n    {\n      \"column\": \"Cooling_Load\",\n      \"properties\": {\n        \"dtype\": \"number\",\n        \"std\": 9.513305562326163,\n        \"min\": 10.9,\n        \"max\": 48.03,\n        \"num_unique_values\": 636,\n        \"samples\": [\n          21.09,\n          20.82\n        ],\n        \"semantic_type\": \"\",\n        \"description\": \"\"\n      }\n    }\n  ]\n}"
            }
          },
          "metadata": {},
          "execution_count": 56
        }
      ]
    },
    {
      "cell_type": "markdown",
      "source": [
        "Выберем переменную для классификации, и для удобства удалил ненужные столбцы"
      ],
      "metadata": {
        "id": "nLWUZXsazIc6"
      }
    },
    {
      "cell_type": "code",
      "source": [
        "data['Heating_Load_Class'] = pd.qcut(data['Heating_Load'], q=3, labels=['Low', 'Medium', 'High'])\n",
        "data = data.drop(['Heating_Load', 'Cooling_Load'], axis=1)\n",
        "\n",
        "X = data.drop('Heating_Load_Class', axis=1)\n",
        "y = data['Heating_Load_Class']\n",
        "\n",
        "scaler = StandardScaler()\n",
        "X_scaled = scaler.fit_transform(X)\n",
        "\n",
        "X_train, X_test, y_train, y_test = train_test_split(X_scaled, y, test_size=0.2, random_state=42, stratify=y)\n",
        "\n",
        "print(f\"Размер обучающей выборки: {X_train.shape}, Размер тестовой выборки: {X_test.shape}\")"
      ],
      "metadata": {
        "colab": {
          "base_uri": "https://localhost:8080/"
        },
        "id": "6LmMy2WpzKRo",
        "outputId": "0e1704df-1320-4cca-f2a4-23f37d0b5f5e"
      },
      "execution_count": 57,
      "outputs": [
        {
          "output_type": "stream",
          "name": "stdout",
          "text": [
            "Размер обучающей выборки: (614, 8), Размер тестовой выборки: (154, 8)\n"
          ]
        }
      ]
    },
    {
      "cell_type": "markdown",
      "source": [
        "Применим встроенный алгоритм для случайного леса"
      ],
      "metadata": {
        "id": "JXH6fajMzRx3"
      }
    },
    {
      "cell_type": "code",
      "source": [
        "rf_baseline = RandomForestClassifier(random_state=42)\n",
        "rf_baseline.fit(X_train, y_train)\n",
        "\n",
        "y_pred_baseline = rf_baseline.predict(X_test)\n",
        "\n",
        "accuracy_baseline = accuracy_score(y_test, y_pred_baseline)\n",
        "f1_baseline = f1_score(y_test, y_pred_baseline, average='weighted')\n",
        "\n",
        "print(\"Бейзлайн Random Forest:\")\n",
        "print(f\"Accuracy: {accuracy_baseline:.4f}\")\n",
        "print(f\"F1-Score: {f1_baseline:.4f}\")\n",
        "print(\"\\nClassification Report:\")\n",
        "print(classification_report(y_test, y_pred_baseline))"
      ],
      "metadata": {
        "colab": {
          "base_uri": "https://localhost:8080/"
        },
        "id": "PNpCwzi2zZCO",
        "outputId": "5f9677f8-ce90-4829-e175-5989c998c7dc"
      },
      "execution_count": 58,
      "outputs": [
        {
          "output_type": "stream",
          "name": "stdout",
          "text": [
            "Бейзлайн Random Forest:\n",
            "Accuracy: 0.9091\n",
            "F1-Score: 0.9071\n",
            "\n",
            "Classification Report:\n",
            "              precision    recall  f1-score   support\n",
            "\n",
            "        High       0.94      0.94      0.94        51\n",
            "         Low       0.87      1.00      0.93        52\n",
            "      Medium       0.93      0.78      0.85        51\n",
            "\n",
            "    accuracy                           0.91       154\n",
            "   macro avg       0.91      0.91      0.91       154\n",
            "weighted avg       0.91      0.91      0.91       154\n",
            "\n"
          ]
        }
      ]
    },
    {
      "cell_type": "markdown",
      "source": [
        "Подберем гиперпараметры для улучшения безлайна"
      ],
      "metadata": {
        "id": "cHQpSLYIzYk6"
      }
    },
    {
      "cell_type": "code",
      "source": [
        "param_grid = {\n",
        "    'n_estimators': [50, 100, 200],\n",
        "    'max_depth': [None, 10, 20, 30],\n",
        "    'min_samples_split': [2, 5, 10],\n",
        "    'min_samples_leaf': [1, 2, 4]\n",
        "}\n",
        "\n",
        "grid_search_rf = GridSearchCV(RandomForestClassifier(random_state=42), param_grid, cv=5, scoring='accuracy', verbose=1, n_jobs=-1)\n",
        "grid_search_rf.fit(X_train, y_train)"
      ],
      "metadata": {
        "id": "VBFkQdfOzcfL",
        "colab": {
          "base_uri": "https://localhost:8080/",
          "height": 357
        },
        "outputId": "5111c66e-2b48-4c0b-ab96-70c3cdc1d540"
      },
      "execution_count": 59,
      "outputs": [
        {
          "output_type": "stream",
          "name": "stdout",
          "text": [
            "Fitting 5 folds for each of 108 candidates, totalling 540 fits\n"
          ]
        },
        {
          "output_type": "execute_result",
          "data": {
            "text/plain": [
              "GridSearchCV(cv=5, estimator=RandomForestClassifier(random_state=42), n_jobs=-1,\n",
              "             param_grid={'max_depth': [None, 10, 20, 30],\n",
              "                         'min_samples_leaf': [1, 2, 4],\n",
              "                         'min_samples_split': [2, 5, 10],\n",
              "                         'n_estimators': [50, 100, 200]},\n",
              "             scoring='accuracy', verbose=1)"
            ],
            "text/html": [
              "<style>#sk-container-id-1 {\n",
              "  /* Definition of color scheme common for light and dark mode */\n",
              "  --sklearn-color-text: #000;\n",
              "  --sklearn-color-text-muted: #666;\n",
              "  --sklearn-color-line: gray;\n",
              "  /* Definition of color scheme for unfitted estimators */\n",
              "  --sklearn-color-unfitted-level-0: #fff5e6;\n",
              "  --sklearn-color-unfitted-level-1: #f6e4d2;\n",
              "  --sklearn-color-unfitted-level-2: #ffe0b3;\n",
              "  --sklearn-color-unfitted-level-3: chocolate;\n",
              "  /* Definition of color scheme for fitted estimators */\n",
              "  --sklearn-color-fitted-level-0: #f0f8ff;\n",
              "  --sklearn-color-fitted-level-1: #d4ebff;\n",
              "  --sklearn-color-fitted-level-2: #b3dbfd;\n",
              "  --sklearn-color-fitted-level-3: cornflowerblue;\n",
              "\n",
              "  /* Specific color for light theme */\n",
              "  --sklearn-color-text-on-default-background: var(--sg-text-color, var(--theme-code-foreground, var(--jp-content-font-color1, black)));\n",
              "  --sklearn-color-background: var(--sg-background-color, var(--theme-background, var(--jp-layout-color0, white)));\n",
              "  --sklearn-color-border-box: var(--sg-text-color, var(--theme-code-foreground, var(--jp-content-font-color1, black)));\n",
              "  --sklearn-color-icon: #696969;\n",
              "\n",
              "  @media (prefers-color-scheme: dark) {\n",
              "    /* Redefinition of color scheme for dark theme */\n",
              "    --sklearn-color-text-on-default-background: var(--sg-text-color, var(--theme-code-foreground, var(--jp-content-font-color1, white)));\n",
              "    --sklearn-color-background: var(--sg-background-color, var(--theme-background, var(--jp-layout-color0, #111)));\n",
              "    --sklearn-color-border-box: var(--sg-text-color, var(--theme-code-foreground, var(--jp-content-font-color1, white)));\n",
              "    --sklearn-color-icon: #878787;\n",
              "  }\n",
              "}\n",
              "\n",
              "#sk-container-id-1 {\n",
              "  color: var(--sklearn-color-text);\n",
              "}\n",
              "\n",
              "#sk-container-id-1 pre {\n",
              "  padding: 0;\n",
              "}\n",
              "\n",
              "#sk-container-id-1 input.sk-hidden--visually {\n",
              "  border: 0;\n",
              "  clip: rect(1px 1px 1px 1px);\n",
              "  clip: rect(1px, 1px, 1px, 1px);\n",
              "  height: 1px;\n",
              "  margin: -1px;\n",
              "  overflow: hidden;\n",
              "  padding: 0;\n",
              "  position: absolute;\n",
              "  width: 1px;\n",
              "}\n",
              "\n",
              "#sk-container-id-1 div.sk-dashed-wrapped {\n",
              "  border: 1px dashed var(--sklearn-color-line);\n",
              "  margin: 0 0.4em 0.5em 0.4em;\n",
              "  box-sizing: border-box;\n",
              "  padding-bottom: 0.4em;\n",
              "  background-color: var(--sklearn-color-background);\n",
              "}\n",
              "\n",
              "#sk-container-id-1 div.sk-container {\n",
              "  /* jupyter's `normalize.less` sets `[hidden] { display: none; }`\n",
              "     but bootstrap.min.css set `[hidden] { display: none !important; }`\n",
              "     so we also need the `!important` here to be able to override the\n",
              "     default hidden behavior on the sphinx rendered scikit-learn.org.\n",
              "     See: https://github.com/scikit-learn/scikit-learn/issues/21755 */\n",
              "  display: inline-block !important;\n",
              "  position: relative;\n",
              "}\n",
              "\n",
              "#sk-container-id-1 div.sk-text-repr-fallback {\n",
              "  display: none;\n",
              "}\n",
              "\n",
              "div.sk-parallel-item,\n",
              "div.sk-serial,\n",
              "div.sk-item {\n",
              "  /* draw centered vertical line to link estimators */\n",
              "  background-image: linear-gradient(var(--sklearn-color-text-on-default-background), var(--sklearn-color-text-on-default-background));\n",
              "  background-size: 2px 100%;\n",
              "  background-repeat: no-repeat;\n",
              "  background-position: center center;\n",
              "}\n",
              "\n",
              "/* Parallel-specific style estimator block */\n",
              "\n",
              "#sk-container-id-1 div.sk-parallel-item::after {\n",
              "  content: \"\";\n",
              "  width: 100%;\n",
              "  border-bottom: 2px solid var(--sklearn-color-text-on-default-background);\n",
              "  flex-grow: 1;\n",
              "}\n",
              "\n",
              "#sk-container-id-1 div.sk-parallel {\n",
              "  display: flex;\n",
              "  align-items: stretch;\n",
              "  justify-content: center;\n",
              "  background-color: var(--sklearn-color-background);\n",
              "  position: relative;\n",
              "}\n",
              "\n",
              "#sk-container-id-1 div.sk-parallel-item {\n",
              "  display: flex;\n",
              "  flex-direction: column;\n",
              "}\n",
              "\n",
              "#sk-container-id-1 div.sk-parallel-item:first-child::after {\n",
              "  align-self: flex-end;\n",
              "  width: 50%;\n",
              "}\n",
              "\n",
              "#sk-container-id-1 div.sk-parallel-item:last-child::after {\n",
              "  align-self: flex-start;\n",
              "  width: 50%;\n",
              "}\n",
              "\n",
              "#sk-container-id-1 div.sk-parallel-item:only-child::after {\n",
              "  width: 0;\n",
              "}\n",
              "\n",
              "/* Serial-specific style estimator block */\n",
              "\n",
              "#sk-container-id-1 div.sk-serial {\n",
              "  display: flex;\n",
              "  flex-direction: column;\n",
              "  align-items: center;\n",
              "  background-color: var(--sklearn-color-background);\n",
              "  padding-right: 1em;\n",
              "  padding-left: 1em;\n",
              "}\n",
              "\n",
              "\n",
              "/* Toggleable style: style used for estimator/Pipeline/ColumnTransformer box that is\n",
              "clickable and can be expanded/collapsed.\n",
              "- Pipeline and ColumnTransformer use this feature and define the default style\n",
              "- Estimators will overwrite some part of the style using the `sk-estimator` class\n",
              "*/\n",
              "\n",
              "/* Pipeline and ColumnTransformer style (default) */\n",
              "\n",
              "#sk-container-id-1 div.sk-toggleable {\n",
              "  /* Default theme specific background. It is overwritten whether we have a\n",
              "  specific estimator or a Pipeline/ColumnTransformer */\n",
              "  background-color: var(--sklearn-color-background);\n",
              "}\n",
              "\n",
              "/* Toggleable label */\n",
              "#sk-container-id-1 label.sk-toggleable__label {\n",
              "  cursor: pointer;\n",
              "  display: flex;\n",
              "  width: 100%;\n",
              "  margin-bottom: 0;\n",
              "  padding: 0.5em;\n",
              "  box-sizing: border-box;\n",
              "  text-align: center;\n",
              "  align-items: start;\n",
              "  justify-content: space-between;\n",
              "  gap: 0.5em;\n",
              "}\n",
              "\n",
              "#sk-container-id-1 label.sk-toggleable__label .caption {\n",
              "  font-size: 0.6rem;\n",
              "  font-weight: lighter;\n",
              "  color: var(--sklearn-color-text-muted);\n",
              "}\n",
              "\n",
              "#sk-container-id-1 label.sk-toggleable__label-arrow:before {\n",
              "  /* Arrow on the left of the label */\n",
              "  content: \"▸\";\n",
              "  float: left;\n",
              "  margin-right: 0.25em;\n",
              "  color: var(--sklearn-color-icon);\n",
              "}\n",
              "\n",
              "#sk-container-id-1 label.sk-toggleable__label-arrow:hover:before {\n",
              "  color: var(--sklearn-color-text);\n",
              "}\n",
              "\n",
              "/* Toggleable content - dropdown */\n",
              "\n",
              "#sk-container-id-1 div.sk-toggleable__content {\n",
              "  max-height: 0;\n",
              "  max-width: 0;\n",
              "  overflow: hidden;\n",
              "  text-align: left;\n",
              "  /* unfitted */\n",
              "  background-color: var(--sklearn-color-unfitted-level-0);\n",
              "}\n",
              "\n",
              "#sk-container-id-1 div.sk-toggleable__content.fitted {\n",
              "  /* fitted */\n",
              "  background-color: var(--sklearn-color-fitted-level-0);\n",
              "}\n",
              "\n",
              "#sk-container-id-1 div.sk-toggleable__content pre {\n",
              "  margin: 0.2em;\n",
              "  border-radius: 0.25em;\n",
              "  color: var(--sklearn-color-text);\n",
              "  /* unfitted */\n",
              "  background-color: var(--sklearn-color-unfitted-level-0);\n",
              "}\n",
              "\n",
              "#sk-container-id-1 div.sk-toggleable__content.fitted pre {\n",
              "  /* unfitted */\n",
              "  background-color: var(--sklearn-color-fitted-level-0);\n",
              "}\n",
              "\n",
              "#sk-container-id-1 input.sk-toggleable__control:checked~div.sk-toggleable__content {\n",
              "  /* Expand drop-down */\n",
              "  max-height: 200px;\n",
              "  max-width: 100%;\n",
              "  overflow: auto;\n",
              "}\n",
              "\n",
              "#sk-container-id-1 input.sk-toggleable__control:checked~label.sk-toggleable__label-arrow:before {\n",
              "  content: \"▾\";\n",
              "}\n",
              "\n",
              "/* Pipeline/ColumnTransformer-specific style */\n",
              "\n",
              "#sk-container-id-1 div.sk-label input.sk-toggleable__control:checked~label.sk-toggleable__label {\n",
              "  color: var(--sklearn-color-text);\n",
              "  background-color: var(--sklearn-color-unfitted-level-2);\n",
              "}\n",
              "\n",
              "#sk-container-id-1 div.sk-label.fitted input.sk-toggleable__control:checked~label.sk-toggleable__label {\n",
              "  background-color: var(--sklearn-color-fitted-level-2);\n",
              "}\n",
              "\n",
              "/* Estimator-specific style */\n",
              "\n",
              "/* Colorize estimator box */\n",
              "#sk-container-id-1 div.sk-estimator input.sk-toggleable__control:checked~label.sk-toggleable__label {\n",
              "  /* unfitted */\n",
              "  background-color: var(--sklearn-color-unfitted-level-2);\n",
              "}\n",
              "\n",
              "#sk-container-id-1 div.sk-estimator.fitted input.sk-toggleable__control:checked~label.sk-toggleable__label {\n",
              "  /* fitted */\n",
              "  background-color: var(--sklearn-color-fitted-level-2);\n",
              "}\n",
              "\n",
              "#sk-container-id-1 div.sk-label label.sk-toggleable__label,\n",
              "#sk-container-id-1 div.sk-label label {\n",
              "  /* The background is the default theme color */\n",
              "  color: var(--sklearn-color-text-on-default-background);\n",
              "}\n",
              "\n",
              "/* On hover, darken the color of the background */\n",
              "#sk-container-id-1 div.sk-label:hover label.sk-toggleable__label {\n",
              "  color: var(--sklearn-color-text);\n",
              "  background-color: var(--sklearn-color-unfitted-level-2);\n",
              "}\n",
              "\n",
              "/* Label box, darken color on hover, fitted */\n",
              "#sk-container-id-1 div.sk-label.fitted:hover label.sk-toggleable__label.fitted {\n",
              "  color: var(--sklearn-color-text);\n",
              "  background-color: var(--sklearn-color-fitted-level-2);\n",
              "}\n",
              "\n",
              "/* Estimator label */\n",
              "\n",
              "#sk-container-id-1 div.sk-label label {\n",
              "  font-family: monospace;\n",
              "  font-weight: bold;\n",
              "  display: inline-block;\n",
              "  line-height: 1.2em;\n",
              "}\n",
              "\n",
              "#sk-container-id-1 div.sk-label-container {\n",
              "  text-align: center;\n",
              "}\n",
              "\n",
              "/* Estimator-specific */\n",
              "#sk-container-id-1 div.sk-estimator {\n",
              "  font-family: monospace;\n",
              "  border: 1px dotted var(--sklearn-color-border-box);\n",
              "  border-radius: 0.25em;\n",
              "  box-sizing: border-box;\n",
              "  margin-bottom: 0.5em;\n",
              "  /* unfitted */\n",
              "  background-color: var(--sklearn-color-unfitted-level-0);\n",
              "}\n",
              "\n",
              "#sk-container-id-1 div.sk-estimator.fitted {\n",
              "  /* fitted */\n",
              "  background-color: var(--sklearn-color-fitted-level-0);\n",
              "}\n",
              "\n",
              "/* on hover */\n",
              "#sk-container-id-1 div.sk-estimator:hover {\n",
              "  /* unfitted */\n",
              "  background-color: var(--sklearn-color-unfitted-level-2);\n",
              "}\n",
              "\n",
              "#sk-container-id-1 div.sk-estimator.fitted:hover {\n",
              "  /* fitted */\n",
              "  background-color: var(--sklearn-color-fitted-level-2);\n",
              "}\n",
              "\n",
              "/* Specification for estimator info (e.g. \"i\" and \"?\") */\n",
              "\n",
              "/* Common style for \"i\" and \"?\" */\n",
              "\n",
              ".sk-estimator-doc-link,\n",
              "a:link.sk-estimator-doc-link,\n",
              "a:visited.sk-estimator-doc-link {\n",
              "  float: right;\n",
              "  font-size: smaller;\n",
              "  line-height: 1em;\n",
              "  font-family: monospace;\n",
              "  background-color: var(--sklearn-color-background);\n",
              "  border-radius: 1em;\n",
              "  height: 1em;\n",
              "  width: 1em;\n",
              "  text-decoration: none !important;\n",
              "  margin-left: 0.5em;\n",
              "  text-align: center;\n",
              "  /* unfitted */\n",
              "  border: var(--sklearn-color-unfitted-level-1) 1pt solid;\n",
              "  color: var(--sklearn-color-unfitted-level-1);\n",
              "}\n",
              "\n",
              ".sk-estimator-doc-link.fitted,\n",
              "a:link.sk-estimator-doc-link.fitted,\n",
              "a:visited.sk-estimator-doc-link.fitted {\n",
              "  /* fitted */\n",
              "  border: var(--sklearn-color-fitted-level-1) 1pt solid;\n",
              "  color: var(--sklearn-color-fitted-level-1);\n",
              "}\n",
              "\n",
              "/* On hover */\n",
              "div.sk-estimator:hover .sk-estimator-doc-link:hover,\n",
              ".sk-estimator-doc-link:hover,\n",
              "div.sk-label-container:hover .sk-estimator-doc-link:hover,\n",
              ".sk-estimator-doc-link:hover {\n",
              "  /* unfitted */\n",
              "  background-color: var(--sklearn-color-unfitted-level-3);\n",
              "  color: var(--sklearn-color-background);\n",
              "  text-decoration: none;\n",
              "}\n",
              "\n",
              "div.sk-estimator.fitted:hover .sk-estimator-doc-link.fitted:hover,\n",
              ".sk-estimator-doc-link.fitted:hover,\n",
              "div.sk-label-container:hover .sk-estimator-doc-link.fitted:hover,\n",
              ".sk-estimator-doc-link.fitted:hover {\n",
              "  /* fitted */\n",
              "  background-color: var(--sklearn-color-fitted-level-3);\n",
              "  color: var(--sklearn-color-background);\n",
              "  text-decoration: none;\n",
              "}\n",
              "\n",
              "/* Span, style for the box shown on hovering the info icon */\n",
              ".sk-estimator-doc-link span {\n",
              "  display: none;\n",
              "  z-index: 9999;\n",
              "  position: relative;\n",
              "  font-weight: normal;\n",
              "  right: .2ex;\n",
              "  padding: .5ex;\n",
              "  margin: .5ex;\n",
              "  width: min-content;\n",
              "  min-width: 20ex;\n",
              "  max-width: 50ex;\n",
              "  color: var(--sklearn-color-text);\n",
              "  box-shadow: 2pt 2pt 4pt #999;\n",
              "  /* unfitted */\n",
              "  background: var(--sklearn-color-unfitted-level-0);\n",
              "  border: .5pt solid var(--sklearn-color-unfitted-level-3);\n",
              "}\n",
              "\n",
              ".sk-estimator-doc-link.fitted span {\n",
              "  /* fitted */\n",
              "  background: var(--sklearn-color-fitted-level-0);\n",
              "  border: var(--sklearn-color-fitted-level-3);\n",
              "}\n",
              "\n",
              ".sk-estimator-doc-link:hover span {\n",
              "  display: block;\n",
              "}\n",
              "\n",
              "/* \"?\"-specific style due to the `<a>` HTML tag */\n",
              "\n",
              "#sk-container-id-1 a.estimator_doc_link {\n",
              "  float: right;\n",
              "  font-size: 1rem;\n",
              "  line-height: 1em;\n",
              "  font-family: monospace;\n",
              "  background-color: var(--sklearn-color-background);\n",
              "  border-radius: 1rem;\n",
              "  height: 1rem;\n",
              "  width: 1rem;\n",
              "  text-decoration: none;\n",
              "  /* unfitted */\n",
              "  color: var(--sklearn-color-unfitted-level-1);\n",
              "  border: var(--sklearn-color-unfitted-level-1) 1pt solid;\n",
              "}\n",
              "\n",
              "#sk-container-id-1 a.estimator_doc_link.fitted {\n",
              "  /* fitted */\n",
              "  border: var(--sklearn-color-fitted-level-1) 1pt solid;\n",
              "  color: var(--sklearn-color-fitted-level-1);\n",
              "}\n",
              "\n",
              "/* On hover */\n",
              "#sk-container-id-1 a.estimator_doc_link:hover {\n",
              "  /* unfitted */\n",
              "  background-color: var(--sklearn-color-unfitted-level-3);\n",
              "  color: var(--sklearn-color-background);\n",
              "  text-decoration: none;\n",
              "}\n",
              "\n",
              "#sk-container-id-1 a.estimator_doc_link.fitted:hover {\n",
              "  /* fitted */\n",
              "  background-color: var(--sklearn-color-fitted-level-3);\n",
              "}\n",
              "</style><div id=\"sk-container-id-1\" class=\"sk-top-container\"><div class=\"sk-text-repr-fallback\"><pre>GridSearchCV(cv=5, estimator=RandomForestClassifier(random_state=42), n_jobs=-1,\n",
              "             param_grid={&#x27;max_depth&#x27;: [None, 10, 20, 30],\n",
              "                         &#x27;min_samples_leaf&#x27;: [1, 2, 4],\n",
              "                         &#x27;min_samples_split&#x27;: [2, 5, 10],\n",
              "                         &#x27;n_estimators&#x27;: [50, 100, 200]},\n",
              "             scoring=&#x27;accuracy&#x27;, verbose=1)</pre><b>In a Jupyter environment, please rerun this cell to show the HTML representation or trust the notebook. <br />On GitHub, the HTML representation is unable to render, please try loading this page with nbviewer.org.</b></div><div class=\"sk-container\" hidden><div class=\"sk-item sk-dashed-wrapped\"><div class=\"sk-label-container\"><div class=\"sk-label fitted sk-toggleable\"><input class=\"sk-toggleable__control sk-hidden--visually\" id=\"sk-estimator-id-1\" type=\"checkbox\" ><label for=\"sk-estimator-id-1\" class=\"sk-toggleable__label fitted sk-toggleable__label-arrow\"><div><div>GridSearchCV</div></div><div><a class=\"sk-estimator-doc-link fitted\" rel=\"noreferrer\" target=\"_blank\" href=\"https://scikit-learn.org/1.6/modules/generated/sklearn.model_selection.GridSearchCV.html\">?<span>Documentation for GridSearchCV</span></a><span class=\"sk-estimator-doc-link fitted\">i<span>Fitted</span></span></div></label><div class=\"sk-toggleable__content fitted\"><pre>GridSearchCV(cv=5, estimator=RandomForestClassifier(random_state=42), n_jobs=-1,\n",
              "             param_grid={&#x27;max_depth&#x27;: [None, 10, 20, 30],\n",
              "                         &#x27;min_samples_leaf&#x27;: [1, 2, 4],\n",
              "                         &#x27;min_samples_split&#x27;: [2, 5, 10],\n",
              "                         &#x27;n_estimators&#x27;: [50, 100, 200]},\n",
              "             scoring=&#x27;accuracy&#x27;, verbose=1)</pre></div> </div></div><div class=\"sk-parallel\"><div class=\"sk-parallel-item\"><div class=\"sk-item\"><div class=\"sk-label-container\"><div class=\"sk-label fitted sk-toggleable\"><input class=\"sk-toggleable__control sk-hidden--visually\" id=\"sk-estimator-id-2\" type=\"checkbox\" ><label for=\"sk-estimator-id-2\" class=\"sk-toggleable__label fitted sk-toggleable__label-arrow\"><div><div>best_estimator_: RandomForestClassifier</div></div></label><div class=\"sk-toggleable__content fitted\"><pre>RandomForestClassifier(min_samples_leaf=2, min_samples_split=10,\n",
              "                       random_state=42)</pre></div> </div></div><div class=\"sk-serial\"><div class=\"sk-item\"><div class=\"sk-estimator fitted sk-toggleable\"><input class=\"sk-toggleable__control sk-hidden--visually\" id=\"sk-estimator-id-3\" type=\"checkbox\" ><label for=\"sk-estimator-id-3\" class=\"sk-toggleable__label fitted sk-toggleable__label-arrow\"><div><div>RandomForestClassifier</div></div><div><a class=\"sk-estimator-doc-link fitted\" rel=\"noreferrer\" target=\"_blank\" href=\"https://scikit-learn.org/1.6/modules/generated/sklearn.ensemble.RandomForestClassifier.html\">?<span>Documentation for RandomForestClassifier</span></a></div></label><div class=\"sk-toggleable__content fitted\"><pre>RandomForestClassifier(min_samples_leaf=2, min_samples_split=10,\n",
              "                       random_state=42)</pre></div> </div></div></div></div></div></div></div></div></div>"
            ]
          },
          "metadata": {},
          "execution_count": 59
        }
      ]
    },
    {
      "cell_type": "markdown",
      "source": [
        "Проведем обучение улучшенной модели и посчитаем метрики"
      ],
      "metadata": {
        "id": "m-wbLBubzhm2"
      }
    },
    {
      "cell_type": "code",
      "source": [
        "best_rf = grid_search_rf.best_estimator_\n",
        "\n",
        "y_pred_best_rf = best_rf.predict(X_test)\n",
        "\n",
        "accuracy_best_rf = accuracy_score(y_test, y_pred_best_rf)\n",
        "f1_best_rf = f1_score(y_test, y_pred_best_rf, average='weighted')\n",
        "\n",
        "print(\"Улучшенный бейзлайн Random Forest:\")\n",
        "print(f\"Accuracy: {accuracy_best_rf:.4f}\")\n",
        "print(f\"F1-Score: {f1_best_rf:.4f}\")\n",
        "print(\"\\nClassification Report:\")\n",
        "print(classification_report(y_test, y_pred_best_rf))"
      ],
      "metadata": {
        "colab": {
          "base_uri": "https://localhost:8080/"
        },
        "id": "J7X7LHWvzkUP",
        "outputId": "ae3ae2a9-ddd0-4d48-ecc1-518993e98392"
      },
      "execution_count": 60,
      "outputs": [
        {
          "output_type": "stream",
          "name": "stdout",
          "text": [
            "Улучшенный бейзлайн Random Forest:\n",
            "Accuracy: 0.9091\n",
            "F1-Score: 0.9066\n",
            "\n",
            "Classification Report:\n",
            "              precision    recall  f1-score   support\n",
            "\n",
            "        High       0.94      0.96      0.95        51\n",
            "         Low       0.85      1.00      0.92        52\n",
            "      Medium       0.95      0.76      0.85        51\n",
            "\n",
            "    accuracy                           0.91       154\n",
            "   macro avg       0.92      0.91      0.91       154\n",
            "weighted avg       0.91      0.91      0.91       154\n",
            "\n"
          ]
        }
      ]
    },
    {
      "cell_type": "markdown",
      "source": [
        "Реализуем собственную имплементацию алгоритма"
      ],
      "metadata": {
        "id": "9bWJbRfZzmZX"
      }
    },
    {
      "cell_type": "code",
      "source": [
        "class CustomRandomForest:\n",
        "    def __init__(self, n_estimators=10, max_depth=None, min_samples_split=2, min_samples_leaf=1):\n",
        "        self.n_estimators = n_estimators\n",
        "        self.max_depth = max_depth\n",
        "        self.min_samples_split = min_samples_split\n",
        "        self.min_samples_leaf = min_samples_leaf\n",
        "        self.trees = []\n",
        "\n",
        "    def fit(self, X, y):\n",
        "        self.trees = []\n",
        "        n_samples = X.shape[0]\n",
        "        for _ in range(self.n_estimators):\n",
        "            indices = np.random.choice(n_samples, n_samples, replace=True)\n",
        "            X_bootstrap = X[indices]\n",
        "            y_bootstrap = np.array(y)[indices]\n",
        "\n",
        "            tree = DecisionTreeClassifier(\n",
        "                max_depth=self.max_depth,\n",
        "                min_samples_split=self.min_samples_split,\n",
        "                min_samples_leaf=self.min_samples_leaf,\n",
        "                random_state=np.random.randint(0, 10000)\n",
        "            )\n",
        "            tree.fit(X_bootstrap, y_bootstrap)\n",
        "            self.trees.append(tree)\n",
        "\n",
        "    def predict(self, X):\n",
        "        tree_predictions = np.array([tree.predict(X) for tree in self.trees])\n",
        "        return np.apply_along_axis(lambda x: Counter(x).most_common(1)[0][0], axis=0, arr=tree_predictions)\n",
        "\n",
        "custom_rf = CustomRandomForest(n_estimators=best_rf.n_estimators, max_depth=best_rf.max_depth,\n",
        "                               min_samples_split=best_rf.min_samples_split, min_samples_leaf=best_rf.min_samples_leaf)\n",
        "custom_rf.fit(X_train, y_train)\n",
        "\n",
        "y_pred_custom_rf = custom_rf.predict(X_test)\n",
        "\n",
        "accuracy_custom_rf = accuracy_score(y_test, y_pred_custom_rf)\n",
        "f1_custom_rf = f1_score(y_test, y_pred_custom_rf, average='weighted')\n",
        "\n",
        "print(\"Реализация Custom Random Forest:\")\n",
        "print(f\"Accuracy: {accuracy_custom_rf:.4f}\")\n",
        "print(f\"F1-Score: {f1_custom_rf:.4f}\")"
      ],
      "metadata": {
        "id": "8FhrKROtzplk",
        "colab": {
          "base_uri": "https://localhost:8080/"
        },
        "outputId": "768566a6-48ab-425c-ee7f-8f05321f3650"
      },
      "execution_count": 61,
      "outputs": [
        {
          "output_type": "stream",
          "name": "stdout",
          "text": [
            "Реализация Custom Random Forest:\n",
            "Accuracy: 0.3312\n",
            "F1-Score: 0.3189\n"
          ]
        }
      ]
    },
    {
      "cell_type": "markdown",
      "source": [
        "Сравним полученные резльтаты:"
      ],
      "metadata": {
        "id": "HySVtgo0zwJp"
      }
    },
    {
      "cell_type": "code",
      "source": [
        "print(\"Сравнение результатов:\")\n",
        "print(f\"Бейзлайн Accuracy: {accuracy_baseline:.4f}, Улучшенный Accuracy: {accuracy_best_rf:.4f}, Custom RF Accuracy: {accuracy_custom_rf:.4f}\")\n",
        "print(f\"Бейзлайн F1-Score: {f1_baseline:.4f}, Улучшенный F1-Score: {f1_best_rf:.4f}, Custom RF F1-Score: {f1_custom_rf:.4f}\")"
      ],
      "metadata": {
        "id": "EH49ui_pzyli",
        "colab": {
          "base_uri": "https://localhost:8080/"
        },
        "outputId": "c1f0ada1-8d87-4b67-c9ac-15da4afb8395"
      },
      "execution_count": 62,
      "outputs": [
        {
          "output_type": "stream",
          "name": "stdout",
          "text": [
            "Сравнение результатов:\n",
            "Бейзлайн Accuracy: 0.9091, Улучшенный Accuracy: 0.9091, Custom RF Accuracy: 0.3312\n",
            "Бейзлайн F1-Score: 0.9071, Улучшенный F1-Score: 0.9066, Custom RF F1-Score: 0.3189\n"
          ]
        }
      ]
    },
    {
      "cell_type": "markdown",
      "source": [
        "## Задача регрессии"
      ],
      "metadata": {
        "id": "R17dFYiJz1bl"
      }
    },
    {
      "cell_type": "markdown",
      "source": [
        "Импортируем нужные библиотеки"
      ],
      "metadata": {
        "id": "EMEaxzK5z-zI"
      }
    },
    {
      "cell_type": "code",
      "source": [
        "import pandas as pd\n",
        "import numpy as np\n",
        "from sklearn.tree import DecisionTreeRegressor\n",
        "from sklearn.model_selection import train_test_split\n",
        "from sklearn.preprocessing import StandardScaler\n",
        "from sklearn.ensemble import RandomForestRegressor\n",
        "from sklearn.model_selection import GridSearchCV\n",
        "from sklearn.metrics import mean_absolute_error, mean_squared_error, r2_score"
      ],
      "metadata": {
        "id": "W3zw0KZu0BDM"
      },
      "execution_count": 63,
      "outputs": []
    },
    {
      "cell_type": "markdown",
      "source": [
        "Загрузим данные датасета, для удобства поменяем названия колонок, разделим данные на тестовую и обучающую выборку"
      ],
      "metadata": {
        "id": "-iekDVYO0DKm"
      }
    },
    {
      "cell_type": "code",
      "source": [
        "data = pd.read_csv(\"energy_efficiency_data.csv\")\n",
        "\n",
        "X = data[\n",
        "    [\n",
        "        \"Relative_Compactness\",\n",
        "        \"Surface_Area\",\n",
        "        \"Wall_Area\",\n",
        "        \"Roof_Area\",\n",
        "        \"Overall_Height\",\n",
        "        \"Orientation\",\n",
        "        \"Glazing_Area\",\n",
        "        \"Glazing_Area_Distribution\",\n",
        "    ]\n",
        "]\n",
        "y_heating = data[\"Heating_Load\"]\n",
        "y_cooling = data[\"Cooling_Load\"]\n",
        "\n",
        "X_train, X_test, y_train_heating, y_test_heating = train_test_split(\n",
        "    X, y_heating, test_size=0.2, random_state=42\n",
        ")\n",
        "X_train, X_test, y_train_cooling, y_test_cooling = train_test_split(\n",
        "    X, y_cooling, test_size=0.2, random_state=42\n",
        ")\n",
        "\n",
        "scaler = StandardScaler()\n",
        "X_train = scaler.fit_transform(X_train)\n",
        "X_test = scaler.transform(X_test)"
      ],
      "metadata": {
        "id": "W56w_ZO60JsR"
      },
      "execution_count": 64,
      "outputs": []
    },
    {
      "cell_type": "markdown",
      "source": [
        "Обучение безлайна и оценка модели"
      ],
      "metadata": {
        "id": "TgQ2LuGX0M_X"
      }
    },
    {
      "cell_type": "code",
      "source": [
        "rf_heating = RandomForestRegressor(random_state=42)\n",
        "rf_heating.fit(X_train, y_train_heating)\n",
        "y_pred_heating = rf_heating.predict(X_test)\n",
        "\n",
        "rf_cooling = RandomForestRegressor(random_state=42)\n",
        "rf_cooling.fit(X_train, y_train_cooling)\n",
        "y_pred_cooling = rf_cooling.predict(X_test)\n",
        "\n",
        "def evaluate_model(y_true, y_pred):\n",
        "    mae = mean_absolute_error(y_true, y_pred)\n",
        "    mse = mean_squared_error(y_true, y_pred)\n",
        "    r2 = r2_score(y_true, y_pred)\n",
        "    return mae, mse, r2\n",
        "\n",
        "print(\"Heating Load Metrics:\")\n",
        "mae_heating, mse_heating, r2_heating = evaluate_model(y_test_heating, y_pred_heating)\n",
        "print(f\"MAE: {mae_heating:.4f}, MSE: {mse_heating:.4f}, R²: {r2_heating:.4f}\")\n",
        "\n",
        "print(\"\\nCooling Load Metrics:\")\n",
        "mae_cooling, mse_cooling, r2_cooling = evaluate_model(y_test_cooling, y_pred_cooling)\n",
        "print(f\"MAE: {mae_cooling:.4f}, MSE: {mse_cooling:.4f}, R²: {r2_cooling:.4f}\")\n"
      ],
      "metadata": {
        "id": "XUHjknmt0QiK",
        "colab": {
          "base_uri": "https://localhost:8080/"
        },
        "outputId": "f4970fde-646f-417f-f7e9-6c100f47bcdc"
      },
      "execution_count": 65,
      "outputs": [
        {
          "output_type": "stream",
          "name": "stdout",
          "text": [
            "Heating Load Metrics:\n",
            "MAE: 0.3578, MSE: 0.2469, R²: 0.9976\n",
            "\n",
            "Cooling Load Metrics:\n",
            "MAE: 1.0721, MSE: 2.9740, R²: 0.9679\n"
          ]
        }
      ]
    },
    {
      "cell_type": "markdown",
      "source": [
        "Подберем гиперпараметры для улучшения модели"
      ],
      "metadata": {
        "id": "rHk74Kbl0S6E"
      }
    },
    {
      "cell_type": "code",
      "source": [
        "param_grid = {\n",
        "    \"n_estimators\": [50, 100, 200],\n",
        "    \"max_depth\": [None, 10, 20, 30],\n",
        "    \"min_samples_split\": [2, 5, 10],\n",
        "    \"min_samples_leaf\": [1, 2, 4],\n",
        "}\n",
        "\n",
        "grid_heating = GridSearchCV(\n",
        "    RandomForestRegressor(random_state=42),\n",
        "    param_grid,\n",
        "    cv=5,\n",
        "    scoring=\"r2\",\n",
        "    verbose=1,\n",
        "    n_jobs=-1,\n",
        ")\n",
        "grid_heating.fit(X_train, y_train_heating)\n",
        "best_params_heating = grid_heating.best_params_\n",
        "print(f\"Лучшие параметры для Heating_Load: {best_params_heating}\")\n",
        "\n",
        "grid_cooling = GridSearchCV(\n",
        "    RandomForestRegressor(random_state=42),\n",
        "    param_grid,\n",
        "    cv=5,\n",
        "    scoring=\"r2\",\n",
        "    verbose=1,\n",
        "    n_jobs=-1,\n",
        ")\n",
        "grid_cooling.fit(X_train, y_train_cooling)\n",
        "best_params_cooling = grid_cooling.best_params_\n",
        "print(f\"Лучшие параметры для Cooling_Load: {best_params_cooling}\")"
      ],
      "metadata": {
        "id": "BFLPJSqK0Xec",
        "colab": {
          "base_uri": "https://localhost:8080/"
        },
        "outputId": "bfe7fcee-7715-48c7-db5e-c3a1acde6621"
      },
      "execution_count": 66,
      "outputs": [
        {
          "output_type": "stream",
          "name": "stdout",
          "text": [
            "Fitting 5 folds for each of 108 candidates, totalling 540 fits\n",
            "Лучшие параметры для Heating_Load: {'max_depth': 10, 'min_samples_leaf': 1, 'min_samples_split': 2, 'n_estimators': 100}\n",
            "Fitting 5 folds for each of 108 candidates, totalling 540 fits\n",
            "Лучшие параметры для Cooling_Load: {'max_depth': 10, 'min_samples_leaf': 1, 'min_samples_split': 2, 'n_estimators': 50}\n"
          ]
        }
      ]
    },
    {
      "cell_type": "markdown",
      "source": [
        "Обучим модели с подобранными гиперпараметрами"
      ],
      "metadata": {
        "id": "9ZpXM08w0fVN"
      }
    },
    {
      "cell_type": "code",
      "source": [
        "rf_heating_optimized = grid_heating.best_estimator_\n",
        "rf_heating_optimized.fit(X_train, y_train_heating)\n",
        "y_pred_heating_optimized = rf_heating_optimized.predict(X_test)\n",
        "\n",
        "rf_cooling_optimized = grid_cooling.best_estimator_\n",
        "rf_cooling_optimized.fit(X_train, y_train_cooling)\n",
        "y_pred_cooling_optimized = rf_cooling_optimized.predict(X_test)\n",
        "\n",
        "print(\"Optimized Heating Load Metrics:\")\n",
        "mae_heating_opt, mse_heating_opt, r2_heating_opt = evaluate_model(\n",
        "    y_test_heating, y_pred_heating_optimized\n",
        ")\n",
        "print(f\"MAE: {mae_heating_opt:.4f}, MSE: {mse_heating_opt:.4f}, R²: {r2_heating_opt:.4f}\")\n",
        "\n",
        "print(\"\\nOptimized Cooling Load Metrics:\")\n",
        "mae_cooling_opt, mse_cooling_opt, r2_cooling_opt = evaluate_model(\n",
        "    y_test_cooling, y_pred_cooling_optimized\n",
        ")\n",
        "print(f\"MAE: {mae_cooling_opt:.4f}, MSE: {mse_cooling_opt:.4f}, R²: {r2_cooling_opt:.4f}\")"
      ],
      "metadata": {
        "id": "yQxlyFv-0jaM",
        "colab": {
          "base_uri": "https://localhost:8080/"
        },
        "outputId": "03b4bd25-2731-4068-d995-b03da5969c13"
      },
      "execution_count": 67,
      "outputs": [
        {
          "output_type": "stream",
          "name": "stdout",
          "text": [
            "Optimized Heating Load Metrics:\n",
            "MAE: 0.3591, MSE: 0.2490, R²: 0.9976\n",
            "\n",
            "Optimized Cooling Load Metrics:\n",
            "MAE: 1.0975, MSE: 3.1505, R²: 0.9660\n"
          ]
        }
      ]
    },
    {
      "cell_type": "markdown",
      "source": [
        "Реализуем собственную имплементацию алгоритма"
      ],
      "metadata": {
        "id": "CM_g704o0o6S"
      }
    },
    {
      "cell_type": "code",
      "source": [
        "class CustomRandomForestRegressor:\n",
        "    def __init__(self, n_estimators=100, max_depth=None, random_state=None):\n",
        "        self.n_estimators = n_estimators\n",
        "        self.max_depth = max_depth\n",
        "        self.random_state = random_state\n",
        "        self.trees = []\n",
        "\n",
        "    def _bootstrap_sample(self, X, y):\n",
        "        X = np.array(X)\n",
        "        y = np.array(y)\n",
        "\n",
        "        n_samples = X.shape[0]\n",
        "        indices = np.random.choice(n_samples, n_samples, replace=True)\n",
        "        return X[indices], y[indices]\n",
        "\n",
        "    def fit(self, X, y):\n",
        "        np.random.seed(self.random_state)\n",
        "        for _ in range(self.n_estimators):\n",
        "            X_sample, y_sample = self._bootstrap_sample(X, y)\n",
        "            tree = DecisionTreeRegressor(max_depth=self.max_depth, random_state=self.random_state)\n",
        "            tree.fit(X_sample, y_sample)\n",
        "            self.trees.append(tree)\n",
        "\n",
        "    def predict(self, X):\n",
        "        predictions = np.array([tree.predict(X) for tree in self.trees])\n",
        "        return np.mean(predictions, axis=0)\n",
        "\n",
        "\n",
        "custom_rf_heating = CustomRandomForestRegressor(n_estimators=100, max_depth=10, random_state=42)\n",
        "custom_rf_heating.fit(X_train, y_train_heating)\n",
        "y_pred_custom_heating = custom_rf_heating.predict(X_test)\n",
        "\n",
        "custom_rf_cooling = CustomRandomForestRegressor(n_estimators=100, max_depth=10, random_state=42)\n",
        "custom_rf_cooling.fit(X_train, y_train_cooling)\n",
        "y_pred_custom_cooling = custom_rf_cooling.predict(X_test)\n",
        "\n",
        "mae_custom_heating, mse_custom_heating, r2_custom_heating = evaluate_model(\n",
        "y_test_heating, y_pred_custom_heating\n",
        ")\n",
        "mae_custom_cooling, mse_custom_cooling, r2_custom_cooling = evaluate_model(\n",
        "y_test_cooling, y_pred_custom_cooling\n",
        ")\n",
        "\n",
        "print(\"Custom Random Forest Heating Load Metrics:\")\n",
        "print(f\"MAE: {mae_custom_heating:.4f}, MSE: {mse_custom_heating:.4f}, R²: {r2_custom_heating:.4f}\")\n",
        "\n",
        "print(\"\\nCustom Random Forest Cooling Load Metrics:\")\n",
        "print(f\"MAE: {mae_custom_cooling:.4f}, MSE: {mse_custom_cooling:.4f}, R²: {r2_custom_cooling:.4f}\")"
      ],
      "metadata": {
        "id": "gjUlhZxg0siu",
        "colab": {
          "base_uri": "https://localhost:8080/"
        },
        "outputId": "49a134fb-6d2d-4bf7-eb14-707324053ccd"
      },
      "execution_count": 68,
      "outputs": [
        {
          "output_type": "stream",
          "name": "stdout",
          "text": [
            "Custom Random Forest Heating Load Metrics:\n",
            "MAE: 0.3639, MSE: 0.2533, R²: 0.9976\n",
            "\n",
            "Custom Random Forest Cooling Load Metrics:\n",
            "MAE: 1.1102, MSE: 3.2962, R²: 0.9644\n"
          ]
        }
      ]
    },
    {
      "cell_type": "markdown",
      "source": [
        "Сравним полученные резльтаты:"
      ],
      "metadata": {
        "id": "MH9i34y300iT"
      }
    },
    {
      "cell_type": "code",
      "source": [
        "print(\"\\nСравнение результатов для Heating Load:\")\n",
        "print(f\"Бейзлайн MAE: {mae_heating:.4f}, Улучшенный MAE: {mae_heating_opt:.4f}, Custom RF MAE: {mae_custom_heating:.4f}\")\n",
        "print(f\"Бейзлайн MSE: {mse_heating:.4f}, Улучшенный MSE: {mse_heating_opt:.4f}, Custom RF MSE: {mse_custom_heating:.4f}\")\n",
        "print(f\"Бейзлайн R²: {r2_heating:.4f}, Улучшенный R²: {r2_heating_opt:.4f}, Custom RF R²: {r2_custom_heating:.4f}\")\n",
        "\n",
        "print(\"\\nСравнение результатов для Cooling Load:\")\n",
        "print(f\"Бейзлайн MAE: {mae_cooling:.4f}, Улучшенный MAE: {mae_cooling_opt:.4f}, Custom RF MAE: {mae_custom_cooling:.4f}\")\n",
        "print(f\"Бейзлайн MSE: {mse_cooling:.4f}, Улучшенный MSE: {mse_cooling_opt:.4f}, Custom RF MSE: {mse_custom_cooling:.4f}\")\n",
        "print(f\"Бейзлайн R²: {r2_cooling:.4f}, Улучшенный R²: {r2_cooling_opt:.4f}, Custom RF R²: {r2_custom_cooling:.4f}\")\n"
      ],
      "metadata": {
        "colab": {
          "base_uri": "https://localhost:8080/"
        },
        "id": "G_QTs-VD04M0",
        "outputId": "31050b09-3f19-4e9a-fc37-5ba99e4a9a93"
      },
      "execution_count": 69,
      "outputs": [
        {
          "output_type": "stream",
          "name": "stdout",
          "text": [
            "\n",
            "Сравнение результатов для Heating Load:\n",
            "Бейзлайн MAE: 0.3578, Улучшенный MAE: 0.3591, Custom RF MAE: 0.3639\n",
            "Бейзлайн MSE: 0.2469, Улучшенный MSE: 0.2490, Custom RF MSE: 0.2533\n",
            "Бейзлайн R²: 0.9976, Улучшенный R²: 0.9976, Custom RF R²: 0.9976\n",
            "\n",
            "Сравнение результатов для Cooling Load:\n",
            "Бейзлайн MAE: 1.0721, Улучшенный MAE: 1.0975, Custom RF MAE: 1.1102\n",
            "Бейзлайн MSE: 2.9740, Улучшенный MSE: 3.1505, Custom RF MSE: 3.2962\n",
            "Бейзлайн R²: 0.9679, Улучшенный R²: 0.9660, Custom RF R²: 0.9644\n"
          ]
        }
      ]
    },
    {
      "cell_type": "markdown",
      "source": [
        "# Алгоритм градиентного бустинга"
      ],
      "metadata": {
        "id": "fG-hDPhJ1NVU"
      }
    },
    {
      "cell_type": "markdown",
      "source": [
        "## Задача классификации"
      ],
      "metadata": {
        "id": "CpncbRZL1QwT"
      }
    },
    {
      "cell_type": "markdown",
      "source": [
        "Импортируем нужные библиотеки"
      ],
      "metadata": {
        "id": "xrmXFQTv1ZXY"
      }
    },
    {
      "cell_type": "code",
      "source": [
        "import numpy as np\n",
        "import pandas as pd\n",
        "from sklearn.model_selection import train_test_split, GridSearchCV\n",
        "from sklearn.preprocessing import StandardScaler\n",
        "from sklearn.ensemble import GradientBoostingClassifier\n",
        "from sklearn.tree import DecisionTreeClassifier\n",
        "from collections import Counter\n",
        "from sklearn.metrics import accuracy_score, f1_score, classification_report"
      ],
      "metadata": {
        "id": "s7LjnkyL1YrI"
      },
      "execution_count": 70,
      "outputs": []
    },
    {
      "cell_type": "markdown",
      "source": [
        "Загрузим данные датасета, для удобства поменяем названия колонок и выведем первые данные датасета для просмотра"
      ],
      "metadata": {
        "id": "nM7e_6XD1b66"
      }
    },
    {
      "cell_type": "code",
      "source": [
        "data = pd.read_csv('energy_efficiency_data.csv')\n",
        "\n",
        "data.columns = [\n",
        "    \"Relative_Compactness\", \"Surface_Area\", \"Wall_Area\", \"Roof_Area\",\n",
        "    \"Overall_Height\", \"Orientation\", \"Glazing_Area\", \"Glazing_Area_Distribution\",\n",
        "    \"Heating_Load\", \"Cooling_Load\"\n",
        "]"
      ],
      "metadata": {
        "id": "ZV5gZuNyxt_e"
      },
      "execution_count": 71,
      "outputs": []
    },
    {
      "cell_type": "markdown",
      "source": [
        "Выберем переменную для классификации, и для удобства удалил ненужные столбцы\n"
      ],
      "metadata": {
        "id": "V1O2wn681eD5"
      }
    },
    {
      "cell_type": "code",
      "source": [
        "data['Heating_Load_Class'] = pd.qcut(data['Heating_Load'], q=3, labels=['Low', 'Medium', 'High'])\n",
        "\n",
        "data = data.drop(['Heating_Load', 'Cooling_Load'], axis=1)"
      ],
      "metadata": {
        "id": "_IMn3Q5q1gzs"
      },
      "execution_count": 72,
      "outputs": []
    },
    {
      "cell_type": "markdown",
      "source": [
        "Разделим датасет на тестовую и обучающую выборки"
      ],
      "metadata": {
        "id": "nScVQVD91kjW"
      }
    },
    {
      "cell_type": "code",
      "source": [
        "X = data.drop('Heating_Load_Class', axis=1)\n",
        "y = data['Heating_Load_Class']\n",
        "\n",
        "scaler = StandardScaler()\n",
        "X_scaled = scaler.fit_transform(X)\n",
        "\n",
        "X_train, X_test, y_train, y_test = train_test_split(X_scaled, y, test_size=0.2, random_state=42, stratify=y)\n",
        "\n",
        "print(f\"Размер обучающей выборки: {X_train.shape}, Размер тестовой выборки: {X_test.shape}\")"
      ],
      "metadata": {
        "id": "eGcKFKxy1nwP",
        "colab": {
          "base_uri": "https://localhost:8080/"
        },
        "outputId": "8fc774b6-25ce-47ef-9a28-297dde136f04"
      },
      "execution_count": 73,
      "outputs": [
        {
          "output_type": "stream",
          "name": "stdout",
          "text": [
            "Размер обучающей выборки: (614, 8), Размер тестовой выборки: (154, 8)\n"
          ]
        }
      ]
    },
    {
      "cell_type": "markdown",
      "source": [
        "Применим встроенный алгоритм для градиентного бустинга"
      ],
      "metadata": {
        "id": "_Xvz7Ien1sAh"
      }
    },
    {
      "cell_type": "code",
      "source": [
        "gb_baseline = GradientBoostingClassifier(random_state=42)\n",
        "gb_baseline.fit(X_train, y_train)\n",
        "\n",
        "y_pred_baseline = gb_baseline.predict(X_test)\n",
        "\n",
        "accuracy_baseline = accuracy_score(y_test, y_pred_baseline)\n",
        "f1_baseline = f1_score(y_test, y_pred_baseline, average='weighted')\n",
        "\n",
        "print(\"Бейзлайн (Gradient Boosting):\")\n",
        "print(f\"Accuracy: {accuracy_baseline:.4f}\")\n",
        "print(f\"F1-Score: {f1_baseline:.4f}\")\n",
        "print(\"\\nClassification Report:\")\n",
        "print(classification_report(y_test, y_pred_baseline))"
      ],
      "metadata": {
        "colab": {
          "base_uri": "https://localhost:8080/"
        },
        "id": "z6IXZOop1wQy",
        "outputId": "dc851e9c-be5f-460f-b6b8-66fccc5416d6"
      },
      "execution_count": 74,
      "outputs": [
        {
          "output_type": "stream",
          "name": "stdout",
          "text": [
            "Бейзлайн (Gradient Boosting):\n",
            "Accuracy: 0.9481\n",
            "F1-Score: 0.9473\n",
            "\n",
            "Classification Report:\n",
            "              precision    recall  f1-score   support\n",
            "\n",
            "        High       0.96      0.98      0.97        51\n",
            "         Low       0.91      1.00      0.95        52\n",
            "      Medium       0.98      0.86      0.92        51\n",
            "\n",
            "    accuracy                           0.95       154\n",
            "   macro avg       0.95      0.95      0.95       154\n",
            "weighted avg       0.95      0.95      0.95       154\n",
            "\n"
          ]
        }
      ]
    },
    {
      "cell_type": "markdown",
      "source": [
        "Подберем гиперпараметры для улучшения безлайна"
      ],
      "metadata": {
        "id": "5MYCnjar1wCq"
      }
    },
    {
      "cell_type": "code",
      "source": [
        "param_grid = {\n",
        "    'n_estimators': [50, 100, 200],\n",
        "    'learning_rate': [0.01, 0.1, 0.2],\n",
        "    'max_depth': [3, 5, 7],\n",
        "    'subsample': [0.8, 1.0],\n",
        "    'min_samples_split': [2, 5, 10]\n",
        "}\n",
        "\n",
        "grid_search = GridSearchCV(\n",
        "    GradientBoostingClassifier(random_state=42),\n",
        "    param_grid,\n",
        "    cv=5,\n",
        "    scoring='accuracy',\n",
        "    verbose=1,\n",
        "    n_jobs=-1\n",
        ")\n",
        "grid_search.fit(X_train, y_train)\n",
        "\n",
        "best_params = grid_search.best_params_\n",
        "print(f\"Лучшие параметры: {best_params}\")"
      ],
      "metadata": {
        "colab": {
          "base_uri": "https://localhost:8080/"
        },
        "id": "m9LYFOBT11x4",
        "outputId": "2a3ec987-040a-4d89-a4d5-c3f2096b081c"
      },
      "execution_count": 75,
      "outputs": [
        {
          "output_type": "stream",
          "name": "stdout",
          "text": [
            "Fitting 5 folds for each of 162 candidates, totalling 810 fits\n",
            "Лучшие параметры: {'learning_rate': 0.1, 'max_depth': 5, 'min_samples_split': 10, 'n_estimators': 50, 'subsample': 1.0}\n"
          ]
        }
      ]
    },
    {
      "cell_type": "markdown",
      "source": [
        "Проведем обучение улучшенной модели и посчитаем метрики"
      ],
      "metadata": {
        "id": "hVhSJ0dQ153g"
      }
    },
    {
      "cell_type": "code",
      "source": [
        "gb_best = grid_search.best_estimator_\n",
        "\n",
        "y_pred_best = gb_best.predict(X_test)\n",
        "\n",
        "accuracy_best = accuracy_score(y_test, y_pred_best)\n",
        "f1_best = f1_score(y_test, y_pred_best, average='weighted')\n",
        "\n",
        "print(\"Улучшенный бейзлайн (Gradient Boosting):\")\n",
        "print(f\"Accuracy: {accuracy_best:.4f}\")\n",
        "print(f\"F1-Score: {f1_best:.4f}\")\n",
        "print(\"\\nClassification Report:\")\n",
        "print(classification_report(y_test, y_pred_best))"
      ],
      "metadata": {
        "id": "7PalWDpn192p",
        "colab": {
          "base_uri": "https://localhost:8080/"
        },
        "outputId": "961137f2-bf77-40d1-8bcc-58a102df25b4"
      },
      "execution_count": 76,
      "outputs": [
        {
          "output_type": "stream",
          "name": "stdout",
          "text": [
            "Улучшенный бейзлайн (Gradient Boosting):\n",
            "Accuracy: 0.9351\n",
            "F1-Score: 0.9345\n",
            "\n",
            "Classification Report:\n",
            "              precision    recall  f1-score   support\n",
            "\n",
            "        High       0.96      0.98      0.97        51\n",
            "         Low       0.91      0.96      0.93        52\n",
            "      Medium       0.94      0.86      0.90        51\n",
            "\n",
            "    accuracy                           0.94       154\n",
            "   macro avg       0.94      0.93      0.93       154\n",
            "weighted avg       0.94      0.94      0.93       154\n",
            "\n"
          ]
        }
      ]
    },
    {
      "cell_type": "markdown",
      "source": [
        "Реализуем собственную имплементацию алгоритма"
      ],
      "metadata": {
        "id": "QNdlCzpv2IBa"
      }
    },
    {
      "cell_type": "code",
      "source": [
        "class CustomGradientBoosting:\n",
        "    def __init__(self, n_estimators=10, learning_rate=0.1, max_depth=3, min_samples_split=2, min_samples_leaf=1):\n",
        "        self.n_estimators = n_estimators\n",
        "        self.learning_rate = learning_rate\n",
        "        self.max_depth = max_depth\n",
        "        self.min_samples_split = min_samples_split\n",
        "        self.min_samples_leaf = min_samples_leaf\n",
        "        self.models = []\n",
        "        self.learning_rate = learning_rate\n",
        "\n",
        "    def fit(self, X, y):\n",
        "        self.classes = np.unique(y)\n",
        "        y_encoded = np.array([self.classes.tolist().index(label) for label in y])\n",
        "        n_classes = len(self.classes)\n",
        "        self.models = []\n",
        "        F_m = np.zeros((X.shape[0], n_classes))\n",
        "        for i in range(self.n_estimators):\n",
        "            gradient = np.zeros((X.shape[0], n_classes))\n",
        "            for k in range(n_classes):\n",
        "                indicator = (y_encoded == k).astype(int)\n",
        "                probability = self._softmax(F_m[:, k])\n",
        "                gradient[:, k] = indicator - probability\n",
        "\n",
        "            tree = DecisionTreeClassifier(\n",
        "                max_depth=self.max_depth,\n",
        "                min_samples_split=self.min_samples_split,\n",
        "                min_samples_leaf=self.min_samples_leaf,\n",
        "                random_state=np.random.randint(0, 10000)\n",
        "            )\n",
        "            tree.fit(X, gradient.argmax(axis=1))\n",
        "            self.models.append(tree)\n",
        "\n",
        "            for k in range(n_classes):\n",
        "                F_m[:, k] += self.learning_rate * tree.predict_proba(X)[:, k]\n",
        "\n",
        "    def _softmax(self, x):\n",
        "        exp_x = np.exp(x - np.max(x))\n",
        "        return exp_x / exp_x.sum(axis=0)\n",
        "\n",
        "    def predict(self, X):\n",
        "        F_m = np.zeros((X.shape[0], len(self.classes)))\n",
        "\n",
        "        for tree in self.models:\n",
        "            tree_probs = tree.predict_proba(X)\n",
        "            for k in range(len(self.classes)):\n",
        "                F_m[:, k] += self.learning_rate * tree_probs[:, k]\n",
        "\n",
        "        y_pred_indices = np.argmax(F_m, axis=1)\n",
        "        return np.array([self.classes[i] for i in y_pred_indices])\n",
        "\n",
        "\n",
        "custom_gb = CustomGradientBoosting(\n",
        "    n_estimators=50,\n",
        "    learning_rate=0.1,\n",
        "    max_depth=3,\n",
        "    min_samples_split=2,\n",
        "    min_samples_leaf=1\n",
        ")\n",
        "\n",
        "custom_gb.fit(X_train, y_train)\n",
        "\n",
        "y_pred_custom_gb = custom_gb.predict(X_test)\n",
        "\n",
        "accuracy_custom_gb = accuracy_score(y_test, y_pred_custom_gb)\n",
        "f1_custom_gb = f1_score(y_test, y_pred_custom_gb, average='weighted')\n",
        "\n",
        "print(\"Реализация Custom Gradient Boosting:\")\n",
        "print(f\"Accuracy: {accuracy_custom_gb:.4f}\")\n",
        "print(f\"F1-Score: {f1_custom_gb:.4f}\")\n"
      ],
      "metadata": {
        "id": "pzruZsCy2LBn",
        "colab": {
          "base_uri": "https://localhost:8080/"
        },
        "outputId": "61c3386c-8e37-4fab-bc47-50182eac83a9"
      },
      "execution_count": 77,
      "outputs": [
        {
          "output_type": "stream",
          "name": "stdout",
          "text": [
            "Реализация Custom Gradient Boosting:\n",
            "Accuracy: 0.8247\n",
            "F1-Score: 0.8217\n"
          ]
        }
      ]
    },
    {
      "cell_type": "markdown",
      "source": [
        "Сравним полученные резльтаты:"
      ],
      "metadata": {
        "id": "4FcHgQ9I2lcl"
      }
    },
    {
      "cell_type": "code",
      "source": [
        "print(\"Сравнение результатов:\")\n",
        "print(f\"Бейзлайн Accuracy: {accuracy_baseline:.4f}, Улучшенный Accuracy: {accuracy_best:.4f}, Custom Gradient Boosting Accuracy: {accuracy_custom_gb:.4f}\")\n",
        "print(f\"Бейзлайн F1-Score: {f1_baseline:.4f}, Улучшенный F1-Score: {f1_best:.4f}, Custom Gradient Boosting F1-Score: {f1_custom_gb:.4f}\")"
      ],
      "metadata": {
        "id": "Uxsns6mI2pqO",
        "colab": {
          "base_uri": "https://localhost:8080/"
        },
        "outputId": "35389df7-0e2e-4032-f497-3afea95c5730"
      },
      "execution_count": 78,
      "outputs": [
        {
          "output_type": "stream",
          "name": "stdout",
          "text": [
            "Сравнение результатов:\n",
            "Бейзлайн Accuracy: 0.9481, Улучшенный Accuracy: 0.9351, Custom Gradient Boosting Accuracy: 0.8247\n",
            "Бейзлайн F1-Score: 0.9473, Улучшенный F1-Score: 0.9345, Custom Gradient Boosting F1-Score: 0.8217\n"
          ]
        }
      ]
    },
    {
      "cell_type": "markdown",
      "source": [
        "## Задача регрессии"
      ],
      "metadata": {
        "id": "39bzxRWi2tJi"
      }
    },
    {
      "cell_type": "markdown",
      "source": [
        "Импортируем нужные библиотеки"
      ],
      "metadata": {
        "id": "nfOO70D62wg2"
      }
    },
    {
      "cell_type": "code",
      "source": [
        "import pandas as pd\n",
        "import numpy as np\n",
        "from sklearn.model_selection import train_test_split\n",
        "from sklearn.preprocessing import StandardScaler\n",
        "from sklearn.tree import DecisionTreeRegressor\n",
        "from sklearn.neighbors import KNeighborsRegressor\n",
        "from sklearn.ensemble import GradientBoostingRegressor\n",
        "from sklearn.metrics import mean_absolute_error, mean_squared_error, r2_score"
      ],
      "metadata": {
        "id": "SY_2TE9G20se"
      },
      "execution_count": 79,
      "outputs": []
    },
    {
      "cell_type": "markdown",
      "source": [
        "Загрузим данные датасета, для удобства поменяем названия колонок, разделим данные на тестовую и обучающую выборку"
      ],
      "metadata": {
        "id": "neBWp4uI27wC"
      }
    },
    {
      "cell_type": "code",
      "source": [
        "data = pd.read_csv(\"energy_efficiency_data.csv\")\n",
        "\n",
        "X = data[\n",
        "[\n",
        "\"Relative_Compactness\",\n",
        "\"Surface_Area\",\n",
        "\"Wall_Area\",\n",
        "\"Roof_Area\",\n",
        "\"Overall_Height\",\n",
        "\"Orientation\",\n",
        "\"Glazing_Area\",\n",
        "\"Glazing_Area_Distribution\",\n",
        "]\n",
        "]\n",
        "y_heating = data[\"Heating_Load\"]\n",
        "y_cooling = data[\"Cooling_Load\"]\n",
        "\n",
        "X_train, X_test, y_train_heating, y_test_heating = train_test_split(\n",
        "X, y_heating, test_size=0.2, random_state=42\n",
        ")\n",
        "X_train, X_test, y_train_cooling, y_test_cooling = train_test_split(\n",
        "X, y_cooling, test_size=0.2, random_state=42\n",
        ")\n",
        "\n",
        "scaler = StandardScaler()\n",
        "X_train = scaler.fit_transform(X_train)\n",
        "X_test = scaler.transform(X_test)"
      ],
      "metadata": {
        "id": "WcYtX6x928Xi"
      },
      "execution_count": 80,
      "outputs": []
    },
    {
      "cell_type": "markdown",
      "source": [
        "Обучение безлайна и оценка модели"
      ],
      "metadata": {
        "id": "xwX1chk62-Q1"
      }
    },
    {
      "cell_type": "code",
      "source": [
        "gb_baseline_heating = GradientBoostingRegressor(random_state=42)\n",
        "gb_baseline_heating.fit(X_train, y_train_heating)\n",
        "y_pred_heating_gb = gb_baseline_heating.predict(X_test)\n",
        "\n",
        "gb_baseline_cooling = GradientBoostingRegressor(random_state=42)\n",
        "gb_baseline_cooling.fit(X_train, y_train_cooling)\n",
        "y_pred_cooling_gb = gb_baseline_cooling.predict(X_test)\n",
        "\n",
        "def evaluate_model(y_true, y_pred):\n",
        "    mae = mean_absolute_error(y_true, y_pred)\n",
        "    mse = mean_squared_error(y_true, y_pred)\n",
        "    r2 = r2_score(y_true, y_pred)\n",
        "    return mae, mse, r2\n",
        "\n",
        "print(\"Baseline Gradient Boosting - Heating Load:\")\n",
        "mae_heating_gb, mse_heating_gb, r2_heating_gb = evaluate_model(y_test_heating, y_pred_heating_gb)\n",
        "print(f\"MAE: {mae_heating_gb:.4f}, MSE: {mse_heating_gb:.4f}, R²: {r2_heating_gb:.4f}\")\n",
        "\n",
        "print(\"\\nBaseline Gradient Boosting - Cooling Load:\")\n",
        "mae_cooling_gb, mse_cooling_gb, r2_cooling_gb = evaluate_model(y_test_cooling, y_pred_cooling_gb)\n",
        "print(f\"MAE: {mae_cooling_gb:.4f}, MSE: {mse_cooling_gb:.4f}, R²: {r2_cooling_gb:.4f}\")"
      ],
      "metadata": {
        "id": "7SJrAYPJ3Ac7",
        "colab": {
          "base_uri": "https://localhost:8080/"
        },
        "outputId": "aa0f3f71-3fac-42ac-8c8f-17abefdf9c97"
      },
      "execution_count": 81,
      "outputs": [
        {
          "output_type": "stream",
          "name": "stdout",
          "text": [
            "Baseline Gradient Boosting - Heating Load:\n",
            "MAE: 0.3862, MSE: 0.2653, R²: 0.9975\n",
            "\n",
            "Baseline Gradient Boosting - Cooling Load:\n",
            "MAE: 1.0573, MSE: 2.2935, R²: 0.9752\n"
          ]
        }
      ]
    },
    {
      "cell_type": "markdown",
      "source": [
        "Подберем гиперпараметры для улучшения модели"
      ],
      "metadata": {
        "id": "cKUJOCIP3JGL"
      }
    },
    {
      "cell_type": "code",
      "source": [
        "param_grid = {\n",
        "    \"n_estimators\": [50, 100, 150],\n",
        "    \"learning_rate\": [0.01, 0.1, 0.2],\n",
        "    \"max_depth\": [3, 5, 7],\n",
        "}\n",
        "\n",
        "grid_gb_heating = GridSearchCV(GradientBoostingRegressor(random_state=42), param_grid, cv=5, scoring=\"r2\", verbose=1)\n",
        "grid_gb_heating.fit(X_train, y_train_heating)\n",
        "best_gb_heating = grid_gb_heating.best_estimator_\n",
        "\n",
        "grid_gb_cooling = GridSearchCV(GradientBoostingRegressor(random_state=42), param_grid, cv=5, scoring=\"r2\", verbose=1)\n",
        "grid_gb_cooling.fit(X_train, y_train_cooling)\n",
        "best_gb_cooling = grid_gb_cooling.best_estimator_"
      ],
      "metadata": {
        "id": "OlyCiAXf3LP0",
        "colab": {
          "base_uri": "https://localhost:8080/"
        },
        "outputId": "028b5859-a037-4214-a2c8-526822e94cdc"
      },
      "execution_count": 82,
      "outputs": [
        {
          "output_type": "stream",
          "name": "stdout",
          "text": [
            "Fitting 5 folds for each of 27 candidates, totalling 135 fits\n",
            "Fitting 5 folds for each of 27 candidates, totalling 135 fits\n"
          ]
        }
      ]
    },
    {
      "cell_type": "markdown",
      "source": [
        "Обучим модели с подобранными гиперпараметрами"
      ],
      "metadata": {
        "id": "YrrvomOM3N_M"
      }
    },
    {
      "cell_type": "code",
      "source": [
        "y_pred_heating_gb_opt = best_gb_heating.predict(X_test)\n",
        "y_pred_cooling_gb_opt = best_gb_cooling.predict(X_test)\n",
        "\n",
        "print(\"Optimized Gradient Boosting - Heating Load:\")\n",
        "mae_heating_gb_opt, mse_heating_gb_opt, r2_heating_gb_opt = evaluate_model(y_test_heating, y_pred_heating_gb_opt)\n",
        "print(f\"MAE: {mae_heating_gb_opt:.4f}, MSE: {mse_heating_gb_opt:.4f}, R²: {r2_heating_gb_opt:.4f}\")\n",
        "\n",
        "print(\"\\nOptimized Gradient Boosting - Cooling Load:\")\n",
        "mae_cooling_gb_opt, mse_cooling_gb_opt, r2_cooling_gb_opt = evaluate_model(y_test_cooling, y_pred_cooling_gb_opt)\n",
        "print(f\"MAE: {mae_cooling_gb_opt:.4f}, MSE: {mse_cooling_gb_opt:.4f}, R²: {r2_cooling_gb_opt:.4f}\")"
      ],
      "metadata": {
        "id": "bYifVroQ3RZR",
        "colab": {
          "base_uri": "https://localhost:8080/"
        },
        "outputId": "c6ada607-eb23-40dd-f88e-64781aa59698"
      },
      "execution_count": 83,
      "outputs": [
        {
          "output_type": "stream",
          "name": "stdout",
          "text": [
            "Optimized Gradient Boosting - Heating Load:\n",
            "MAE: 0.2579, MSE: 0.1675, R²: 0.9984\n",
            "\n",
            "Optimized Gradient Boosting - Cooling Load:\n",
            "MAE: 0.4953, MSE: 0.6241, R²: 0.9933\n"
          ]
        }
      ]
    },
    {
      "cell_type": "markdown",
      "source": [
        "Реализуем собственную имплементацию алгоритма"
      ],
      "metadata": {
        "id": "TN_GeRtw3Slo"
      }
    },
    {
      "cell_type": "code",
      "source": [
        "class CustomGradientBoostingRegressor:\n",
        "    def __init__(self, n_estimators=100, learning_rate=0.1, max_depth=3):\n",
        "        self.n_estimators = n_estimators\n",
        "        self.learning_rate = learning_rate\n",
        "        self.max_depth = max_depth\n",
        "        self.models = []\n",
        "        self.base_prediction = None\n",
        "\n",
        "    def fit(self, X, y):\n",
        "        self.base_prediction = np.mean(y)\n",
        "        residuals = y - self.base_prediction\n",
        "\n",
        "        for _ in range(self.n_estimators):\n",
        "            tree = DecisionTreeRegressor(max_depth=self.max_depth)\n",
        "            tree.fit(X, residuals)\n",
        "            predictions = tree.predict(X)\n",
        "\n",
        "            residuals -= self.learning_rate * predictions\n",
        "            self.models.append(tree)\n",
        "\n",
        "    def predict(self, X):\n",
        "        predictions = np.full(X.shape[0], self.base_prediction)\n",
        "\n",
        "        for tree in self.models:\n",
        "            predictions += self.learning_rate * tree.predict(X)\n",
        "\n",
        "        return predictions\n",
        "\n",
        "custom_gb_heating = CustomGradientBoostingRegressor(n_estimators=100, learning_rate=0.1, max_depth=3)\n",
        "custom_gb_heating.fit(X_train, y_train_heating)\n",
        "y_pred_custom_heating = custom_gb_heating.predict(X_test)\n",
        "\n",
        "custom_gb_cooling = CustomGradientBoostingRegressor(n_estimators=100, learning_rate=0.1, max_depth=3)\n",
        "custom_gb_cooling.fit(X_train, y_train_cooling)\n",
        "y_pred_custom_cooling = custom_gb_cooling.predict(X_test)\n",
        "\n",
        "print(\"Custom Gradient Boosting - Heating Load:\")\n",
        "mae_custom_heating, mse_custom_heating, r2_custom_heating = evaluate_model(y_test_heating, y_pred_custom_heating)\n",
        "print(f\"MAE: {mae_custom_heating:.4f}, MSE: {mse_custom_heating:.4f}, R²: {r2_custom_heating:.4f}\")\n",
        "\n",
        "print(\"\\nCustom Gradient Boosting - Cooling Load:\")\n",
        "mae_custom_cooling, mse_custom_cooling, r2_custom_cooling = evaluate_model(y_test_cooling, y_pred_custom_cooling)\n",
        "print(f\"MAE: {mae_custom_cooling:.4f}, MSE: {mse_custom_cooling:.4f}, R²: {r2_custom_cooling:.4f}\")\n"
      ],
      "metadata": {
        "id": "DeBNsozz3Uv3",
        "colab": {
          "base_uri": "https://localhost:8080/"
        },
        "outputId": "a292886c-6f61-4b3f-c6c1-7060225ae654"
      },
      "execution_count": 84,
      "outputs": [
        {
          "output_type": "stream",
          "name": "stdout",
          "text": [
            "Custom Gradient Boosting - Heating Load:\n",
            "MAE: 0.3853, MSE: 0.2638, R²: 0.9975\n",
            "\n",
            "Custom Gradient Boosting - Cooling Load:\n",
            "MAE: 1.0573, MSE: 2.2931, R²: 0.9753\n"
          ]
        }
      ]
    },
    {
      "cell_type": "markdown",
      "source": [
        "Сравнение всех полученных результатов"
      ],
      "metadata": {
        "id": "Kgrf5G7u3c_d"
      }
    },
    {
      "cell_type": "code",
      "source": [
        "print(\"\\nСравнение результатов для Heating Load:\")\n",
        "print(f\"Baseline MAE: {mae_heating_gb:.4f}, Optimized MAE: {mae_heating_gb_opt:.4f}, Custom MAE: {mae_custom_heating:.4f}\")\n",
        "print(f\"Baseline MSE: {mse_heating_gb:.4f}, Optimized MSE: {mse_heating_gb_opt:.4f}, Custom MSE: {mse_custom_heating:.4f}\")\n",
        "print(f\"Baseline R²: {r2_heating_gb:.4f}, Optimized R²: {r2_heating_gb_opt:.4f}, Custom R²: {r2_custom_heating:.4f}\")\n",
        "\n",
        "print(\"\\nСравнение результатов для Cooling Load:\")\n",
        "print(f\"Baseline MAE: {mae_cooling_gb:.4f}, Optimized MAE: {mae_cooling_gb_opt:.4f}, Custom MAE: {mae_custom_cooling:.4f}\")\n",
        "print(f\"Baseline MSE: {mse_cooling_gb:.4f}, Optimized MSE: {mse_cooling_gb_opt:.4f}, Custom MSE: {mse_custom_cooling:.4f}\")\n",
        "print(f\"Baseline R²: {r2_cooling_gb:.4f}, Optimized R²: {r2_cooling_gb_opt:.4f}, Custom R²: {r2_custom_cooling:.4f}\")\n"
      ],
      "metadata": {
        "id": "tHKSh8js3fJf",
        "colab": {
          "base_uri": "https://localhost:8080/"
        },
        "outputId": "1a8d9869-0655-4635-e86c-5d0bb4d1e367"
      },
      "execution_count": 85,
      "outputs": [
        {
          "output_type": "stream",
          "name": "stdout",
          "text": [
            "\n",
            "Сравнение результатов для Heating Load:\n",
            "Baseline MAE: 0.3862, Optimized MAE: 0.2579, Custom MAE: 0.3853\n",
            "Baseline MSE: 0.2653, Optimized MSE: 0.1675, Custom MSE: 0.2638\n",
            "Baseline R²: 0.9975, Optimized R²: 0.9984, Custom R²: 0.9975\n",
            "\n",
            "Сравнение результатов для Cooling Load:\n",
            "Baseline MAE: 1.0573, Optimized MAE: 0.4953, Custom MAE: 1.0573\n",
            "Baseline MSE: 2.2935, Optimized MSE: 0.6241, Custom MSE: 2.2931\n",
            "Baseline R²: 0.9752, Optimized R²: 0.9933, Custom R²: 0.9753\n"
          ]
        }
      ]
    }
  ]
}